{
 "cells": [
  {
   "cell_type": "markdown",
   "metadata": {},
   "source": [
    "[![xtensor](Amego_banner.png)](https://asd.gsfc.nasa.gov/amego/)\n",
    "\n",
    "\n",
    "You can find MEGAlib basic documentation here: http://megalibtoolkit.com/home.html"
   ]
  },
  {
   "cell_type": "code",
   "execution_count": 1,
   "metadata": {},
   "outputs": [],
   "source": [
    "import os\n",
    "import numpy as np\n",
    "import pandas as pd\n",
    "import ipywidgets as widgets\n",
    "import matplotlib.pyplot as plt\n",
    "from IPython.display import display, HTML\n",
    "from ipywidgets import Layout, interactive\n",
    "\n",
    "from gwidgets import SelectFilesButton\n",
    "from gParsing import SimFileParser_general, SimFileParser_events\n",
    "from gParsing import DetectorIDdict"
   ]
  },
  {
   "cell_type": "markdown",
   "metadata": {},
   "source": [
    "# Upload your .sim file "
   ]
  },
  {
   "cell_type": "markdown",
   "metadata": {
    "hide_input": true
   },
   "source": [
    "Browse the simulated file (.sim file by cosima run):"
   ]
  },
  {
   "cell_type": "code",
   "execution_count": 2,
   "metadata": {
    "cell_style": "split",
    "hide_input": false,
    "scrolled": false
   },
   "outputs": [
    {
     "data": {
      "application/vnd.jupyter.widget-view+json": {
       "model_id": "94ea0f766ec04855bc8c9c1a7735c8f7",
       "version_major": 2,
       "version_minor": 0
      },
      "text/plain": [
       "SelectFilesButton(description=u'Select Files', icon=u'square-o', style=ButtonStyle(button_color='gray'))"
      ]
     },
     "metadata": {},
     "output_type": "display_data"
    }
   ],
   "source": [
    "browse_file = SelectFilesButton()\n",
    "browse_file"
   ]
  },
  {
   "cell_type": "code",
   "execution_count": 3,
   "metadata": {
    "cell_style": "split"
   },
   "outputs": [
    {
     "data": {
      "text/plain": [
       "'/Users/isabellabrewer/astropix/AtlasPix/HomogeneousBeam_mono2MeV_rndpol_evt1e5_newtrgg.inc1.id1.sim'"
      ]
     },
     "execution_count": 3,
     "metadata": {},
     "output_type": "execute_result"
    }
   ],
   "source": [
    "sim_file = browse_file.files[0]\n",
    "sim_file"
   ]
  },
  {
   "cell_type": "markdown",
   "metadata": {},
   "source": [
    "## Access the simulation main infos"
   ]
  },
  {
   "cell_type": "code",
   "execution_count": 4,
   "metadata": {},
   "outputs": [],
   "source": [
    "general_infos = SimFileParser_general(sim_file)\n",
    "df_general = pd.DataFrame(general_infos)"
   ]
  },
  {
   "cell_type": "markdown",
   "metadata": {},
   "source": [
    "Here is your dataframe:"
   ]
  },
  {
   "cell_type": "code",
   "execution_count": 5,
   "metadata": {},
   "outputs": [
    {
     "data": {
      "text/html": [
       "<div>\n",
       "<style scoped>\n",
       "    .dataframe tbody tr th:only-of-type {\n",
       "        vertical-align: middle;\n",
       "    }\n",
       "\n",
       "    .dataframe tbody tr th {\n",
       "        vertical-align: top;\n",
       "    }\n",
       "\n",
       "    .dataframe thead th {\n",
       "        text-align: right;\n",
       "    }\n",
       "</style>\n",
       "<table border=\"1\" class=\"dataframe\">\n",
       "  <thead>\n",
       "    <tr style=\"text-align: right;\">\n",
       "      <th></th>\n",
       "      <th>Version</th>\n",
       "      <th>Geometry</th>\n",
       "      <th>Date</th>\n",
       "      <th>MEGAlib</th>\n",
       "    </tr>\n",
       "  </thead>\n",
       "  <tbody>\n",
       "    <tr>\n",
       "      <th>0</th>\n",
       "      <td>25</td>\n",
       "      <td>AtlasPix.geo.setup</td>\n",
       "      <td>2020-02-12</td>\n",
       "      <td>2.34.01</td>\n",
       "    </tr>\n",
       "    <tr>\n",
       "      <th>1</th>\n",
       "      <td></td>\n",
       "      <td></td>\n",
       "      <td>13:47:05</td>\n",
       "      <td></td>\n",
       "    </tr>\n",
       "    <tr>\n",
       "      <th>2</th>\n",
       "      <td></td>\n",
       "      <td></td>\n",
       "      <td></td>\n",
       "      <td></td>\n",
       "    </tr>\n",
       "    <tr>\n",
       "      <th>3</th>\n",
       "      <td></td>\n",
       "      <td></td>\n",
       "      <td></td>\n",
       "      <td></td>\n",
       "    </tr>\n",
       "    <tr>\n",
       "      <th>4</th>\n",
       "      <td></td>\n",
       "      <td></td>\n",
       "      <td></td>\n",
       "      <td></td>\n",
       "    </tr>\n",
       "    <tr>\n",
       "      <th>5</th>\n",
       "      <td></td>\n",
       "      <td></td>\n",
       "      <td></td>\n",
       "      <td></td>\n",
       "    </tr>\n",
       "    <tr>\n",
       "      <th>6</th>\n",
       "      <td></td>\n",
       "      <td></td>\n",
       "      <td></td>\n",
       "      <td></td>\n",
       "    </tr>\n",
       "    <tr>\n",
       "      <th>7</th>\n",
       "      <td></td>\n",
       "      <td></td>\n",
       "      <td></td>\n",
       "      <td></td>\n",
       "    </tr>\n",
       "  </tbody>\n",
       "</table>\n",
       "</div>"
      ],
      "text/plain": [
       "  Version            Geometry        Date  MEGAlib\n",
       "0      25  AtlasPix.geo.setup  2020-02-12  2.34.01\n",
       "1                                13:47:05         \n",
       "2                                                 \n",
       "3                                                 \n",
       "4                                                 \n",
       "5                                                 \n",
       "6                                                 \n",
       "7                                                 "
      ]
     },
     "execution_count": 5,
     "metadata": {},
     "output_type": "execute_result"
    }
   ],
   "source": [
    "df_general[['Version', 'Geometry','Date', 'MEGAlib']]"
   ]
  },
  {
   "cell_type": "code",
   "execution_count": 6,
   "metadata": {},
   "outputs": [
    {
     "data": {
      "text/html": [
       "<div>\n",
       "<style scoped>\n",
       "    .dataframe tbody tr th:only-of-type {\n",
       "        vertical-align: middle;\n",
       "    }\n",
       "\n",
       "    .dataframe tbody tr th {\n",
       "        vertical-align: top;\n",
       "    }\n",
       "\n",
       "    .dataframe thead th {\n",
       "        text-align: right;\n",
       "    }\n",
       "</style>\n",
       "<table border=\"1\" class=\"dataframe\">\n",
       "  <thead>\n",
       "    <tr style=\"text-align: right;\">\n",
       "      <th></th>\n",
       "      <th>Seed</th>\n",
       "      <th>SimulationStartAreaFarField</th>\n",
       "      <th>BeamType</th>\n",
       "      <th>SpectralType</th>\n",
       "      <th>TB</th>\n",
       "      <th>TE</th>\n",
       "      <th>TS</th>\n",
       "    </tr>\n",
       "  </thead>\n",
       "  <tbody>\n",
       "    <tr>\n",
       "      <th>0</th>\n",
       "      <td>1581533214</td>\n",
       "      <td>0.0</td>\n",
       "      <td>HomogeneousBeam</td>\n",
       "      <td>Mono</td>\n",
       "      <td>0</td>\n",
       "      <td>0.000100245</td>\n",
       "      <td>100000</td>\n",
       "    </tr>\n",
       "    <tr>\n",
       "      <th>1</th>\n",
       "      <td></td>\n",
       "      <td></td>\n",
       "      <td></td>\n",
       "      <td></td>\n",
       "      <td></td>\n",
       "      <td></td>\n",
       "      <td></td>\n",
       "    </tr>\n",
       "    <tr>\n",
       "      <th>2</th>\n",
       "      <td></td>\n",
       "      <td></td>\n",
       "      <td></td>\n",
       "      <td></td>\n",
       "      <td></td>\n",
       "      <td></td>\n",
       "      <td></td>\n",
       "    </tr>\n",
       "    <tr>\n",
       "      <th>3</th>\n",
       "      <td></td>\n",
       "      <td></td>\n",
       "      <td></td>\n",
       "      <td></td>\n",
       "      <td></td>\n",
       "      <td></td>\n",
       "      <td></td>\n",
       "    </tr>\n",
       "    <tr>\n",
       "      <th>4</th>\n",
       "      <td></td>\n",
       "      <td></td>\n",
       "      <td></td>\n",
       "      <td></td>\n",
       "      <td></td>\n",
       "      <td></td>\n",
       "      <td></td>\n",
       "    </tr>\n",
       "    <tr>\n",
       "      <th>5</th>\n",
       "      <td></td>\n",
       "      <td></td>\n",
       "      <td></td>\n",
       "      <td></td>\n",
       "      <td></td>\n",
       "      <td></td>\n",
       "      <td></td>\n",
       "    </tr>\n",
       "    <tr>\n",
       "      <th>6</th>\n",
       "      <td></td>\n",
       "      <td></td>\n",
       "      <td></td>\n",
       "      <td></td>\n",
       "      <td></td>\n",
       "      <td></td>\n",
       "      <td></td>\n",
       "    </tr>\n",
       "    <tr>\n",
       "      <th>7</th>\n",
       "      <td></td>\n",
       "      <td></td>\n",
       "      <td></td>\n",
       "      <td></td>\n",
       "      <td></td>\n",
       "      <td></td>\n",
       "      <td></td>\n",
       "    </tr>\n",
       "  </tbody>\n",
       "</table>\n",
       "</div>"
      ],
      "text/plain": [
       "         Seed SimulationStartAreaFarField         BeamType SpectralType TB  \\\n",
       "0  1581533214                         0.0  HomogeneousBeam         Mono  0   \n",
       "1                                                                            \n",
       "2                                                                            \n",
       "3                                                                            \n",
       "4                                                                            \n",
       "5                                                                            \n",
       "6                                                                            \n",
       "7                                                                            \n",
       "\n",
       "            TE      TS  \n",
       "0  0.000100245  100000  \n",
       "1                       \n",
       "2                       \n",
       "3                       \n",
       "4                       \n",
       "5                       \n",
       "6                       \n",
       "7                       "
      ]
     },
     "execution_count": 6,
     "metadata": {},
     "output_type": "execute_result"
    }
   ],
   "source": [
    "df_general[['Seed', 'SimulationStartAreaFarField','BeamType','SpectralType','TB','TE','TS']]"
   ]
  },
  {
   "cell_type": "markdown",
   "metadata": {},
   "source": [
    "# Plotting"
   ]
  },
  {
   "cell_type": "markdown",
   "metadata": {},
   "source": [
    "## Load simulated events with pandas"
   ]
  },
  {
   "cell_type": "code",
   "execution_count": 25,
   "metadata": {},
   "outputs": [
    {
     "name": "stdout",
     "output_type": "stream",
     "text": [
      "// ------------------------------- //\n",
      "// Number of triggers found: 100000  //\n",
      "// ------------------------------- //\n"
     ]
    },
    {
     "data": {
      "text/html": [
       "<div>\n",
       "<style scoped>\n",
       "    .dataframe tbody tr th:only-of-type {\n",
       "        vertical-align: middle;\n",
       "    }\n",
       "\n",
       "    .dataframe tbody tr th {\n",
       "        vertical-align: top;\n",
       "    }\n",
       "\n",
       "    .dataframe thead th {\n",
       "        text-align: right;\n",
       "    }\n",
       "</style>\n",
       "<table border=\"1\" class=\"dataframe\">\n",
       "  <thead>\n",
       "    <tr style=\"text-align: right;\">\n",
       "      <th></th>\n",
       "      <th>EC</th>\n",
       "      <th>ED</th>\n",
       "      <th>IA</th>\n",
       "      <th>ID</th>\n",
       "      <th>NS</th>\n",
       "      <th>TI</th>\n",
       "    </tr>\n",
       "  </thead>\n",
       "  <tbody>\n",
       "    <tr>\n",
       "      <th>0</th>\n",
       "      <td>2000</td>\n",
       "      <td>0</td>\n",
       "      <td>{u'ESCP': [u'3.669205047180e-09', u'   0.08466...</td>\n",
       "      <td>(1.0, 1.0)</td>\n",
       "      <td>0</td>\n",
       "      <td>0</td>\n",
       "    </tr>\n",
       "    <tr>\n",
       "      <th>1</th>\n",
       "      <td>2000</td>\n",
       "      <td>0</td>\n",
       "      <td>{u'ESCP': [u'3.669205047180e-09', u'  -0.08533...</td>\n",
       "      <td>(2.0, 2.0)</td>\n",
       "      <td>0</td>\n",
       "      <td>0</td>\n",
       "    </tr>\n",
       "    <tr>\n",
       "      <th>2</th>\n",
       "      <td>2000</td>\n",
       "      <td>0</td>\n",
       "      <td>{u'ESCP': [u'3.669205047180e-09', u'  -0.07378...</td>\n",
       "      <td>(3.0, 3.0)</td>\n",
       "      <td>0</td>\n",
       "      <td>1e-09</td>\n",
       "    </tr>\n",
       "    <tr>\n",
       "      <th>3</th>\n",
       "      <td>2000</td>\n",
       "      <td>0</td>\n",
       "      <td>{u'ESCP': [u'3.669205047180e-09', u'   0.30666...</td>\n",
       "      <td>(4.0, 4.0)</td>\n",
       "      <td>0</td>\n",
       "      <td>1e-09</td>\n",
       "    </tr>\n",
       "    <tr>\n",
       "      <th>4</th>\n",
       "      <td>2000</td>\n",
       "      <td>0</td>\n",
       "      <td>{u'ESCP': [u'3.669205047180e-09', u'  -0.01024...</td>\n",
       "      <td>(5.0, 5.0)</td>\n",
       "      <td>0</td>\n",
       "      <td>1e-09</td>\n",
       "    </tr>\n",
       "    <tr>\n",
       "      <th>5</th>\n",
       "      <td>2000</td>\n",
       "      <td>0</td>\n",
       "      <td>{u'ESCP': [u'3.669205047180e-09', u'   0.11145...</td>\n",
       "      <td>(6.0, 6.0)</td>\n",
       "      <td>0</td>\n",
       "      <td>1e-09</td>\n",
       "    </tr>\n",
       "    <tr>\n",
       "      <th>6</th>\n",
       "      <td>2000</td>\n",
       "      <td>0</td>\n",
       "      <td>{u'ESCP': [u'3.669205047180e-09', u'   0.07841...</td>\n",
       "      <td>(7.0, 7.0)</td>\n",
       "      <td>0</td>\n",
       "      <td>1e-09</td>\n",
       "    </tr>\n",
       "    <tr>\n",
       "      <th>7</th>\n",
       "      <td>2000</td>\n",
       "      <td>0</td>\n",
       "      <td>{u'ESCP': [u'3.669205047180e-09', u'  -0.15502...</td>\n",
       "      <td>(8.0, 8.0)</td>\n",
       "      <td>0</td>\n",
       "      <td>3e-09</td>\n",
       "    </tr>\n",
       "    <tr>\n",
       "      <th>8</th>\n",
       "      <td>2000</td>\n",
       "      <td>0</td>\n",
       "      <td>{u'ESCP': [u'3.669205047180e-09', u'  -0.22628...</td>\n",
       "      <td>(9.0, 9.0)</td>\n",
       "      <td>0</td>\n",
       "      <td>5e-09</td>\n",
       "    </tr>\n",
       "    <tr>\n",
       "      <th>9</th>\n",
       "      <td>2000</td>\n",
       "      <td>0</td>\n",
       "      <td>{u'ESCP': [u'3.669205047180e-09', u'   0.29015...</td>\n",
       "      <td>(10.0, 10.0)</td>\n",
       "      <td>0</td>\n",
       "      <td>7e-09</td>\n",
       "    </tr>\n",
       "    <tr>\n",
       "      <th>10</th>\n",
       "      <td>2000</td>\n",
       "      <td>0</td>\n",
       "      <td>{u'ESCP': [u'3.669205047180e-09', u'   0.31726...</td>\n",
       "      <td>(11.0, 11.0)</td>\n",
       "      <td>0</td>\n",
       "      <td>1.1e-08</td>\n",
       "    </tr>\n",
       "    <tr>\n",
       "      <th>11</th>\n",
       "      <td>2000</td>\n",
       "      <td>0</td>\n",
       "      <td>{u'ESCP': [u'3.669205047180e-09', u'   0.19626...</td>\n",
       "      <td>(12.0, 12.0)</td>\n",
       "      <td>0</td>\n",
       "      <td>1.3e-08</td>\n",
       "    </tr>\n",
       "    <tr>\n",
       "      <th>12</th>\n",
       "      <td>2000</td>\n",
       "      <td>0</td>\n",
       "      <td>{u'ESCP': [u'3.669205047180e-09', u'  -0.10956...</td>\n",
       "      <td>(13.0, 13.0)</td>\n",
       "      <td>0</td>\n",
       "      <td>1.4e-08</td>\n",
       "    </tr>\n",
       "    <tr>\n",
       "      <th>13</th>\n",
       "      <td>2000</td>\n",
       "      <td>0</td>\n",
       "      <td>{u'ESCP': [u'3.669205047180e-09', u'  -0.02542...</td>\n",
       "      <td>(14.0, 14.0)</td>\n",
       "      <td>0</td>\n",
       "      <td>1.4e-08</td>\n",
       "    </tr>\n",
       "    <tr>\n",
       "      <th>14</th>\n",
       "      <td>2000</td>\n",
       "      <td>0</td>\n",
       "      <td>{u'ESCP': [u'3.669205047180e-09', u'   0.05177...</td>\n",
       "      <td>(15.0, 15.0)</td>\n",
       "      <td>0</td>\n",
       "      <td>1.5e-08</td>\n",
       "    </tr>\n",
       "    <tr>\n",
       "      <th>15</th>\n",
       "      <td>2000</td>\n",
       "      <td>0</td>\n",
       "      <td>{u'ESCP': [u'3.669205047180e-09', u'   0.04310...</td>\n",
       "      <td>(16.0, 16.0)</td>\n",
       "      <td>0</td>\n",
       "      <td>1.6e-08</td>\n",
       "    </tr>\n",
       "    <tr>\n",
       "      <th>16</th>\n",
       "      <td>2000</td>\n",
       "      <td>0</td>\n",
       "      <td>{u'ESCP': [u'3.669205047180e-09', u'   0.20418...</td>\n",
       "      <td>(17.0, 17.0)</td>\n",
       "      <td>0</td>\n",
       "      <td>1.7e-08</td>\n",
       "    </tr>\n",
       "    <tr>\n",
       "      <th>17</th>\n",
       "      <td>2000</td>\n",
       "      <td>0</td>\n",
       "      <td>{u'ESCP': [u'3.669205047180e-09', u'   0.14143...</td>\n",
       "      <td>(18.0, 18.0)</td>\n",
       "      <td>0</td>\n",
       "      <td>1.7e-08</td>\n",
       "    </tr>\n",
       "    <tr>\n",
       "      <th>18</th>\n",
       "      <td>2000</td>\n",
       "      <td>0</td>\n",
       "      <td>{u'ESCP': [u'3.669205047180e-09', u'  -0.06501...</td>\n",
       "      <td>(19.0, 19.0)</td>\n",
       "      <td>0</td>\n",
       "      <td>1.7e-08</td>\n",
       "    </tr>\n",
       "    <tr>\n",
       "      <th>19</th>\n",
       "      <td>2000</td>\n",
       "      <td>0</td>\n",
       "      <td>{u'ESCP': [u'3.669205047180e-09', u'   0.06165...</td>\n",
       "      <td>(20.0, 20.0)</td>\n",
       "      <td>0</td>\n",
       "      <td>1.8e-08</td>\n",
       "    </tr>\n",
       "    <tr>\n",
       "      <th>20</th>\n",
       "      <td>2000</td>\n",
       "      <td>0</td>\n",
       "      <td>{u'ESCP': [u'3.669205047180e-09', u'   0.15051...</td>\n",
       "      <td>(21.0, 21.0)</td>\n",
       "      <td>0</td>\n",
       "      <td>1.8e-08</td>\n",
       "    </tr>\n",
       "    <tr>\n",
       "      <th>21</th>\n",
       "      <td>2000</td>\n",
       "      <td>0</td>\n",
       "      <td>{u'ESCP': [u'3.669205047180e-09', u'   0.33604...</td>\n",
       "      <td>(22.0, 22.0)</td>\n",
       "      <td>0</td>\n",
       "      <td>1.9e-08</td>\n",
       "    </tr>\n",
       "    <tr>\n",
       "      <th>22</th>\n",
       "      <td>2000</td>\n",
       "      <td>0</td>\n",
       "      <td>{u'ESCP': [u'3.669205047180e-09', u'   0.36639...</td>\n",
       "      <td>(23.0, 23.0)</td>\n",
       "      <td>0</td>\n",
       "      <td>2e-08</td>\n",
       "    </tr>\n",
       "    <tr>\n",
       "      <th>23</th>\n",
       "      <td>2000</td>\n",
       "      <td>0</td>\n",
       "      <td>{u'ESCP': [u'3.669205047180e-09', u'  -0.03414...</td>\n",
       "      <td>(24.0, 24.0)</td>\n",
       "      <td>0</td>\n",
       "      <td>2.2e-08</td>\n",
       "    </tr>\n",
       "    <tr>\n",
       "      <th>24</th>\n",
       "      <td>2000</td>\n",
       "      <td>0</td>\n",
       "      <td>{u'ESCP': [u'3.669205047180e-09', u'  -0.25933...</td>\n",
       "      <td>(25.0, 25.0)</td>\n",
       "      <td>0</td>\n",
       "      <td>2.2e-08</td>\n",
       "    </tr>\n",
       "    <tr>\n",
       "      <th>25</th>\n",
       "      <td>2000</td>\n",
       "      <td>0</td>\n",
       "      <td>{u'ESCP': [u'3.669205047180e-09', u'  -0.12402...</td>\n",
       "      <td>(26.0, 26.0)</td>\n",
       "      <td>0</td>\n",
       "      <td>2.3e-08</td>\n",
       "    </tr>\n",
       "    <tr>\n",
       "      <th>26</th>\n",
       "      <td>2000</td>\n",
       "      <td>0</td>\n",
       "      <td>{u'ESCP': [u'3.669205047180e-09', u'  -0.03956...</td>\n",
       "      <td>(27.0, 27.0)</td>\n",
       "      <td>0</td>\n",
       "      <td>2.4e-08</td>\n",
       "    </tr>\n",
       "    <tr>\n",
       "      <th>27</th>\n",
       "      <td>2000</td>\n",
       "      <td>0</td>\n",
       "      <td>{u'ESCP': [u'3.669205047180e-09', u'   0.17597...</td>\n",
       "      <td>(28.0, 28.0)</td>\n",
       "      <td>0</td>\n",
       "      <td>2.4e-08</td>\n",
       "    </tr>\n",
       "    <tr>\n",
       "      <th>28</th>\n",
       "      <td>2000</td>\n",
       "      <td>0</td>\n",
       "      <td>{u'ESCP': [u'3.669205047180e-09', u'   0.20062...</td>\n",
       "      <td>(29.0, 29.0)</td>\n",
       "      <td>0</td>\n",
       "      <td>2.4e-08</td>\n",
       "    </tr>\n",
       "    <tr>\n",
       "      <th>29</th>\n",
       "      <td>2000</td>\n",
       "      <td>0</td>\n",
       "      <td>{u'ESCP': [u'3.669205047180e-09', u'   0.08464...</td>\n",
       "      <td>(30.0, 30.0)</td>\n",
       "      <td>0</td>\n",
       "      <td>2.5e-08</td>\n",
       "    </tr>\n",
       "    <tr>\n",
       "      <th>...</th>\n",
       "      <td>...</td>\n",
       "      <td>...</td>\n",
       "      <td>...</td>\n",
       "      <td>...</td>\n",
       "      <td>...</td>\n",
       "      <td>...</td>\n",
       "    </tr>\n",
       "    <tr>\n",
       "      <th>99970</th>\n",
       "      <td>2000</td>\n",
       "      <td>0</td>\n",
       "      <td>{u'ESCP': [u'3.669205047180e-09', u'  -0.17551...</td>\n",
       "      <td>(99971.0, 99971.0)</td>\n",
       "      <td>0</td>\n",
       "      <td>0.000100216</td>\n",
       "    </tr>\n",
       "    <tr>\n",
       "      <th>99971</th>\n",
       "      <td>2000</td>\n",
       "      <td>0</td>\n",
       "      <td>{u'ESCP': [u'3.669205047180e-09', u'  -0.12292...</td>\n",
       "      <td>(99972.0, 99972.0)</td>\n",
       "      <td>0</td>\n",
       "      <td>0.000100217</td>\n",
       "    </tr>\n",
       "    <tr>\n",
       "      <th>99972</th>\n",
       "      <td>2000</td>\n",
       "      <td>0</td>\n",
       "      <td>{u'ESCP': [u'3.669205047180e-09', u'  -0.20719...</td>\n",
       "      <td>(99973.0, 99973.0)</td>\n",
       "      <td>0</td>\n",
       "      <td>0.000100219</td>\n",
       "    </tr>\n",
       "    <tr>\n",
       "      <th>99973</th>\n",
       "      <td>2000</td>\n",
       "      <td>0</td>\n",
       "      <td>{u'ESCP': [u'3.669205047180e-09', u'  -0.03968...</td>\n",
       "      <td>(99974.0, 99974.0)</td>\n",
       "      <td>0</td>\n",
       "      <td>0.000100219</td>\n",
       "    </tr>\n",
       "    <tr>\n",
       "      <th>99974</th>\n",
       "      <td>2000</td>\n",
       "      <td>0</td>\n",
       "      <td>{u'ESCP': [u'3.669205047180e-09', u'   0.14082...</td>\n",
       "      <td>(99975.0, 99975.0)</td>\n",
       "      <td>0</td>\n",
       "      <td>0.000100219</td>\n",
       "    </tr>\n",
       "    <tr>\n",
       "      <th>99975</th>\n",
       "      <td>2000</td>\n",
       "      <td>0</td>\n",
       "      <td>{u'ESCP': [u'3.669205047180e-09', u'  -0.36899...</td>\n",
       "      <td>(99976.0, 99976.0)</td>\n",
       "      <td>0</td>\n",
       "      <td>0.000100221</td>\n",
       "    </tr>\n",
       "    <tr>\n",
       "      <th>99976</th>\n",
       "      <td>2000</td>\n",
       "      <td>0</td>\n",
       "      <td>{u'ESCP': [u'3.669205047180e-09', u'   0.08355...</td>\n",
       "      <td>(99977.0, 99977.0)</td>\n",
       "      <td>0</td>\n",
       "      <td>0.000100221</td>\n",
       "    </tr>\n",
       "    <tr>\n",
       "      <th>99977</th>\n",
       "      <td>2000</td>\n",
       "      <td>0</td>\n",
       "      <td>{u'ESCP': [u'3.669205047180e-09', u'   0.19456...</td>\n",
       "      <td>(99978.0, 99978.0)</td>\n",
       "      <td>0</td>\n",
       "      <td>0.000100222</td>\n",
       "    </tr>\n",
       "    <tr>\n",
       "      <th>99978</th>\n",
       "      <td>2000</td>\n",
       "      <td>0</td>\n",
       "      <td>{u'ESCP': [u'3.669205047180e-09', u'   0.02923...</td>\n",
       "      <td>(99979.0, 99979.0)</td>\n",
       "      <td>0</td>\n",
       "      <td>0.000100222</td>\n",
       "    </tr>\n",
       "    <tr>\n",
       "      <th>99979</th>\n",
       "      <td>2000</td>\n",
       "      <td>0</td>\n",
       "      <td>{u'ESCP': [u'3.669205047180e-09', u'  -0.16538...</td>\n",
       "      <td>(99980.0, 99980.0)</td>\n",
       "      <td>0</td>\n",
       "      <td>0.000100223</td>\n",
       "    </tr>\n",
       "    <tr>\n",
       "      <th>99980</th>\n",
       "      <td>2000</td>\n",
       "      <td>0</td>\n",
       "      <td>{u'ESCP': [u'3.669205047180e-09', u'   0.14800...</td>\n",
       "      <td>(99981.0, 99981.0)</td>\n",
       "      <td>0</td>\n",
       "      <td>0.000100223</td>\n",
       "    </tr>\n",
       "    <tr>\n",
       "      <th>99981</th>\n",
       "      <td>2000</td>\n",
       "      <td>0</td>\n",
       "      <td>{u'ESCP': [u'3.669205047180e-09', u'   0.12064...</td>\n",
       "      <td>(99982.0, 99982.0)</td>\n",
       "      <td>0</td>\n",
       "      <td>0.000100224</td>\n",
       "    </tr>\n",
       "    <tr>\n",
       "      <th>99982</th>\n",
       "      <td>2000</td>\n",
       "      <td>0</td>\n",
       "      <td>{u'ESCP': [u'3.669205047180e-09', u'  -0.20239...</td>\n",
       "      <td>(99983.0, 99983.0)</td>\n",
       "      <td>0</td>\n",
       "      <td>0.000100227</td>\n",
       "    </tr>\n",
       "    <tr>\n",
       "      <th>99983</th>\n",
       "      <td>2000</td>\n",
       "      <td>0</td>\n",
       "      <td>{u'ESCP': [u'3.669205047180e-09', u'  -0.31437...</td>\n",
       "      <td>(99984.0, 99984.0)</td>\n",
       "      <td>0</td>\n",
       "      <td>0.000100227</td>\n",
       "    </tr>\n",
       "    <tr>\n",
       "      <th>99984</th>\n",
       "      <td>2000</td>\n",
       "      <td>0</td>\n",
       "      <td>{u'ESCP': [u'3.669205047180e-09', u'   0.38113...</td>\n",
       "      <td>(99985.0, 99985.0)</td>\n",
       "      <td>0</td>\n",
       "      <td>0.000100231</td>\n",
       "    </tr>\n",
       "    <tr>\n",
       "      <th>99985</th>\n",
       "      <td>2000</td>\n",
       "      <td>0</td>\n",
       "      <td>{u'ESCP': [u'3.669205047180e-09', u'  -0.31412...</td>\n",
       "      <td>(99986.0, 99986.0)</td>\n",
       "      <td>0</td>\n",
       "      <td>0.000100231</td>\n",
       "    </tr>\n",
       "    <tr>\n",
       "      <th>99986</th>\n",
       "      <td>2000</td>\n",
       "      <td>0</td>\n",
       "      <td>{u'ESCP': [u'3.669205047180e-09', u'  -0.25314...</td>\n",
       "      <td>(99987.0, 99987.0)</td>\n",
       "      <td>0</td>\n",
       "      <td>0.000100232</td>\n",
       "    </tr>\n",
       "    <tr>\n",
       "      <th>99987</th>\n",
       "      <td>2000</td>\n",
       "      <td>0</td>\n",
       "      <td>{u'ESCP': [u'3.669205047180e-09', u'  -0.21410...</td>\n",
       "      <td>(99988.0, 99988.0)</td>\n",
       "      <td>0</td>\n",
       "      <td>0.000100234</td>\n",
       "    </tr>\n",
       "    <tr>\n",
       "      <th>99988</th>\n",
       "      <td>2000</td>\n",
       "      <td>0</td>\n",
       "      <td>{u'ESCP': [u'3.669205047180e-09', u'  -0.31668...</td>\n",
       "      <td>(99989.0, 99989.0)</td>\n",
       "      <td>0</td>\n",
       "      <td>0.000100234</td>\n",
       "    </tr>\n",
       "    <tr>\n",
       "      <th>99989</th>\n",
       "      <td>2000</td>\n",
       "      <td>0</td>\n",
       "      <td>{u'ESCP': [u'3.669205047180e-09', u'  -0.17207...</td>\n",
       "      <td>(99990.0, 99990.0)</td>\n",
       "      <td>0</td>\n",
       "      <td>0.000100236</td>\n",
       "    </tr>\n",
       "    <tr>\n",
       "      <th>99990</th>\n",
       "      <td>2000</td>\n",
       "      <td>0</td>\n",
       "      <td>{u'ESCP': [u'3.669205047180e-09', u'   0.22870...</td>\n",
       "      <td>(99991.0, 99991.0)</td>\n",
       "      <td>0</td>\n",
       "      <td>0.000100237</td>\n",
       "    </tr>\n",
       "    <tr>\n",
       "      <th>99991</th>\n",
       "      <td>2000</td>\n",
       "      <td>0</td>\n",
       "      <td>{u'ESCP': [u'3.669205047180e-09', u'   0.08473...</td>\n",
       "      <td>(99992.0, 99992.0)</td>\n",
       "      <td>0</td>\n",
       "      <td>0.000100239</td>\n",
       "    </tr>\n",
       "    <tr>\n",
       "      <th>99992</th>\n",
       "      <td>2000</td>\n",
       "      <td>0</td>\n",
       "      <td>{u'ESCP': [u'3.669205047180e-09', u'  -0.02218...</td>\n",
       "      <td>(99993.0, 99993.0)</td>\n",
       "      <td>0</td>\n",
       "      <td>0.000100239</td>\n",
       "    </tr>\n",
       "    <tr>\n",
       "      <th>99993</th>\n",
       "      <td>2000</td>\n",
       "      <td>0</td>\n",
       "      <td>{u'ESCP': [u'3.669205047180e-09', u'  -0.21682...</td>\n",
       "      <td>(99994.0, 99994.0)</td>\n",
       "      <td>0</td>\n",
       "      <td>0.000100239</td>\n",
       "    </tr>\n",
       "    <tr>\n",
       "      <th>99994</th>\n",
       "      <td>2000</td>\n",
       "      <td>0</td>\n",
       "      <td>{u'ESCP': [u'3.669205047180e-09', u'  -0.03284...</td>\n",
       "      <td>(99995.0, 99995.0)</td>\n",
       "      <td>0</td>\n",
       "      <td>0.000100241</td>\n",
       "    </tr>\n",
       "    <tr>\n",
       "      <th>99995</th>\n",
       "      <td>2000</td>\n",
       "      <td>0</td>\n",
       "      <td>{u'ESCP': [u'3.669205047180e-09', u'  -0.36273...</td>\n",
       "      <td>(99996.0, 99996.0)</td>\n",
       "      <td>0</td>\n",
       "      <td>0.000100242</td>\n",
       "    </tr>\n",
       "    <tr>\n",
       "      <th>99996</th>\n",
       "      <td>2000</td>\n",
       "      <td>0</td>\n",
       "      <td>{u'ESCP': [u'3.669205047180e-09', u'   0.14381...</td>\n",
       "      <td>(99997.0, 99997.0)</td>\n",
       "      <td>0</td>\n",
       "      <td>0.000100243</td>\n",
       "    </tr>\n",
       "    <tr>\n",
       "      <th>99997</th>\n",
       "      <td>2000</td>\n",
       "      <td>0</td>\n",
       "      <td>{u'ESCP': [u'3.669205047180e-09', u'  -0.21427...</td>\n",
       "      <td>(99998.0, 99998.0)</td>\n",
       "      <td>0</td>\n",
       "      <td>0.000100243</td>\n",
       "    </tr>\n",
       "    <tr>\n",
       "      <th>99998</th>\n",
       "      <td>2000</td>\n",
       "      <td>0</td>\n",
       "      <td>{u'ESCP': [u'3.669205047180e-09', u'  -0.06589...</td>\n",
       "      <td>(99999.0, 99999.0)</td>\n",
       "      <td>0</td>\n",
       "      <td>0.000100243</td>\n",
       "    </tr>\n",
       "    <tr>\n",
       "      <th>99999</th>\n",
       "      <td>2000</td>\n",
       "      <td>0</td>\n",
       "      <td>NaN</td>\n",
       "      <td>(100000.0, 100000.0)</td>\n",
       "      <td>0</td>\n",
       "      <td>0.000100245</td>\n",
       "    </tr>\n",
       "  </tbody>\n",
       "</table>\n",
       "<p>100000 rows × 6 columns</p>\n",
       "</div>"
      ],
      "text/plain": [
       "         EC ED                                                 IA  \\\n",
       "0      2000  0  {u'ESCP': [u'3.669205047180e-09', u'   0.08466...   \n",
       "1      2000  0  {u'ESCP': [u'3.669205047180e-09', u'  -0.08533...   \n",
       "2      2000  0  {u'ESCP': [u'3.669205047180e-09', u'  -0.07378...   \n",
       "3      2000  0  {u'ESCP': [u'3.669205047180e-09', u'   0.30666...   \n",
       "4      2000  0  {u'ESCP': [u'3.669205047180e-09', u'  -0.01024...   \n",
       "5      2000  0  {u'ESCP': [u'3.669205047180e-09', u'   0.11145...   \n",
       "6      2000  0  {u'ESCP': [u'3.669205047180e-09', u'   0.07841...   \n",
       "7      2000  0  {u'ESCP': [u'3.669205047180e-09', u'  -0.15502...   \n",
       "8      2000  0  {u'ESCP': [u'3.669205047180e-09', u'  -0.22628...   \n",
       "9      2000  0  {u'ESCP': [u'3.669205047180e-09', u'   0.29015...   \n",
       "10     2000  0  {u'ESCP': [u'3.669205047180e-09', u'   0.31726...   \n",
       "11     2000  0  {u'ESCP': [u'3.669205047180e-09', u'   0.19626...   \n",
       "12     2000  0  {u'ESCP': [u'3.669205047180e-09', u'  -0.10956...   \n",
       "13     2000  0  {u'ESCP': [u'3.669205047180e-09', u'  -0.02542...   \n",
       "14     2000  0  {u'ESCP': [u'3.669205047180e-09', u'   0.05177...   \n",
       "15     2000  0  {u'ESCP': [u'3.669205047180e-09', u'   0.04310...   \n",
       "16     2000  0  {u'ESCP': [u'3.669205047180e-09', u'   0.20418...   \n",
       "17     2000  0  {u'ESCP': [u'3.669205047180e-09', u'   0.14143...   \n",
       "18     2000  0  {u'ESCP': [u'3.669205047180e-09', u'  -0.06501...   \n",
       "19     2000  0  {u'ESCP': [u'3.669205047180e-09', u'   0.06165...   \n",
       "20     2000  0  {u'ESCP': [u'3.669205047180e-09', u'   0.15051...   \n",
       "21     2000  0  {u'ESCP': [u'3.669205047180e-09', u'   0.33604...   \n",
       "22     2000  0  {u'ESCP': [u'3.669205047180e-09', u'   0.36639...   \n",
       "23     2000  0  {u'ESCP': [u'3.669205047180e-09', u'  -0.03414...   \n",
       "24     2000  0  {u'ESCP': [u'3.669205047180e-09', u'  -0.25933...   \n",
       "25     2000  0  {u'ESCP': [u'3.669205047180e-09', u'  -0.12402...   \n",
       "26     2000  0  {u'ESCP': [u'3.669205047180e-09', u'  -0.03956...   \n",
       "27     2000  0  {u'ESCP': [u'3.669205047180e-09', u'   0.17597...   \n",
       "28     2000  0  {u'ESCP': [u'3.669205047180e-09', u'   0.20062...   \n",
       "29     2000  0  {u'ESCP': [u'3.669205047180e-09', u'   0.08464...   \n",
       "...     ... ..                                                ...   \n",
       "99970  2000  0  {u'ESCP': [u'3.669205047180e-09', u'  -0.17551...   \n",
       "99971  2000  0  {u'ESCP': [u'3.669205047180e-09', u'  -0.12292...   \n",
       "99972  2000  0  {u'ESCP': [u'3.669205047180e-09', u'  -0.20719...   \n",
       "99973  2000  0  {u'ESCP': [u'3.669205047180e-09', u'  -0.03968...   \n",
       "99974  2000  0  {u'ESCP': [u'3.669205047180e-09', u'   0.14082...   \n",
       "99975  2000  0  {u'ESCP': [u'3.669205047180e-09', u'  -0.36899...   \n",
       "99976  2000  0  {u'ESCP': [u'3.669205047180e-09', u'   0.08355...   \n",
       "99977  2000  0  {u'ESCP': [u'3.669205047180e-09', u'   0.19456...   \n",
       "99978  2000  0  {u'ESCP': [u'3.669205047180e-09', u'   0.02923...   \n",
       "99979  2000  0  {u'ESCP': [u'3.669205047180e-09', u'  -0.16538...   \n",
       "99980  2000  0  {u'ESCP': [u'3.669205047180e-09', u'   0.14800...   \n",
       "99981  2000  0  {u'ESCP': [u'3.669205047180e-09', u'   0.12064...   \n",
       "99982  2000  0  {u'ESCP': [u'3.669205047180e-09', u'  -0.20239...   \n",
       "99983  2000  0  {u'ESCP': [u'3.669205047180e-09', u'  -0.31437...   \n",
       "99984  2000  0  {u'ESCP': [u'3.669205047180e-09', u'   0.38113...   \n",
       "99985  2000  0  {u'ESCP': [u'3.669205047180e-09', u'  -0.31412...   \n",
       "99986  2000  0  {u'ESCP': [u'3.669205047180e-09', u'  -0.25314...   \n",
       "99987  2000  0  {u'ESCP': [u'3.669205047180e-09', u'  -0.21410...   \n",
       "99988  2000  0  {u'ESCP': [u'3.669205047180e-09', u'  -0.31668...   \n",
       "99989  2000  0  {u'ESCP': [u'3.669205047180e-09', u'  -0.17207...   \n",
       "99990  2000  0  {u'ESCP': [u'3.669205047180e-09', u'   0.22870...   \n",
       "99991  2000  0  {u'ESCP': [u'3.669205047180e-09', u'   0.08473...   \n",
       "99992  2000  0  {u'ESCP': [u'3.669205047180e-09', u'  -0.02218...   \n",
       "99993  2000  0  {u'ESCP': [u'3.669205047180e-09', u'  -0.21682...   \n",
       "99994  2000  0  {u'ESCP': [u'3.669205047180e-09', u'  -0.03284...   \n",
       "99995  2000  0  {u'ESCP': [u'3.669205047180e-09', u'  -0.36273...   \n",
       "99996  2000  0  {u'ESCP': [u'3.669205047180e-09', u'   0.14381...   \n",
       "99997  2000  0  {u'ESCP': [u'3.669205047180e-09', u'  -0.21427...   \n",
       "99998  2000  0  {u'ESCP': [u'3.669205047180e-09', u'  -0.06589...   \n",
       "99999  2000  0                                                NaN   \n",
       "\n",
       "                         ID NS           TI  \n",
       "0                (1.0, 1.0)  0            0  \n",
       "1                (2.0, 2.0)  0            0  \n",
       "2                (3.0, 3.0)  0        1e-09  \n",
       "3                (4.0, 4.0)  0        1e-09  \n",
       "4                (5.0, 5.0)  0        1e-09  \n",
       "5                (6.0, 6.0)  0        1e-09  \n",
       "6                (7.0, 7.0)  0        1e-09  \n",
       "7                (8.0, 8.0)  0        3e-09  \n",
       "8                (9.0, 9.0)  0        5e-09  \n",
       "9              (10.0, 10.0)  0        7e-09  \n",
       "10             (11.0, 11.0)  0      1.1e-08  \n",
       "11             (12.0, 12.0)  0      1.3e-08  \n",
       "12             (13.0, 13.0)  0      1.4e-08  \n",
       "13             (14.0, 14.0)  0      1.4e-08  \n",
       "14             (15.0, 15.0)  0      1.5e-08  \n",
       "15             (16.0, 16.0)  0      1.6e-08  \n",
       "16             (17.0, 17.0)  0      1.7e-08  \n",
       "17             (18.0, 18.0)  0      1.7e-08  \n",
       "18             (19.0, 19.0)  0      1.7e-08  \n",
       "19             (20.0, 20.0)  0      1.8e-08  \n",
       "20             (21.0, 21.0)  0      1.8e-08  \n",
       "21             (22.0, 22.0)  0      1.9e-08  \n",
       "22             (23.0, 23.0)  0        2e-08  \n",
       "23             (24.0, 24.0)  0      2.2e-08  \n",
       "24             (25.0, 25.0)  0      2.2e-08  \n",
       "25             (26.0, 26.0)  0      2.3e-08  \n",
       "26             (27.0, 27.0)  0      2.4e-08  \n",
       "27             (28.0, 28.0)  0      2.4e-08  \n",
       "28             (29.0, 29.0)  0      2.4e-08  \n",
       "29             (30.0, 30.0)  0      2.5e-08  \n",
       "...                     ... ..          ...  \n",
       "99970    (99971.0, 99971.0)  0  0.000100216  \n",
       "99971    (99972.0, 99972.0)  0  0.000100217  \n",
       "99972    (99973.0, 99973.0)  0  0.000100219  \n",
       "99973    (99974.0, 99974.0)  0  0.000100219  \n",
       "99974    (99975.0, 99975.0)  0  0.000100219  \n",
       "99975    (99976.0, 99976.0)  0  0.000100221  \n",
       "99976    (99977.0, 99977.0)  0  0.000100221  \n",
       "99977    (99978.0, 99978.0)  0  0.000100222  \n",
       "99978    (99979.0, 99979.0)  0  0.000100222  \n",
       "99979    (99980.0, 99980.0)  0  0.000100223  \n",
       "99980    (99981.0, 99981.0)  0  0.000100223  \n",
       "99981    (99982.0, 99982.0)  0  0.000100224  \n",
       "99982    (99983.0, 99983.0)  0  0.000100227  \n",
       "99983    (99984.0, 99984.0)  0  0.000100227  \n",
       "99984    (99985.0, 99985.0)  0  0.000100231  \n",
       "99985    (99986.0, 99986.0)  0  0.000100231  \n",
       "99986    (99987.0, 99987.0)  0  0.000100232  \n",
       "99987    (99988.0, 99988.0)  0  0.000100234  \n",
       "99988    (99989.0, 99989.0)  0  0.000100234  \n",
       "99989    (99990.0, 99990.0)  0  0.000100236  \n",
       "99990    (99991.0, 99991.0)  0  0.000100237  \n",
       "99991    (99992.0, 99992.0)  0  0.000100239  \n",
       "99992    (99993.0, 99993.0)  0  0.000100239  \n",
       "99993    (99994.0, 99994.0)  0  0.000100239  \n",
       "99994    (99995.0, 99995.0)  0  0.000100241  \n",
       "99995    (99996.0, 99996.0)  0  0.000100242  \n",
       "99996    (99997.0, 99997.0)  0  0.000100243  \n",
       "99997    (99998.0, 99998.0)  0  0.000100243  \n",
       "99998    (99999.0, 99999.0)  0  0.000100243  \n",
       "99999  (100000.0, 100000.0)  0  0.000100245  \n",
       "\n",
       "[100000 rows x 6 columns]"
      ]
     },
     "execution_count": 25,
     "metadata": {},
     "output_type": "execute_result"
    }
   ],
   "source": [
    "sim_events, hit_info = SimFileParser_events(sim_file)\n",
    "df_events = pd.DataFrame(sim_events).T\n",
    "df_events"
   ]
  },
  {
   "cell_type": "markdown",
   "metadata": {},
   "source": [
    "1 MeV // Number of triggers found: 90679 //\n",
    "\n",
    "2 MeV // Number of triggers found: 82201 //\n",
    "\n",
    "5 MeV // Number of triggers found: 77516 //\n",
    "\n",
    "10 MeV // Number of triggers found: 80926 //\n",
    "\n",
    "30 MeV // Number of triggers found: 89053 //"
   ]
  },
  {
   "cell_type": "code",
   "execution_count": 20,
   "metadata": {},
   "outputs": [],
   "source": [
    "df_ia_params = pd.DataFrame(df_events['IA'])\n",
    "#df_ia_params"
   ]
  },
  {
   "cell_type": "markdown",
   "metadata": {},
   "source": [
    "## Histograms"
   ]
  },
  {
   "cell_type": "markdown",
   "metadata": {
    "cell_style": "split"
   },
   "source": [
    "Select the variables to plot:"
   ]
  },
  {
   "cell_type": "markdown",
   "metadata": {
    "cell_style": "split"
   },
   "source": [
    "Specify number of bins for the histogram"
   ]
  },
  {
   "cell_type": "code",
   "execution_count": 21,
   "metadata": {
    "cell_style": "split"
   },
   "outputs": [
    {
     "data": {
      "application/vnd.jupyter.widget-view+json": {
       "model_id": "044519959f5740d3a00eb0b72dcf2577",
       "version_major": 2,
       "version_minor": 0
      },
      "text/plain": [
       "U2VsZWN0TXVsdGlwbGUoZGVzY3JpcHRpb249dSdQYXJhbS46ICcsIGluZGV4PSgxLCksIGxheW91dD1MYXlvdXQod2lkdGg9dSc0MCUnKSwgb3B0aW9ucz0oJ1RJJywgJ0VEJywgJ0VDJywgJ07igKY=\n"
      ]
     },
     "metadata": {},
     "output_type": "display_data"
    }
   ],
   "source": [
    "param = widgets.SelectMultiple(\n",
    "    options=['TI', 'ED', 'EC', 'NS'],\n",
    "    value=['ED'],\n",
    "    description='Param.: ',\n",
    "    disabled=False,\n",
    "    layout=Layout(width='40%')\n",
    ")\n",
    "param"
   ]
  },
  {
   "cell_type": "code",
   "execution_count": 22,
   "metadata": {
    "cell_style": "split"
   },
   "outputs": [
    {
     "data": {
      "application/vnd.jupyter.widget-view+json": {
       "model_id": "0840cefdbe3b43308636d11673f51689",
       "version_major": 2,
       "version_minor": 0
      },
      "text/plain": [
       "IntText(value=100, description=u'# on bins', layout=Layout(width=u'40%'))"
      ]
     },
     "metadata": {},
     "output_type": "display_data"
    }
   ],
   "source": [
    "nbins = widgets.IntText(\n",
    "    value=100,\n",
    "    description='# on bins',\n",
    "    disabled=False,\n",
    "    layout=Layout(width='40%')\n",
    ")\n",
    "nbins"
   ]
  },
  {
   "cell_type": "code",
   "execution_count": 24,
   "metadata": {},
   "outputs": [
    {
     "ename": "KeyboardInterrupt",
     "evalue": "",
     "output_type": "error",
     "traceback": [
      "\u001b[0;31m---------------------------------------------------------------------------\u001b[0m",
      "\u001b[0;31mKeyboardInterrupt\u001b[0m                         Traceback (most recent call last)",
      "\u001b[0;32m<ipython-input-24-af1644cb405c>\u001b[0m in \u001b[0;36m<module>\u001b[0;34m()\u001b[0m\n\u001b[1;32m     12\u001b[0m \u001b[0;32melse\u001b[0m\u001b[0;34m:\u001b[0m\u001b[0;34m\u001b[0m\u001b[0m\n\u001b[1;32m     13\u001b[0m     \u001b[0mplt\u001b[0m\u001b[0;34m.\u001b[0m\u001b[0mfigure\u001b[0m\u001b[0;34m(\u001b[0m\u001b[0mfigsize\u001b[0m\u001b[0;34m=\u001b[0m\u001b[0;34m(\u001b[0m\u001b[0;36m7\u001b[0m\u001b[0;34m,\u001b[0m\u001b[0;36m5\u001b[0m\u001b[0;34m)\u001b[0m\u001b[0;34m)\u001b[0m\u001b[0;34m\u001b[0m\u001b[0m\n\u001b[0;32m---> 14\u001b[0;31m     \u001b[0mplt\u001b[0m\u001b[0;34m.\u001b[0m\u001b[0mhist\u001b[0m\u001b[0;34m(\u001b[0m\u001b[0mnp\u001b[0m\u001b[0;34m.\u001b[0m\u001b[0marray\u001b[0m\u001b[0;34m(\u001b[0m\u001b[0mdf_events\u001b[0m\u001b[0;34m[\u001b[0m\u001b[0mparam\u001b[0m\u001b[0;34m.\u001b[0m\u001b[0mvalue\u001b[0m\u001b[0;34m[\u001b[0m\u001b[0;36m0\u001b[0m\u001b[0;34m]\u001b[0m\u001b[0;34m]\u001b[0m\u001b[0;34m)\u001b[0m\u001b[0;34m,\u001b[0m \u001b[0mbins\u001b[0m\u001b[0;34m=\u001b[0m\u001b[0mnbins\u001b[0m\u001b[0;34m.\u001b[0m\u001b[0mvalue\u001b[0m\u001b[0;34m)\u001b[0m\u001b[0;31m#, color='teal', alpha=0.8, label='%i evts'%len(df_events[param.value[0]]))\u001b[0m\u001b[0;34m\u001b[0m\u001b[0m\n\u001b[0m\u001b[1;32m     15\u001b[0m     \u001b[0mplt\u001b[0m\u001b[0;34m.\u001b[0m\u001b[0mtitle\u001b[0m\u001b[0;34m(\u001b[0m\u001b[0mparam\u001b[0m\u001b[0;34m.\u001b[0m\u001b[0mvalue\u001b[0m\u001b[0;34m[\u001b[0m\u001b[0;36m0\u001b[0m\u001b[0;34m]\u001b[0m\u001b[0;34m,\u001b[0m \u001b[0msize\u001b[0m\u001b[0;34m=\u001b[0m\u001b[0;36m17\u001b[0m\u001b[0;34m)\u001b[0m\u001b[0;34m\u001b[0m\u001b[0m\n\u001b[1;32m     16\u001b[0m     \u001b[0mplt\u001b[0m\u001b[0;34m.\u001b[0m\u001b[0mxlabel\u001b[0m\u001b[0;34m(\u001b[0m\u001b[0;34m'%s units'\u001b[0m\u001b[0;34m%\u001b[0m\u001b[0mparam\u001b[0m\u001b[0;34m.\u001b[0m\u001b[0mvalue\u001b[0m\u001b[0;34m[\u001b[0m\u001b[0;36m0\u001b[0m\u001b[0;34m]\u001b[0m\u001b[0;34m,\u001b[0m \u001b[0msize\u001b[0m\u001b[0;34m=\u001b[0m\u001b[0;36m15\u001b[0m\u001b[0;34m)\u001b[0m\u001b[0;34m\u001b[0m\u001b[0m\n",
      "\u001b[0;32m/opt/anaconda2/lib/python2.7/site-packages/matplotlib/pyplot.pyc\u001b[0m in \u001b[0;36mhist\u001b[0;34m(x, bins, range, density, weights, cumulative, bottom, histtype, align, orientation, rwidth, log, color, label, stacked, normed, hold, data, **kwargs)\u001b[0m\n\u001b[1;32m   3135\u001b[0m                       \u001b[0mhisttype\u001b[0m\u001b[0;34m=\u001b[0m\u001b[0mhisttype\u001b[0m\u001b[0;34m,\u001b[0m \u001b[0malign\u001b[0m\u001b[0;34m=\u001b[0m\u001b[0malign\u001b[0m\u001b[0;34m,\u001b[0m \u001b[0morientation\u001b[0m\u001b[0;34m=\u001b[0m\u001b[0morientation\u001b[0m\u001b[0;34m,\u001b[0m\u001b[0;34m\u001b[0m\u001b[0m\n\u001b[1;32m   3136\u001b[0m                       \u001b[0mrwidth\u001b[0m\u001b[0;34m=\u001b[0m\u001b[0mrwidth\u001b[0m\u001b[0;34m,\u001b[0m \u001b[0mlog\u001b[0m\u001b[0;34m=\u001b[0m\u001b[0mlog\u001b[0m\u001b[0;34m,\u001b[0m \u001b[0mcolor\u001b[0m\u001b[0;34m=\u001b[0m\u001b[0mcolor\u001b[0m\u001b[0;34m,\u001b[0m \u001b[0mlabel\u001b[0m\u001b[0;34m=\u001b[0m\u001b[0mlabel\u001b[0m\u001b[0;34m,\u001b[0m\u001b[0;34m\u001b[0m\u001b[0m\n\u001b[0;32m-> 3137\u001b[0;31m                       stacked=stacked, normed=normed, data=data, **kwargs)\n\u001b[0m\u001b[1;32m   3138\u001b[0m     \u001b[0;32mfinally\u001b[0m\u001b[0;34m:\u001b[0m\u001b[0;34m\u001b[0m\u001b[0m\n\u001b[1;32m   3139\u001b[0m         \u001b[0max\u001b[0m\u001b[0;34m.\u001b[0m\u001b[0m_hold\u001b[0m \u001b[0;34m=\u001b[0m \u001b[0mwashold\u001b[0m\u001b[0;34m\u001b[0m\u001b[0m\n",
      "\u001b[0;32m/opt/anaconda2/lib/python2.7/site-packages/matplotlib/__init__.pyc\u001b[0m in \u001b[0;36minner\u001b[0;34m(ax, *args, **kwargs)\u001b[0m\n\u001b[1;32m   1865\u001b[0m                         \u001b[0;34m\"the Matplotlib list!)\"\u001b[0m \u001b[0;34m%\u001b[0m \u001b[0;34m(\u001b[0m\u001b[0mlabel_namer\u001b[0m\u001b[0;34m,\u001b[0m \u001b[0mfunc\u001b[0m\u001b[0;34m.\u001b[0m\u001b[0m__name__\u001b[0m\u001b[0;34m)\u001b[0m\u001b[0;34m,\u001b[0m\u001b[0;34m\u001b[0m\u001b[0m\n\u001b[1;32m   1866\u001b[0m                         RuntimeWarning, stacklevel=2)\n\u001b[0;32m-> 1867\u001b[0;31m             \u001b[0;32mreturn\u001b[0m \u001b[0mfunc\u001b[0m\u001b[0;34m(\u001b[0m\u001b[0max\u001b[0m\u001b[0;34m,\u001b[0m \u001b[0;34m*\u001b[0m\u001b[0margs\u001b[0m\u001b[0;34m,\u001b[0m \u001b[0;34m**\u001b[0m\u001b[0mkwargs\u001b[0m\u001b[0;34m)\u001b[0m\u001b[0;34m\u001b[0m\u001b[0m\n\u001b[0m\u001b[1;32m   1868\u001b[0m \u001b[0;34m\u001b[0m\u001b[0m\n\u001b[1;32m   1869\u001b[0m         inner.__doc__ = _add_data_doc(inner.__doc__,\n",
      "\u001b[0;32m/opt/anaconda2/lib/python2.7/site-packages/matplotlib/axes/_axes.pyc\u001b[0m in \u001b[0;36mhist\u001b[0;34m(***failed resolving arguments***)\u001b[0m\n\u001b[1;32m   6713\u001b[0m                 patch = _barfunc(bins[:-1]+boffset, height, width,\n\u001b[1;32m   6714\u001b[0m                                  \u001b[0malign\u001b[0m\u001b[0;34m=\u001b[0m\u001b[0;34m'center'\u001b[0m\u001b[0;34m,\u001b[0m \u001b[0mlog\u001b[0m\u001b[0;34m=\u001b[0m\u001b[0mlog\u001b[0m\u001b[0;34m,\u001b[0m\u001b[0;34m\u001b[0m\u001b[0m\n\u001b[0;32m-> 6715\u001b[0;31m                                  color=c, **{bottom_kwarg: bottom})\n\u001b[0m\u001b[1;32m   6716\u001b[0m                 \u001b[0mpatches\u001b[0m\u001b[0;34m.\u001b[0m\u001b[0mappend\u001b[0m\u001b[0;34m(\u001b[0m\u001b[0mpatch\u001b[0m\u001b[0;34m)\u001b[0m\u001b[0;34m\u001b[0m\u001b[0m\n\u001b[1;32m   6717\u001b[0m                 \u001b[0;32mif\u001b[0m \u001b[0mstacked\u001b[0m\u001b[0;34m:\u001b[0m\u001b[0;34m\u001b[0m\u001b[0m\n",
      "\u001b[0;32m/opt/anaconda2/lib/python2.7/site-packages/matplotlib/__init__.pyc\u001b[0m in \u001b[0;36minner\u001b[0;34m(ax, *args, **kwargs)\u001b[0m\n\u001b[1;32m   1865\u001b[0m                         \u001b[0;34m\"the Matplotlib list!)\"\u001b[0m \u001b[0;34m%\u001b[0m \u001b[0;34m(\u001b[0m\u001b[0mlabel_namer\u001b[0m\u001b[0;34m,\u001b[0m \u001b[0mfunc\u001b[0m\u001b[0;34m.\u001b[0m\u001b[0m__name__\u001b[0m\u001b[0;34m)\u001b[0m\u001b[0;34m,\u001b[0m\u001b[0;34m\u001b[0m\u001b[0m\n\u001b[1;32m   1866\u001b[0m                         RuntimeWarning, stacklevel=2)\n\u001b[0;32m-> 1867\u001b[0;31m             \u001b[0;32mreturn\u001b[0m \u001b[0mfunc\u001b[0m\u001b[0;34m(\u001b[0m\u001b[0max\u001b[0m\u001b[0;34m,\u001b[0m \u001b[0;34m*\u001b[0m\u001b[0margs\u001b[0m\u001b[0;34m,\u001b[0m \u001b[0;34m**\u001b[0m\u001b[0mkwargs\u001b[0m\u001b[0;34m)\u001b[0m\u001b[0;34m\u001b[0m\u001b[0m\n\u001b[0m\u001b[1;32m   1868\u001b[0m \u001b[0;34m\u001b[0m\u001b[0m\n\u001b[1;32m   1869\u001b[0m         inner.__doc__ = _add_data_doc(inner.__doc__,\n",
      "\u001b[0;32m/opt/anaconda2/lib/python2.7/site-packages/matplotlib/axes/_axes.pyc\u001b[0m in \u001b[0;36mbar\u001b[0;34m(self, *args, **kwargs)\u001b[0m\n\u001b[1;32m   2331\u001b[0m             \u001b[0mymin\u001b[0m \u001b[0;34m=\u001b[0m \u001b[0mmax\u001b[0m\u001b[0;34m(\u001b[0m\u001b[0mymin\u001b[0m \u001b[0;34m*\u001b[0m \u001b[0;36m0.9\u001b[0m\u001b[0;34m,\u001b[0m \u001b[0;36m1e-100\u001b[0m\u001b[0;34m)\u001b[0m\u001b[0;34m\u001b[0m\u001b[0m\n\u001b[1;32m   2332\u001b[0m             \u001b[0mself\u001b[0m\u001b[0;34m.\u001b[0m\u001b[0mdataLim\u001b[0m\u001b[0;34m.\u001b[0m\u001b[0mintervaly\u001b[0m \u001b[0;34m=\u001b[0m \u001b[0;34m(\u001b[0m\u001b[0mymin\u001b[0m\u001b[0;34m,\u001b[0m \u001b[0mymax\u001b[0m\u001b[0;34m)\u001b[0m\u001b[0;34m\u001b[0m\u001b[0m\n\u001b[0;32m-> 2333\u001b[0;31m         \u001b[0mself\u001b[0m\u001b[0;34m.\u001b[0m\u001b[0mautoscale_view\u001b[0m\u001b[0;34m(\u001b[0m\u001b[0;34m)\u001b[0m\u001b[0;34m\u001b[0m\u001b[0m\n\u001b[0m\u001b[1;32m   2334\u001b[0m \u001b[0;34m\u001b[0m\u001b[0m\n\u001b[1;32m   2335\u001b[0m         \u001b[0mbar_container\u001b[0m \u001b[0;34m=\u001b[0m \u001b[0mBarContainer\u001b[0m\u001b[0;34m(\u001b[0m\u001b[0mpatches\u001b[0m\u001b[0;34m,\u001b[0m \u001b[0merrorbar\u001b[0m\u001b[0;34m,\u001b[0m \u001b[0mlabel\u001b[0m\u001b[0;34m=\u001b[0m\u001b[0mlabel\u001b[0m\u001b[0;34m)\u001b[0m\u001b[0;34m\u001b[0m\u001b[0m\n",
      "\u001b[0;32m/opt/anaconda2/lib/python2.7/site-packages/matplotlib/axes/_base.pyc\u001b[0m in \u001b[0;36mautoscale_view\u001b[0;34m(self, tight, scalex, scaley)\u001b[0m\n\u001b[1;32m   2476\u001b[0m             \u001b[0mstickies\u001b[0m \u001b[0;34m=\u001b[0m \u001b[0;34m[\u001b[0m\u001b[0martist\u001b[0m\u001b[0;34m.\u001b[0m\u001b[0msticky_edges\u001b[0m \u001b[0;32mfor\u001b[0m \u001b[0martist\u001b[0m \u001b[0;32min\u001b[0m \u001b[0mself\u001b[0m\u001b[0;34m.\u001b[0m\u001b[0mget_children\u001b[0m\u001b[0;34m(\u001b[0m\u001b[0;34m)\u001b[0m\u001b[0;34m]\u001b[0m\u001b[0;34m\u001b[0m\u001b[0m\n\u001b[1;32m   2477\u001b[0m             \u001b[0mx_stickies\u001b[0m \u001b[0;34m=\u001b[0m \u001b[0msum\u001b[0m\u001b[0;34m(\u001b[0m\u001b[0;34m[\u001b[0m\u001b[0msticky\u001b[0m\u001b[0;34m.\u001b[0m\u001b[0mx\u001b[0m \u001b[0;32mfor\u001b[0m \u001b[0msticky\u001b[0m \u001b[0;32min\u001b[0m \u001b[0mstickies\u001b[0m\u001b[0;34m]\u001b[0m\u001b[0;34m,\u001b[0m \u001b[0;34m[\u001b[0m\u001b[0;34m]\u001b[0m\u001b[0;34m)\u001b[0m\u001b[0;34m\u001b[0m\u001b[0m\n\u001b[0;32m-> 2478\u001b[0;31m             \u001b[0my_stickies\u001b[0m \u001b[0;34m=\u001b[0m \u001b[0msum\u001b[0m\u001b[0;34m(\u001b[0m\u001b[0;34m[\u001b[0m\u001b[0msticky\u001b[0m\u001b[0;34m.\u001b[0m\u001b[0my\u001b[0m \u001b[0;32mfor\u001b[0m \u001b[0msticky\u001b[0m \u001b[0;32min\u001b[0m \u001b[0mstickies\u001b[0m\u001b[0;34m]\u001b[0m\u001b[0;34m,\u001b[0m \u001b[0;34m[\u001b[0m\u001b[0;34m]\u001b[0m\u001b[0;34m)\u001b[0m\u001b[0;34m\u001b[0m\u001b[0m\n\u001b[0m\u001b[1;32m   2479\u001b[0m             \u001b[0;32mif\u001b[0m \u001b[0mself\u001b[0m\u001b[0;34m.\u001b[0m\u001b[0mget_xscale\u001b[0m\u001b[0;34m(\u001b[0m\u001b[0;34m)\u001b[0m\u001b[0;34m.\u001b[0m\u001b[0mlower\u001b[0m\u001b[0;34m(\u001b[0m\u001b[0;34m)\u001b[0m \u001b[0;34m==\u001b[0m \u001b[0;34m'log'\u001b[0m\u001b[0;34m:\u001b[0m\u001b[0;34m\u001b[0m\u001b[0m\n\u001b[1;32m   2480\u001b[0m                 \u001b[0mx_stickies\u001b[0m \u001b[0;34m=\u001b[0m \u001b[0;34m[\u001b[0m\u001b[0mxs\u001b[0m \u001b[0;32mfor\u001b[0m \u001b[0mxs\u001b[0m \u001b[0;32min\u001b[0m \u001b[0mx_stickies\u001b[0m \u001b[0;32mif\u001b[0m \u001b[0mxs\u001b[0m \u001b[0;34m>\u001b[0m \u001b[0;36m0\u001b[0m\u001b[0;34m]\u001b[0m\u001b[0;34m\u001b[0m\u001b[0m\n",
      "\u001b[0;31mKeyboardInterrupt\u001b[0m: "
     ]
    },
    {
     "data": {
      "image/png": "[encoded data removed]",
      "text/plain": [
       "<Figure size 504x360 with 1 Axes>"
      ]
     },
     "metadata": {
      "needs_background": "light"
     },
     "output_type": "display_data"
    }
   ],
   "source": [
    "if len(param.value) > 1:\n",
    "    fig, axs = plt.subplots(nrows=1, ncols=len(param.value), figsize=(21,4))\n",
    "    for i, p in enumerate(param.value):\n",
    "        axs[i].hist(np.array(df_events[p]), bins=nbins.value, color='teal', alpha=0.8,\n",
    "                   label='%i evts'%len(df_events[p]))\n",
    "        axs[i].set_title(p, size=17)\n",
    "        axs[i].set_xlabel('%s units'%p, size=15)\n",
    "        axs[i].set_ylabel('Number of counts', size=15)\n",
    "        axs[i].set_yscale('log')\n",
    "        axs[i].legend(fontsize=15)\n",
    "    plt.show()\n",
    "else:\n",
    "    plt.figure(figsize=(7,5))\n",
    "    plt.hist(np.array(df_events[param.value[0]]), bins=nbins.value, color='teal', alpha=0.8, \n",
    "             label='%i evts'%len(df_events[param.value[0]]))\n",
    "    plt.title(param.value[0], size=17)\n",
    "    plt.xlabel('%s units'%param.value[0], size=15)\n",
    "    plt.ylabel('Number of counts', size=15)\n",
    "    plt.yscale('log')\n",
    "    plt.legend(fontsize=15)\n",
    "    plt.show()"
   ]
  },
  {
   "cell_type": "markdown",
   "metadata": {},
   "source": [
    "## Energy deposit in subsystems"
   ]
  },
  {
   "cell_type": "code",
   "execution_count": 26,
   "metadata": {},
   "outputs": [
    {
     "data": {
      "text/html": [
       "<div>\n",
       "<style scoped>\n",
       "    .dataframe tbody tr th:only-of-type {\n",
       "        vertical-align: middle;\n",
       "    }\n",
       "\n",
       "    .dataframe tbody tr th {\n",
       "        vertical-align: top;\n",
       "    }\n",
       "\n",
       "    .dataframe thead th {\n",
       "        text-align: right;\n",
       "    }\n",
       "</style>\n",
       "<table border=\"1\" class=\"dataframe\">\n",
       "  <thead>\n",
       "    <tr style=\"text-align: right;\">\n",
       "      <th></th>\n",
       "      <th>DetID</th>\n",
       "      <th>EnDep</th>\n",
       "      <th>HitX</th>\n",
       "      <th>HitY</th>\n",
       "      <th>HitZ</th>\n",
       "    </tr>\n",
       "  </thead>\n",
       "  <tbody>\n",
       "  </tbody>\n",
       "</table>\n",
       "</div>"
      ],
      "text/plain": [
       "Empty DataFrame\n",
       "Columns: [DetID, EnDep, HitX, HitY, HitZ]\n",
       "Index: []"
      ]
     },
     "execution_count": 26,
     "metadata": {},
     "output_type": "execute_result"
    }
   ],
   "source": [
    "df_hit = pd.DataFrame(hit_info)\n",
    "#df_hit\n"
   ]
  },
  {
   "cell_type": "markdown",
   "metadata": {},
   "source": [
    "Select the subsystem(s) you want:"
   ]
  },
  {
   "cell_type": "code",
   "execution_count": 28,
   "metadata": {
    "cell_style": "split"
   },
   "outputs": [
    {
     "data": {
      "application/vnd.jupyter.widget-view+json": {
       "model_id": "8b46a67166ae49a4939aa91a544753d0",
       "version_major": 2,
       "version_minor": 0
      },
      "text/plain": [
       "SelectMultiple(description='Param.: ', index=(0,), layout=Layout(height='90%', width='30%'), options=(1, 2, 7)…"
      ]
     },
     "metadata": {},
     "output_type": "display_data"
    }
   ],
   "source": [
    "subsys = widgets.SelectMultiple(\n",
    "    options=list(np.unique(df_hit['DetID'])),\n",
    "    value=[1],\n",
    "    description='Param.: ',\n",
    "    disabled=False,\n",
    "    layout=Layout(width='30%', height='90%')\n",
    ")\n",
    "subsys"
   ]
  },
  {
   "cell_type": "code",
   "execution_count": 15,
   "metadata": {
    "cell_style": "split"
   },
   "outputs": [
    {
     "data": {
      "application/vnd.jupyter.widget-view+json": {
       "model_id": "4854fe88faf647a09ba2162c750233a1",
       "version_major": 2,
       "version_minor": 0
      },
      "text/plain": [
       "IntText(value=100, description='# on bins', layout=Layout(width='40%'))"
      ]
     },
     "metadata": {},
     "output_type": "display_data"
    }
   ],
   "source": [
    "nbins2 = widgets.IntText(\n",
    "    value=100,\n",
    "    description='# on bins',\n",
    "    disabled=False,\n",
    "    layout=Layout(width='40%')\n",
    ")\n",
    "nbins2"
   ]
  },
  {
   "cell_type": "code",
   "execution_count": 58,
   "metadata": {},
   "outputs": [],
   "source": [
    "#df_hit_sub = df_hit.loc[df_hit['DetID'] == 2]\n",
    "#df_hit_sub"
   ]
  },
  {
   "cell_type": "code",
   "execution_count": 70,
   "metadata": {},
   "outputs": [
    {
     "data": {
      "image/png": "[encoded data removed]",
      "text/plain": [
       "<Figure size 1512x288 with 3 Axes>"
      ]
     },
     "metadata": {
      "needs_background": "light"
     },
     "output_type": "display_data"
    }
   ],
   "source": [
    "detIDdict = DetectorIDdict()\n",
    "if len(subsys.value) > 1:\n",
    "    fig, axs = plt.subplots(nrows=1, ncols=len(subsys.value), figsize=(21,4))\n",
    "    for i, s in enumerate(subsys.value):\n",
    "        df_hit_sub = df_hit.loc[df_hit['DetID'] == s]\n",
    "        axs[i].hist(np.array(df_hit_sub['EnDep']), bins=nbins2.value, color='teal', alpha=0.8,\n",
    "                    label='%i evts'%len(df_hit_sub))\n",
    "        axs[i].set_title('Energy Deposit in %s'%detIDdict[str(s)], size=16)\n",
    "        axs[i].set_xlabel('Energy [keV]', size=15)\n",
    "        axs[i].set_ylabel('Number of counts', size=15)\n",
    "        axs[i].set_yscale('log')\n",
    "        axs[i].legend(fontsize=15)\n",
    "    plt.show()\n",
    "else:\n",
    "    plt.figure(figsize=(7,5))\n",
    "    df_hit_sub = df_hit.loc[df_hit['DetID'] == subsys.value[0]]\n",
    "    plt.hist(np.array(df_hit_sub['EnDep']), bins=nbins2.value, color='teal', alpha=0.8,\n",
    "            label='%i evts'%len(df_hit_sub))\n",
    "    plt.title('Energy Deposit in subsystem %s'%detIDdict[str(subsys.value[0])], size=16)\n",
    "    plt.xlabel('Energy [keV]', size=15)\n",
    "    plt.ylabel('Number of counts', size=15)\n",
    "    plt.yscale('log')\n",
    "    plt.legend(fontsize=15)\n",
    "    plt.show()"
   ]
  },
  {
   "cell_type": "markdown",
   "metadata": {},
   "source": [
    "## Hit distribution along the axes in the MEGA style calorimeter"
   ]
  },
  {
   "cell_type": "code",
   "execution_count": 30,
   "metadata": {
    "scrolled": true
   },
   "outputs": [
    {
     "data": {
      "image/png": "[encoded data removed]",
      "text/plain": [
       "<Figure size 504x360 with 1 Axes>"
      ]
     },
     "metadata": {
      "needs_background": "light"
     },
     "output_type": "display_data"
    },
    {
     "data": {
      "image/png": "[encoded data removed]",
      "text/plain": [
       "<Figure size 504x360 with 1 Axes>"
      ]
     },
     "metadata": {
      "needs_background": "light"
     },
     "output_type": "display_data"
    },
    {
     "data": {
      "image/png": "[encoded data removed]",
      "text/plain": [
       "<Figure size 504x360 with 1 Axes>"
      ]
     },
     "metadata": {
      "needs_background": "light"
     },
     "output_type": "display_data"
    }
   ],
   "source": [
    "plt.figure(figsize=(7,5))\n",
    "df_hit_sub = df_hit.loc[df_hit['DetID'] == 2]\n",
    "plt.hist(np.array(df_hit_sub['HitX']), bins=nbins2.value, color='teal', alpha=0.8,\n",
    "            label='%i evts'%len(df_hit_sub))\n",
    "plt.title('x axis hit distribution %s'%detIDdict[str(subsys.value[0])], size=16)\n",
    "plt.xlabel('x [cm]', size=15)\n",
    "plt.ylabel('Number of counts', size=15)\n",
    "plt.yscale('log')\n",
    "plt.legend(fontsize=15)\n",
    "\n",
    "plt.figure(figsize=(7,5))\n",
    "df_hit_sub = df_hit.loc[df_hit['DetID'] == 2]\n",
    "plt.hist(np.array(df_hit_sub['HitY']), bins=nbins2.value, color='teal', alpha=0.8,\n",
    "            label='%i evts'%len(df_hit_sub))\n",
    "plt.title('y axis hit distribution %s'%detIDdict[str(subsys.value[0])], size=16)\n",
    "plt.xlabel('y [cm]', size=15)\n",
    "plt.ylabel('Number of counts', size=15)\n",
    "plt.yscale('log')\n",
    "plt.legend(fontsize=15)\n",
    "\n",
    "plt.figure(figsize=(7,5))\n",
    "df_hit_sub = df_hit.loc[df_hit['DetID'] == 2]\n",
    "plt.hist(np.array(df_hit_sub['HitZ']), bins=nbins2.value, color='teal', alpha=0.8,\n",
    "            label='%i evts'%len(df_hit_sub))\n",
    "plt.title('z axis hit distribution %s'%detIDdict[str(subsys.value[0])], size=16)\n",
    "plt.xlabel('z [cm]', size=15)\n",
    "plt.ylabel('Number of counts', size=15)\n",
    "plt.yscale('log')\n",
    "plt.legend(fontsize=15)\n",
    "\n",
    "plt.show()"
   ]
  },
  {
   "cell_type": "markdown",
   "metadata": {},
   "source": [
    "## Plot of the efficiency"
   ]
  },
  {
   "cell_type": "code",
   "execution_count": 77,
   "metadata": {},
   "outputs": [
    {
     "data": {
      "image/png": "[encoded data removed]",
      "text/plain": [
       "<Figure size 432x288 with 1 Axes>"
      ]
     },
     "metadata": {
      "needs_background": "light"
     },
     "output_type": "display_data"
    }
   ],
   "source": [
    "tot_sim_evt = 100000\n",
    "trigg_evt = np.array([24578, 21389, 26002, 33557, 44086])\n",
    "trigg_p100 = trigg_evt/tot_sim_evt\n",
    "energy = np.array([1, 2, 5, 10, 30])\n",
    "\n",
    "plt.figure()\n",
    "plt.plot(energy, trigg_p100, 'o-', color='lightcoral')\n",
    "plt.xscale('log')\n",
    "plt.ylim(0, 1)\n",
    "plt.\n",
    "plt.xlabel('Energy [MeV]')\n",
    "plt.show()"
   ]
  },
  {
   "cell_type": "code",
   "execution_count": null,
   "metadata": {},
   "outputs": [],
   "source": []
  }
 ],
 "metadata": {
  "hide_input": false,
  "kernelspec": {
   "display_name": "Python 2",
   "language": "python",
   "name": "python2"
  },
  "language_info": {
   "codemirror_mode": {
    "name": "ipython",
    "version": 2
   },
   "file_extension": ".py",
   "mimetype": "text/x-python",
   "name": "python",
   "nbconvert_exporter": "python",
   "pygments_lexer": "ipython2",
   "version": "2.7.16"
  },
  "latex_envs": {
   "LaTeX_envs_menu_present": true,
   "autoclose": false,
   "autocomplete": true,
   "bibliofile": "biblio.bib",
   "cite_by": "apalike",
   "current_citInitial": 1,
   "eqLabelWithNumbers": true,
   "eqNumInitial": 1,
   "hotkeys": {
    "equation": "Ctrl-E",
    "itemize": "Ctrl-I"
   },
   "labels_anchors": false,
   "latex_user_defs": false,
   "report_style_numbering": false,
   "user_envs_cfg": false
  },
  "toc": {
   "base_numbering": 1,
   "nav_menu": {},
   "number_sections": true,
   "sideBar": true,
   "skip_h1_title": false,
   "title_cell": "Table of Contents",
   "title_sidebar": "Contents",
   "toc_cell": false,
   "toc_position": {
    "height": "728px",
    "left": "303px",
    "top": "165.6666259765625px",
    "width": "315.3333435058594px"
   },
   "toc_section_display": true,
   "toc_window_display": true
  },
  "varInspector": {
   "cols": {
    "lenName": 16,
    "lenType": 16,
    "lenVar": 40
   },
   "kernels_config": {
    "python": {
     "delete_cmd_postfix": "",
     "delete_cmd_prefix": "del ",
     "library": "var_list.py",
     "varRefreshCmd": "print(var_dic_list())"
    },
    "r": {
     "delete_cmd_postfix": ") ",
     "delete_cmd_prefix": "rm(",
     "library": "var_list.r",
     "varRefreshCmd": "cat(var_dic_list()) "
    }
   },
   "types_to_exclude": [
    "module",
    "function",
    "builtin_function_or_method",
    "instance",
    "_Feature"
   ],
   "window_display": false
  }
 },
 "nbformat": 4,
 "nbformat_minor": 2
}
