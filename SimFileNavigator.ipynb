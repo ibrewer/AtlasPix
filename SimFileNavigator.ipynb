{
 "cells": [
  {
   "cell_type": "markdown",
   "metadata": {},
   "source": [
    "[![xtensor](Amego_banner.png)](https://asd.gsfc.nasa.gov/amego/)\n",
    "\n",
    "\n",
    "You can find MEGAlib basic documentation here: http://megalibtoolkit.com/home.html"
   ]
  },
  {
   "cell_type": "code",
   "execution_count": 1,
   "metadata": {},
   "outputs": [],
   "source": [
    "import os\n",
    "import numpy as np\n",
    "import pandas as pd\n",
    "import ipywidgets as widgets\n",
    "import matplotlib.pyplot as plt\n",
    "from IPython.display import display, HTML\n",
    "from ipywidgets import Layout, interactive\n",
    "\n",
    "from gwidgets import SelectFilesButton\n",
    "from gParsing import SimFileParser_general, SimFileParser_events\n",
    "from gParsing import DetectorIDdict"
   ]
  },
  {
   "cell_type": "markdown",
   "metadata": {},
   "source": [
    "# Upload your .sim file "
   ]
  },
  {
   "cell_type": "markdown",
   "metadata": {
    "hide_input": true
   },
   "source": [
    "Browse the simulated file (.sim file by cosima run):"
   ]
  },
  {
   "cell_type": "code",
   "execution_count": 2,
   "metadata": {
    "cell_style": "split",
    "hide_input": false,
    "scrolled": false
   },
   "outputs": [
    {
     "data": {
      "application/vnd.jupyter.widget-view+json": {
       "model_id": "9144733c6fcf4743b6792c28dffcc489",
       "version_major": 2,
       "version_minor": 0
      },
      "text/plain": [
       "SelectFilesButton(description='Select Files', icon='square-o', style=ButtonStyle(button_color='gray'))"
      ]
     },
     "metadata": {},
     "output_type": "display_data"
    },
    {
     "ename": "TraitError",
     "evalue": "The 'files' trait of a SelectFilesButton instance must be a list, but a value of class 'str' (i.e. '') was specified.",
     "output_type": "error",
     "traceback": [
      "\u001b[0;31m---------------------------------------------------------------------------\u001b[0m",
      "\u001b[0;31mTraitError\u001b[0m                                Traceback (most recent call last)",
      "\u001b[0;32m~/astropix/AtlasPix/gwidgets.py\u001b[0m in \u001b[0;36mselect_files\u001b[0;34m(b)\u001b[0m\n\u001b[1;32m     35\u001b[0m         \u001b[0mroot\u001b[0m\u001b[0;34m.\u001b[0m\u001b[0mcall\u001b[0m\u001b[0;34m(\u001b[0m\u001b[0;34m'wm'\u001b[0m\u001b[0;34m,\u001b[0m \u001b[0;34m'attributes'\u001b[0m\u001b[0;34m,\u001b[0m \u001b[0;34m'.'\u001b[0m\u001b[0;34m,\u001b[0m \u001b[0;34m'-topmost'\u001b[0m\u001b[0;34m,\u001b[0m \u001b[0;32mTrue\u001b[0m\u001b[0;34m)\u001b[0m\u001b[0;34m\u001b[0m\u001b[0;34m\u001b[0m\u001b[0m\n\u001b[1;32m     36\u001b[0m         \u001b[0;31m# List of selected fileswill be set to b.value\u001b[0m\u001b[0;34m\u001b[0m\u001b[0;34m\u001b[0m\u001b[0;34m\u001b[0m\u001b[0m\n\u001b[0;32m---> 37\u001b[0;31m         \u001b[0mb\u001b[0m\u001b[0;34m.\u001b[0m\u001b[0mfiles\u001b[0m \u001b[0;34m=\u001b[0m \u001b[0mfiledialog\u001b[0m\u001b[0;34m.\u001b[0m\u001b[0maskopenfilename\u001b[0m\u001b[0;34m(\u001b[0m\u001b[0mmultiple\u001b[0m\u001b[0;34m=\u001b[0m\u001b[0;32mTrue\u001b[0m\u001b[0;34m)\u001b[0m\u001b[0;34m\u001b[0m\u001b[0;34m\u001b[0m\u001b[0m\n\u001b[0m\u001b[1;32m     38\u001b[0m \u001b[0;34m\u001b[0m\u001b[0m\n\u001b[1;32m     39\u001b[0m         \u001b[0mb\u001b[0m\u001b[0;34m.\u001b[0m\u001b[0mdescription\u001b[0m \u001b[0;34m=\u001b[0m \u001b[0;34m\"Files Selected\"\u001b[0m\u001b[0;34m\u001b[0m\u001b[0;34m\u001b[0m\u001b[0m\n",
      "\u001b[0;32m~/opt/anaconda3/lib/python3.7/site-packages/traitlets/traitlets.py\u001b[0m in \u001b[0;36m__set__\u001b[0;34m(self, obj, value)\u001b[0m\n\u001b[1;32m    583\u001b[0m             \u001b[0;32mraise\u001b[0m \u001b[0mTraitError\u001b[0m\u001b[0;34m(\u001b[0m\u001b[0;34m'The \"%s\" trait is read-only.'\u001b[0m \u001b[0;34m%\u001b[0m \u001b[0mself\u001b[0m\u001b[0;34m.\u001b[0m\u001b[0mname\u001b[0m\u001b[0;34m)\u001b[0m\u001b[0;34m\u001b[0m\u001b[0;34m\u001b[0m\u001b[0m\n\u001b[1;32m    584\u001b[0m         \u001b[0;32melse\u001b[0m\u001b[0;34m:\u001b[0m\u001b[0;34m\u001b[0m\u001b[0;34m\u001b[0m\u001b[0m\n\u001b[0;32m--> 585\u001b[0;31m             \u001b[0mself\u001b[0m\u001b[0;34m.\u001b[0m\u001b[0mset\u001b[0m\u001b[0;34m(\u001b[0m\u001b[0mobj\u001b[0m\u001b[0;34m,\u001b[0m \u001b[0mvalue\u001b[0m\u001b[0;34m)\u001b[0m\u001b[0;34m\u001b[0m\u001b[0;34m\u001b[0m\u001b[0m\n\u001b[0m\u001b[1;32m    586\u001b[0m \u001b[0;34m\u001b[0m\u001b[0m\n\u001b[1;32m    587\u001b[0m     \u001b[0;32mdef\u001b[0m \u001b[0m_validate\u001b[0m\u001b[0;34m(\u001b[0m\u001b[0mself\u001b[0m\u001b[0;34m,\u001b[0m \u001b[0mobj\u001b[0m\u001b[0;34m,\u001b[0m \u001b[0mvalue\u001b[0m\u001b[0;34m)\u001b[0m\u001b[0;34m:\u001b[0m\u001b[0;34m\u001b[0m\u001b[0;34m\u001b[0m\u001b[0m\n",
      "\u001b[0;32m~/opt/anaconda3/lib/python3.7/site-packages/traitlets/traitlets.py\u001b[0m in \u001b[0;36mset\u001b[0;34m(self, obj, value)\u001b[0m\n\u001b[1;32m    557\u001b[0m \u001b[0;34m\u001b[0m\u001b[0m\n\u001b[1;32m    558\u001b[0m     \u001b[0;32mdef\u001b[0m \u001b[0mset\u001b[0m\u001b[0;34m(\u001b[0m\u001b[0mself\u001b[0m\u001b[0;34m,\u001b[0m \u001b[0mobj\u001b[0m\u001b[0;34m,\u001b[0m \u001b[0mvalue\u001b[0m\u001b[0;34m)\u001b[0m\u001b[0;34m:\u001b[0m\u001b[0;34m\u001b[0m\u001b[0;34m\u001b[0m\u001b[0m\n\u001b[0;32m--> 559\u001b[0;31m         \u001b[0mnew_value\u001b[0m \u001b[0;34m=\u001b[0m \u001b[0mself\u001b[0m\u001b[0;34m.\u001b[0m\u001b[0m_validate\u001b[0m\u001b[0;34m(\u001b[0m\u001b[0mobj\u001b[0m\u001b[0;34m,\u001b[0m \u001b[0mvalue\u001b[0m\u001b[0;34m)\u001b[0m\u001b[0;34m\u001b[0m\u001b[0;34m\u001b[0m\u001b[0m\n\u001b[0m\u001b[1;32m    560\u001b[0m         \u001b[0;32mtry\u001b[0m\u001b[0;34m:\u001b[0m\u001b[0;34m\u001b[0m\u001b[0;34m\u001b[0m\u001b[0m\n\u001b[1;32m    561\u001b[0m             \u001b[0mold_value\u001b[0m \u001b[0;34m=\u001b[0m \u001b[0mobj\u001b[0m\u001b[0;34m.\u001b[0m\u001b[0m_trait_values\u001b[0m\u001b[0;34m[\u001b[0m\u001b[0mself\u001b[0m\u001b[0;34m.\u001b[0m\u001b[0mname\u001b[0m\u001b[0;34m]\u001b[0m\u001b[0;34m\u001b[0m\u001b[0;34m\u001b[0m\u001b[0m\n",
      "\u001b[0;32m~/opt/anaconda3/lib/python3.7/site-packages/traitlets/traitlets.py\u001b[0m in \u001b[0;36m_validate\u001b[0;34m(self, obj, value)\u001b[0m\n\u001b[1;32m    589\u001b[0m             \u001b[0;32mreturn\u001b[0m \u001b[0mvalue\u001b[0m\u001b[0;34m\u001b[0m\u001b[0;34m\u001b[0m\u001b[0m\n\u001b[1;32m    590\u001b[0m         \u001b[0;32mif\u001b[0m \u001b[0mhasattr\u001b[0m\u001b[0;34m(\u001b[0m\u001b[0mself\u001b[0m\u001b[0;34m,\u001b[0m \u001b[0;34m'validate'\u001b[0m\u001b[0;34m)\u001b[0m\u001b[0;34m:\u001b[0m\u001b[0;34m\u001b[0m\u001b[0;34m\u001b[0m\u001b[0m\n\u001b[0;32m--> 591\u001b[0;31m             \u001b[0mvalue\u001b[0m \u001b[0;34m=\u001b[0m \u001b[0mself\u001b[0m\u001b[0;34m.\u001b[0m\u001b[0mvalidate\u001b[0m\u001b[0;34m(\u001b[0m\u001b[0mobj\u001b[0m\u001b[0;34m,\u001b[0m \u001b[0mvalue\u001b[0m\u001b[0;34m)\u001b[0m\u001b[0;34m\u001b[0m\u001b[0;34m\u001b[0m\u001b[0m\n\u001b[0m\u001b[1;32m    592\u001b[0m         \u001b[0;32mif\u001b[0m \u001b[0mobj\u001b[0m\u001b[0;34m.\u001b[0m\u001b[0m_cross_validation_lock\u001b[0m \u001b[0;32mis\u001b[0m \u001b[0;32mFalse\u001b[0m\u001b[0;34m:\u001b[0m\u001b[0;34m\u001b[0m\u001b[0;34m\u001b[0m\u001b[0m\n\u001b[1;32m    593\u001b[0m             \u001b[0mvalue\u001b[0m \u001b[0;34m=\u001b[0m \u001b[0mself\u001b[0m\u001b[0;34m.\u001b[0m\u001b[0m_cross_validate\u001b[0m\u001b[0;34m(\u001b[0m\u001b[0mobj\u001b[0m\u001b[0;34m,\u001b[0m \u001b[0mvalue\u001b[0m\u001b[0;34m)\u001b[0m\u001b[0;34m\u001b[0m\u001b[0;34m\u001b[0m\u001b[0m\n",
      "\u001b[0;32m~/opt/anaconda3/lib/python3.7/site-packages/traitlets/traitlets.py\u001b[0m in \u001b[0;36mvalidate\u001b[0;34m(self, obj, value)\u001b[0m\n\u001b[1;32m   2322\u001b[0m \u001b[0;34m\u001b[0m\u001b[0m\n\u001b[1;32m   2323\u001b[0m     \u001b[0;32mdef\u001b[0m \u001b[0mvalidate\u001b[0m\u001b[0;34m(\u001b[0m\u001b[0mself\u001b[0m\u001b[0;34m,\u001b[0m \u001b[0mobj\u001b[0m\u001b[0;34m,\u001b[0m \u001b[0mvalue\u001b[0m\u001b[0;34m)\u001b[0m\u001b[0;34m:\u001b[0m\u001b[0;34m\u001b[0m\u001b[0;34m\u001b[0m\u001b[0m\n\u001b[0;32m-> 2324\u001b[0;31m         \u001b[0mvalue\u001b[0m \u001b[0;34m=\u001b[0m \u001b[0msuper\u001b[0m\u001b[0;34m(\u001b[0m\u001b[0mList\u001b[0m\u001b[0;34m,\u001b[0m \u001b[0mself\u001b[0m\u001b[0;34m)\u001b[0m\u001b[0;34m.\u001b[0m\u001b[0mvalidate\u001b[0m\u001b[0;34m(\u001b[0m\u001b[0mobj\u001b[0m\u001b[0;34m,\u001b[0m \u001b[0mvalue\u001b[0m\u001b[0;34m)\u001b[0m\u001b[0;34m\u001b[0m\u001b[0;34m\u001b[0m\u001b[0m\n\u001b[0m\u001b[1;32m   2325\u001b[0m         \u001b[0mvalue\u001b[0m \u001b[0;34m=\u001b[0m \u001b[0mself\u001b[0m\u001b[0;34m.\u001b[0m\u001b[0mvalidate_elements\u001b[0m\u001b[0;34m(\u001b[0m\u001b[0mobj\u001b[0m\u001b[0;34m,\u001b[0m \u001b[0mvalue\u001b[0m\u001b[0;34m)\u001b[0m\u001b[0;34m\u001b[0m\u001b[0;34m\u001b[0m\u001b[0m\n\u001b[1;32m   2326\u001b[0m         \u001b[0;32mreturn\u001b[0m \u001b[0mvalue\u001b[0m\u001b[0;34m\u001b[0m\u001b[0;34m\u001b[0m\u001b[0m\n",
      "\u001b[0;32m~/opt/anaconda3/lib/python3.7/site-packages/traitlets/traitlets.py\u001b[0m in \u001b[0;36mvalidate\u001b[0;34m(self, obj, value)\u001b[0m\n\u001b[1;32m   2236\u001b[0m         \u001b[0;32mif\u001b[0m \u001b[0misinstance\u001b[0m\u001b[0;34m(\u001b[0m\u001b[0mvalue\u001b[0m\u001b[0;34m,\u001b[0m \u001b[0mself\u001b[0m\u001b[0;34m.\u001b[0m\u001b[0m_cast_types\u001b[0m\u001b[0;34m)\u001b[0m\u001b[0;34m:\u001b[0m\u001b[0;34m\u001b[0m\u001b[0;34m\u001b[0m\u001b[0m\n\u001b[1;32m   2237\u001b[0m             \u001b[0mvalue\u001b[0m \u001b[0;34m=\u001b[0m \u001b[0mself\u001b[0m\u001b[0;34m.\u001b[0m\u001b[0mklass\u001b[0m\u001b[0;34m(\u001b[0m\u001b[0mvalue\u001b[0m\u001b[0;34m)\u001b[0m\u001b[0;34m\u001b[0m\u001b[0;34m\u001b[0m\u001b[0m\n\u001b[0;32m-> 2238\u001b[0;31m         \u001b[0mvalue\u001b[0m \u001b[0;34m=\u001b[0m \u001b[0msuper\u001b[0m\u001b[0;34m(\u001b[0m\u001b[0mContainer\u001b[0m\u001b[0;34m,\u001b[0m \u001b[0mself\u001b[0m\u001b[0;34m)\u001b[0m\u001b[0;34m.\u001b[0m\u001b[0mvalidate\u001b[0m\u001b[0;34m(\u001b[0m\u001b[0mobj\u001b[0m\u001b[0;34m,\u001b[0m \u001b[0mvalue\u001b[0m\u001b[0;34m)\u001b[0m\u001b[0;34m\u001b[0m\u001b[0;34m\u001b[0m\u001b[0m\n\u001b[0m\u001b[1;32m   2239\u001b[0m         \u001b[0;32mif\u001b[0m \u001b[0mvalue\u001b[0m \u001b[0;32mis\u001b[0m \u001b[0;32mNone\u001b[0m\u001b[0;34m:\u001b[0m\u001b[0;34m\u001b[0m\u001b[0;34m\u001b[0m\u001b[0m\n\u001b[1;32m   2240\u001b[0m             \u001b[0;32mreturn\u001b[0m \u001b[0mvalue\u001b[0m\u001b[0;34m\u001b[0m\u001b[0;34m\u001b[0m\u001b[0m\n",
      "\u001b[0;32m~/opt/anaconda3/lib/python3.7/site-packages/traitlets/traitlets.py\u001b[0m in \u001b[0;36mvalidate\u001b[0;34m(self, obj, value)\u001b[0m\n\u001b[1;32m   1675\u001b[0m             \u001b[0;32mreturn\u001b[0m \u001b[0mvalue\u001b[0m\u001b[0;34m\u001b[0m\u001b[0;34m\u001b[0m\u001b[0m\n\u001b[1;32m   1676\u001b[0m         \u001b[0;32melse\u001b[0m\u001b[0;34m:\u001b[0m\u001b[0;34m\u001b[0m\u001b[0;34m\u001b[0m\u001b[0m\n\u001b[0;32m-> 1677\u001b[0;31m             \u001b[0mself\u001b[0m\u001b[0;34m.\u001b[0m\u001b[0merror\u001b[0m\u001b[0;34m(\u001b[0m\u001b[0mobj\u001b[0m\u001b[0;34m,\u001b[0m \u001b[0mvalue\u001b[0m\u001b[0;34m)\u001b[0m\u001b[0;34m\u001b[0m\u001b[0;34m\u001b[0m\u001b[0m\n\u001b[0m\u001b[1;32m   1678\u001b[0m \u001b[0;34m\u001b[0m\u001b[0m\n\u001b[1;32m   1679\u001b[0m     \u001b[0;32mdef\u001b[0m \u001b[0minfo\u001b[0m\u001b[0;34m(\u001b[0m\u001b[0mself\u001b[0m\u001b[0;34m)\u001b[0m\u001b[0;34m:\u001b[0m\u001b[0;34m\u001b[0m\u001b[0;34m\u001b[0m\u001b[0m\n",
      "\u001b[0;32m~/opt/anaconda3/lib/python3.7/site-packages/traitlets/traitlets.py\u001b[0m in \u001b[0;36merror\u001b[0;34m(self, obj, value)\u001b[0m\n\u001b[1;32m   1522\u001b[0m                 \u001b[0;34m%\u001b[0m \u001b[0;34m(\u001b[0m\u001b[0mself\u001b[0m\u001b[0;34m.\u001b[0m\u001b[0mname\u001b[0m\u001b[0;34m,\u001b[0m \u001b[0mself\u001b[0m\u001b[0;34m.\u001b[0m\u001b[0minfo\u001b[0m\u001b[0;34m(\u001b[0m\u001b[0;34m)\u001b[0m\u001b[0;34m,\u001b[0m \u001b[0mmsg\u001b[0m\u001b[0;34m)\u001b[0m\u001b[0;34m\u001b[0m\u001b[0;34m\u001b[0m\u001b[0m\n\u001b[1;32m   1523\u001b[0m \u001b[0;34m\u001b[0m\u001b[0m\n\u001b[0;32m-> 1524\u001b[0;31m         \u001b[0;32mraise\u001b[0m \u001b[0mTraitError\u001b[0m\u001b[0;34m(\u001b[0m\u001b[0me\u001b[0m\u001b[0;34m)\u001b[0m\u001b[0;34m\u001b[0m\u001b[0;34m\u001b[0m\u001b[0m\n\u001b[0m\u001b[1;32m   1525\u001b[0m \u001b[0;34m\u001b[0m\u001b[0m\n\u001b[1;32m   1526\u001b[0m \u001b[0;34m\u001b[0m\u001b[0m\n",
      "\u001b[0;31mTraitError\u001b[0m: The 'files' trait of a SelectFilesButton instance must be a list, but a value of class 'str' (i.e. '') was specified."
     ]
    }
   ],
   "source": [
    "browse_file = SelectFilesButton()\n",
    "browse_file"
   ]
  },
  {
   "cell_type": "code",
   "execution_count": 3,
   "metadata": {
    "cell_style": "split"
   },
   "outputs": [
    {
     "data": {
      "text/plain": [
       "'/Users/isabellabrewer/astropix/AtlasPix/cd_lines_high_n.inc1.id1.sim'"
      ]
     },
     "execution_count": 3,
     "metadata": {},
     "output_type": "execute_result"
    }
   ],
   "source": [
    "sim_file = browse_file.files[0]\n",
    "sim_file"
   ]
  },
  {
   "cell_type": "markdown",
   "metadata": {},
   "source": [
    "## Access the simulation main infos"
   ]
  },
  {
   "cell_type": "code",
   "execution_count": 4,
   "metadata": {},
   "outputs": [],
   "source": [
    "general_infos = SimFileParser_general(sim_file)\n",
    "df_general = pd.DataFrame(general_infos)"
   ]
  },
  {
   "cell_type": "markdown",
   "metadata": {},
   "source": [
    "Here is your dataframe:"
   ]
  },
  {
   "cell_type": "code",
   "execution_count": 5,
   "metadata": {},
   "outputs": [
    {
     "data": {
      "text/html": [
       "<div>\n",
       "<style scoped>\n",
       "    .dataframe tbody tr th:only-of-type {\n",
       "        vertical-align: middle;\n",
       "    }\n",
       "\n",
       "    .dataframe tbody tr th {\n",
       "        vertical-align: top;\n",
       "    }\n",
       "\n",
       "    .dataframe thead th {\n",
       "        text-align: right;\n",
       "    }\n",
       "</style>\n",
       "<table border=\"1\" class=\"dataframe\">\n",
       "  <thead>\n",
       "    <tr style=\"text-align: right;\">\n",
       "      <th></th>\n",
       "      <th>Version</th>\n",
       "      <th>Geometry</th>\n",
       "      <th>Date</th>\n",
       "      <th>MEGAlib</th>\n",
       "    </tr>\n",
       "  </thead>\n",
       "  <tbody>\n",
       "    <tr>\n",
       "      <td>0</td>\n",
       "      <td>25</td>\n",
       "      <td>AtlasPix.geo.setup</td>\n",
       "      <td>2020-02-21</td>\n",
       "      <td>2.34.01</td>\n",
       "    </tr>\n",
       "    <tr>\n",
       "      <td>1</td>\n",
       "      <td></td>\n",
       "      <td></td>\n",
       "      <td>14:27:32</td>\n",
       "      <td></td>\n",
       "    </tr>\n",
       "    <tr>\n",
       "      <td>2</td>\n",
       "      <td></td>\n",
       "      <td></td>\n",
       "      <td></td>\n",
       "      <td></td>\n",
       "    </tr>\n",
       "    <tr>\n",
       "      <td>3</td>\n",
       "      <td></td>\n",
       "      <td></td>\n",
       "      <td></td>\n",
       "      <td></td>\n",
       "    </tr>\n",
       "    <tr>\n",
       "      <td>4</td>\n",
       "      <td></td>\n",
       "      <td></td>\n",
       "      <td></td>\n",
       "      <td></td>\n",
       "    </tr>\n",
       "    <tr>\n",
       "      <td>5</td>\n",
       "      <td></td>\n",
       "      <td></td>\n",
       "      <td></td>\n",
       "      <td></td>\n",
       "    </tr>\n",
       "    <tr>\n",
       "      <td>6</td>\n",
       "      <td></td>\n",
       "      <td></td>\n",
       "      <td></td>\n",
       "      <td></td>\n",
       "    </tr>\n",
       "    <tr>\n",
       "      <td>7</td>\n",
       "      <td></td>\n",
       "      <td></td>\n",
       "      <td></td>\n",
       "      <td></td>\n",
       "    </tr>\n",
       "  </tbody>\n",
       "</table>\n",
       "</div>"
      ],
      "text/plain": [
       "  Version            Geometry        Date  MEGAlib\n",
       "0      25  AtlasPix.geo.setup  2020-02-21  2.34.01\n",
       "1                                14:27:32         \n",
       "2                                                 \n",
       "3                                                 \n",
       "4                                                 \n",
       "5                                                 \n",
       "6                                                 \n",
       "7                                                 "
      ]
     },
     "execution_count": 5,
     "metadata": {},
     "output_type": "execute_result"
    }
   ],
   "source": [
    "df_general[['Version', 'Geometry','Date', 'MEGAlib']]"
   ]
  },
  {
   "cell_type": "code",
   "execution_count": 6,
   "metadata": {},
   "outputs": [
    {
     "data": {
      "text/html": [
       "<div>\n",
       "<style scoped>\n",
       "    .dataframe tbody tr th:only-of-type {\n",
       "        vertical-align: middle;\n",
       "    }\n",
       "\n",
       "    .dataframe tbody tr th {\n",
       "        vertical-align: top;\n",
       "    }\n",
       "\n",
       "    .dataframe thead th {\n",
       "        text-align: right;\n",
       "    }\n",
       "</style>\n",
       "<table border=\"1\" class=\"dataframe\">\n",
       "  <thead>\n",
       "    <tr style=\"text-align: right;\">\n",
       "      <th></th>\n",
       "      <th>Seed</th>\n",
       "      <th>SimulationStartAreaFarField</th>\n",
       "      <th>BeamType</th>\n",
       "      <th>SpectralType</th>\n",
       "      <th>TB</th>\n",
       "      <th>TE</th>\n",
       "      <th>TS</th>\n",
       "    </tr>\n",
       "  </thead>\n",
       "  <tbody>\n",
       "    <tr>\n",
       "      <td>0</td>\n",
       "      <td>1582313252</td>\n",
       "      <td>0.0</td>\n",
       "      <td>Point</td>\n",
       "      <td>Mono</td>\n",
       "      <td>0</td>\n",
       "      <td>12.082</td>\n",
       "      <td>290601490</td>\n",
       "    </tr>\n",
       "    <tr>\n",
       "      <td>1</td>\n",
       "      <td></td>\n",
       "      <td></td>\n",
       "      <td></td>\n",
       "      <td></td>\n",
       "      <td></td>\n",
       "      <td></td>\n",
       "      <td></td>\n",
       "    </tr>\n",
       "    <tr>\n",
       "      <td>2</td>\n",
       "      <td></td>\n",
       "      <td></td>\n",
       "      <td></td>\n",
       "      <td></td>\n",
       "      <td></td>\n",
       "      <td></td>\n",
       "      <td></td>\n",
       "    </tr>\n",
       "    <tr>\n",
       "      <td>3</td>\n",
       "      <td></td>\n",
       "      <td></td>\n",
       "      <td></td>\n",
       "      <td></td>\n",
       "      <td></td>\n",
       "      <td></td>\n",
       "      <td></td>\n",
       "    </tr>\n",
       "    <tr>\n",
       "      <td>4</td>\n",
       "      <td></td>\n",
       "      <td></td>\n",
       "      <td></td>\n",
       "      <td></td>\n",
       "      <td></td>\n",
       "      <td></td>\n",
       "      <td></td>\n",
       "    </tr>\n",
       "    <tr>\n",
       "      <td>5</td>\n",
       "      <td></td>\n",
       "      <td></td>\n",
       "      <td></td>\n",
       "      <td></td>\n",
       "      <td></td>\n",
       "      <td></td>\n",
       "      <td></td>\n",
       "    </tr>\n",
       "    <tr>\n",
       "      <td>6</td>\n",
       "      <td></td>\n",
       "      <td></td>\n",
       "      <td></td>\n",
       "      <td></td>\n",
       "      <td></td>\n",
       "      <td></td>\n",
       "      <td></td>\n",
       "    </tr>\n",
       "    <tr>\n",
       "      <td>7</td>\n",
       "      <td></td>\n",
       "      <td></td>\n",
       "      <td></td>\n",
       "      <td></td>\n",
       "      <td></td>\n",
       "      <td></td>\n",
       "      <td></td>\n",
       "    </tr>\n",
       "  </tbody>\n",
       "</table>\n",
       "</div>"
      ],
      "text/plain": [
       "         Seed SimulationStartAreaFarField BeamType SpectralType TB      TE  \\\n",
       "0  1582313252                         0.0    Point         Mono  0  12.082   \n",
       "1                                                                            \n",
       "2                                                                            \n",
       "3                                                                            \n",
       "4                                                                            \n",
       "5                                                                            \n",
       "6                                                                            \n",
       "7                                                                            \n",
       "\n",
       "          TS  \n",
       "0  290601490  \n",
       "1             \n",
       "2             \n",
       "3             \n",
       "4             \n",
       "5             \n",
       "6             \n",
       "7             "
      ]
     },
     "execution_count": 6,
     "metadata": {},
     "output_type": "execute_result"
    }
   ],
   "source": [
    "df_general[['Seed', 'SimulationStartAreaFarField','BeamType','SpectralType','TB','TE','TS']]"
   ]
  },
  {
   "cell_type": "markdown",
   "metadata": {},
   "source": [
    "# Plotting"
   ]
  },
  {
   "cell_type": "markdown",
   "metadata": {},
   "source": [
    "## Load simulated events with pandas"
   ]
  },
  {
   "cell_type": "code",
   "execution_count": 7,
   "metadata": {},
   "outputs": [
    {
     "name": "stdout",
     "output_type": "stream",
     "text": [
      "// ------------------------------- //\n",
      "// Number of triggers found: 100000  //\n",
      "// ------------------------------- //\n"
     ]
    }
   ],
   "source": [
    "sim_events, hit_info = SimFileParser_events(sim_file)\n",
    "df_events = pd.DataFrame(sim_events).T\n",
    "#df_events"
   ]
  },
  {
   "cell_type": "code",
   "execution_count": 7,
   "metadata": {
    "scrolled": true
   },
   "outputs": [
    {
     "name": "stdout",
     "output_type": "stream",
     "text": [
      "// ------------------------------- //\n",
      "// Number of triggers found: 100000  //\n",
      "// ------------------------------- //\n"
     ]
    },
    {
     "data": {
      "text/html": [
       "<div>\n",
       "<style scoped>\n",
       "    .dataframe tbody tr th:only-of-type {\n",
       "        vertical-align: middle;\n",
       "    }\n",
       "\n",
       "    .dataframe tbody tr th {\n",
       "        vertical-align: top;\n",
       "    }\n",
       "\n",
       "    .dataframe thead th {\n",
       "        text-align: right;\n",
       "    }\n",
       "</style>\n",
       "<table border=\"1\" class=\"dataframe\">\n",
       "  <thead>\n",
       "    <tr style=\"text-align: right;\">\n",
       "      <th></th>\n",
       "      <th>DetID</th>\n",
       "      <th>EnDep</th>\n",
       "      <th>HitX</th>\n",
       "      <th>HitY</th>\n",
       "      <th>HitZ</th>\n",
       "    </tr>\n",
       "  </thead>\n",
       "  <tbody>\n",
       "    <tr>\n",
       "      <td>0</td>\n",
       "      <td>8</td>\n",
       "      <td>21.99060</td>\n",
       "      <td>0.01301</td>\n",
       "      <td>-0.76390</td>\n",
       "      <td>0.0</td>\n",
       "    </tr>\n",
       "    <tr>\n",
       "      <td>1</td>\n",
       "      <td>8</td>\n",
       "      <td>21.99060</td>\n",
       "      <td>0.09107</td>\n",
       "      <td>-0.57543</td>\n",
       "      <td>0.0</td>\n",
       "    </tr>\n",
       "    <tr>\n",
       "      <td>2</td>\n",
       "      <td>8</td>\n",
       "      <td>24.94270</td>\n",
       "      <td>0.07806</td>\n",
       "      <td>0.69974</td>\n",
       "      <td>0.0</td>\n",
       "    </tr>\n",
       "    <tr>\n",
       "      <td>3</td>\n",
       "      <td>8</td>\n",
       "      <td>22.16317</td>\n",
       "      <td>-0.11709</td>\n",
       "      <td>-0.65964</td>\n",
       "      <td>0.0</td>\n",
       "    </tr>\n",
       "    <tr>\n",
       "      <td>4</td>\n",
       "      <td>8</td>\n",
       "      <td>24.94270</td>\n",
       "      <td>0.06505</td>\n",
       "      <td>0.65563</td>\n",
       "      <td>0.0</td>\n",
       "    </tr>\n",
       "    <tr>\n",
       "      <td>...</td>\n",
       "      <td>...</td>\n",
       "      <td>...</td>\n",
       "      <td>...</td>\n",
       "      <td>...</td>\n",
       "      <td>...</td>\n",
       "    </tr>\n",
       "    <tr>\n",
       "      <td>102866</td>\n",
       "      <td>8</td>\n",
       "      <td>24.94270</td>\n",
       "      <td>-0.10408</td>\n",
       "      <td>-0.71979</td>\n",
       "      <td>0.0</td>\n",
       "    </tr>\n",
       "    <tr>\n",
       "      <td>102867</td>\n",
       "      <td>8</td>\n",
       "      <td>24.94270</td>\n",
       "      <td>0.09107</td>\n",
       "      <td>0.68771</td>\n",
       "      <td>0.0</td>\n",
       "    </tr>\n",
       "    <tr>\n",
       "      <td>102868</td>\n",
       "      <td>8</td>\n",
       "      <td>23.22218</td>\n",
       "      <td>0.13010</td>\n",
       "      <td>-0.77994</td>\n",
       "      <td>0.0</td>\n",
       "    </tr>\n",
       "    <tr>\n",
       "      <td>102869</td>\n",
       "      <td>8</td>\n",
       "      <td>1.72052</td>\n",
       "      <td>0.13010</td>\n",
       "      <td>-0.78395</td>\n",
       "      <td>0.0</td>\n",
       "    </tr>\n",
       "    <tr>\n",
       "      <td>102870</td>\n",
       "      <td>8</td>\n",
       "      <td>21.99060</td>\n",
       "      <td>0.11709</td>\n",
       "      <td>-0.45112</td>\n",
       "      <td>0.0</td>\n",
       "    </tr>\n",
       "  </tbody>\n",
       "</table>\n",
       "<p>102871 rows × 5 columns</p>\n",
       "</div>"
      ],
      "text/plain": [
       "        DetID     EnDep     HitX     HitY  HitZ\n",
       "0           8  21.99060  0.01301 -0.76390   0.0\n",
       "1           8  21.99060  0.09107 -0.57543   0.0\n",
       "2           8  24.94270  0.07806  0.69974   0.0\n",
       "3           8  22.16317 -0.11709 -0.65964   0.0\n",
       "4           8  24.94270  0.06505  0.65563   0.0\n",
       "...       ...       ...      ...      ...   ...\n",
       "102866      8  24.94270 -0.10408 -0.71979   0.0\n",
       "102867      8  24.94270  0.09107  0.68771   0.0\n",
       "102868      8  23.22218  0.13010 -0.77994   0.0\n",
       "102869      8   1.72052  0.13010 -0.78395   0.0\n",
       "102870      8  21.99060  0.11709 -0.45112   0.0\n",
       "\n",
       "[102871 rows x 5 columns]"
      ]
     },
     "execution_count": 7,
     "metadata": {},
     "output_type": "execute_result"
    }
   ],
   "source": [
    "sim_events, hit_info = SimFileParser_events(sim_file)\n",
    "df_hits = pd.DataFrame(hit_info)\n",
    "df_hits"
   ]
  },
  {
   "cell_type": "code",
   "execution_count": 15,
   "metadata": {},
   "outputs": [
    {
     "data": {
      "text/plain": [
       "0         21.9906\n",
       "1         21.9906\n",
       "2         24.9427\n",
       "3         21.9906\n",
       "4         21.9906\n",
       "           ...   \n",
       "102931    21.9906\n",
       "102932    24.9427\n",
       "102933    24.9427\n",
       "102934    21.9906\n",
       "102935    25.4567\n",
       "Name: EnDep, Length: 102936, dtype: float64"
      ]
     },
     "execution_count": 15,
     "metadata": {},
     "output_type": "execute_result"
    }
   ],
   "source": [
    "df_hits['EnDep']"
   ]
  },
  {
   "cell_type": "code",
   "execution_count": 9,
   "metadata": {},
   "outputs": [
    {
     "ename": "NameError",
     "evalue": "name 'x_edge_spectrum' is not defined",
     "output_type": "error",
     "traceback": [
      "\u001b[0;31m---------------------------------------------------------------------------\u001b[0m",
      "\u001b[0;31mNameError\u001b[0m                                 Traceback (most recent call last)",
      "\u001b[0;32m<ipython-input-9-8c8b88dc0aff>\u001b[0m in \u001b[0;36m<module>\u001b[0;34m\u001b[0m\n\u001b[1;32m     15\u001b[0m \u001b[0mhalf_height\u001b[0m \u001b[0;34m=\u001b[0m \u001b[0my_dim\u001b[0m\u001b[0;34m*\u001b[0m\u001b[0my_num\u001b[0m\u001b[0;34m/\u001b[0m\u001b[0;36m2\u001b[0m\u001b[0;34m\u001b[0m\u001b[0;34m\u001b[0m\u001b[0m\n\u001b[1;32m     16\u001b[0m \u001b[0mlimits\u001b[0m \u001b[0;34m=\u001b[0m \u001b[0;34m[\u001b[0m\u001b[0;34m[\u001b[0m\u001b[0;34m-\u001b[0m\u001b[0mhalf_width\u001b[0m\u001b[0;34m,\u001b[0m\u001b[0mhalf_width\u001b[0m\u001b[0;34m]\u001b[0m\u001b[0;34m,\u001b[0m\u001b[0;34m[\u001b[0m\u001b[0;34m-\u001b[0m\u001b[0mhalf_height\u001b[0m\u001b[0;34m,\u001b[0m\u001b[0mhalf_height\u001b[0m\u001b[0;34m]\u001b[0m\u001b[0;34m]\u001b[0m\u001b[0;34m\u001b[0m\u001b[0;34m\u001b[0m\u001b[0m\n\u001b[0;32m---> 17\u001b[0;31m \u001b[0mH\u001b[0m\u001b[0;34m,\u001b[0m \u001b[0mxedges\u001b[0m\u001b[0;34m,\u001b[0m \u001b[0myedges\u001b[0m \u001b[0;34m=\u001b[0m \u001b[0mnp\u001b[0m\u001b[0;34m.\u001b[0m\u001b[0mhistogram2d\u001b[0m\u001b[0;34m(\u001b[0m\u001b[0mx_hits\u001b[0m\u001b[0;34m,\u001b[0m \u001b[0my_hits\u001b[0m\u001b[0;34m,\u001b[0m \u001b[0mbins\u001b[0m\u001b[0;34m=\u001b[0m\u001b[0;34m[\u001b[0m\u001b[0mx_edge_spectrum\u001b[0m\u001b[0;34m,\u001b[0m\u001b[0my_edge_spectrum\u001b[0m\u001b[0;34m]\u001b[0m\u001b[0;34m,\u001b[0m \u001b[0mrange\u001b[0m\u001b[0;34m=\u001b[0m\u001b[0mlimits\u001b[0m\u001b[0;34m)\u001b[0m\u001b[0;34m\u001b[0m\u001b[0;34m\u001b[0m\u001b[0m\n\u001b[0m\u001b[1;32m     18\u001b[0m \u001b[0mH\u001b[0m \u001b[0;34m=\u001b[0m \u001b[0mH\u001b[0m\u001b[0;34m.\u001b[0m\u001b[0mT\u001b[0m\u001b[0;34m\u001b[0m\u001b[0;34m\u001b[0m\u001b[0m\n",
      "\u001b[0;31mNameError\u001b[0m: name 'x_edge_spectrum' is not defined"
     ]
    }
   ],
   "source": [
    "# Find the x and y position of each hit.\n",
    "x_hits = np.zeros(len(df_hits))\n",
    "y_hits = np.zeros(len(df_hits))\n",
    "\n",
    "for i in range(len(df_hits)):\n",
    "    x_hits[i] = float(df_hits[i:i+1]['HitX'])\n",
    "    y_hits[i] = float(df_hits[i:i+1]['HitY'])\n",
    "    \n",
    "# Establish the physical parameters of the detector:\n",
    "x_dim = 130*(10**-4) # x dimension of each pixel in cm\n",
    "y_dim = 40*(10**-4) # x dimension of each pixel in cm\n",
    "x_num = 25 # Number of pixels in the x direction\n",
    "y_num = 400 # Number of pixels in the y direction\n",
    "half_width = x_dim*x_num/2\n",
    "half_height = y_dim*y_num/2\n",
    "limits = [[-half_width,half_width],[-half_height,half_height]]\n",
    "H, xedges, yedges = np.histogram2d(x_hits, y_hits, bins=[x_edge_spectrum,y_edge_spectrum], range=limits)\n",
    "H = H.T"
   ]
  },
  {
   "cell_type": "code",
   "execution_count": 8,
   "metadata": {},
   "outputs": [],
   "source": [
    "x_hits = np.zeros(len(df_hits))\n",
    "y_hits = np.zeros(len(df_hits))\n",
    "e_dep = np.zeros(len(df_hits))\n",
    "\n",
    "for i in range(len(df_hits)):\n",
    "    x_hits[i] = float(df_hits[i:i+1]['HitX'])\n",
    "    y_hits[i] = float(df_hits[i:i+1]['HitY'])\n",
    "    e_dep[i] = float(df_hits[i:i+1]['EnDep'])"
   ]
  },
  {
   "cell_type": "code",
   "execution_count": 9,
   "metadata": {},
   "outputs": [
    {
     "data": {
      "text/plain": [
       "(array([7.3800e+02, 7.2200e+02, 6.7100e+02, 5.9200e+02, 5.6500e+02,\n",
       "        5.5700e+02, 1.2890e+03, 1.5530e+03, 3.6100e+02, 2.2800e+02,\n",
       "        1.9600e+02, 1.4000e+02, 1.0200e+02, 7.2000e+01, 8.0000e+01,\n",
       "        8.7000e+01, 6.9000e+01, 6.9000e+01, 6.9000e+01, 6.6000e+01,\n",
       "        6.2000e+01, 6.2000e+01, 4.9000e+01, 5.4000e+01, 4.5000e+01,\n",
       "        5.9000e+01, 4.3000e+01, 4.4000e+01, 4.4000e+01, 2.4000e+01,\n",
       "        3.6000e+01, 4.0000e+01, 3.4000e+01, 3.3000e+01, 3.0000e+01,\n",
       "        4.1000e+01, 2.4000e+01, 2.5000e+01, 3.1000e+01, 3.0000e+01,\n",
       "        2.6000e+01, 2.1000e+01, 2.7000e+01, 3.0000e+01, 2.9000e+01,\n",
       "        2.4000e+01, 1.8000e+01, 1.5000e+01, 1.4000e+01, 2.6000e+01,\n",
       "        2.2000e+01, 2.2000e+01, 2.3000e+01, 1.4000e+01, 2.1000e+01,\n",
       "        2.4000e+01, 1.7000e+01, 2.2000e+01, 2.1000e+01, 1.2000e+01,\n",
       "        1.3000e+01, 1.1000e+01, 2.2000e+01, 1.3000e+01, 1.4000e+01,\n",
       "        1.2000e+01, 1.5000e+01, 1.5000e+01, 2.2000e+01, 1.2000e+01,\n",
       "        1.6000e+01, 2.1000e+01, 2.6000e+01, 1.6000e+01, 2.4000e+01,\n",
       "        1.0000e+01, 1.8000e+01, 2.6000e+01, 2.8000e+01, 1.2300e+03,\n",
       "        1.2000e+02, 4.6000e+01, 5.6000e+01, 6.2000e+01, 5.2000e+01,\n",
       "        8.8000e+01, 4.9724e+04, 8.0990e+03, 9.0000e+00, 2.0000e+01,\n",
       "        3.2800e+02, 2.5300e+02, 1.6900e+02, 1.4000e+02, 2.4000e+01,\n",
       "        3.1000e+01, 1.9000e+01, 2.2180e+04, 8.0000e+00, 1.0415e+04]),\n",
       " array([6.55000000e-03, 2.61051500e-01, 5.15553000e-01, 7.70054500e-01,\n",
       "        1.02455600e+00, 1.27905750e+00, 1.53355900e+00, 1.78806050e+00,\n",
       "        2.04256200e+00, 2.29706350e+00, 2.55156500e+00, 2.80606650e+00,\n",
       "        3.06056800e+00, 3.31506950e+00, 3.56957100e+00, 3.82407250e+00,\n",
       "        4.07857400e+00, 4.33307550e+00, 4.58757700e+00, 4.84207850e+00,\n",
       "        5.09658000e+00, 5.35108150e+00, 5.60558300e+00, 5.86008450e+00,\n",
       "        6.11458600e+00, 6.36908750e+00, 6.62358900e+00, 6.87809050e+00,\n",
       "        7.13259200e+00, 7.38709350e+00, 7.64159500e+00, 7.89609650e+00,\n",
       "        8.15059800e+00, 8.40509950e+00, 8.65960100e+00, 8.91410250e+00,\n",
       "        9.16860400e+00, 9.42310550e+00, 9.67760700e+00, 9.93210850e+00,\n",
       "        1.01866100e+01, 1.04411115e+01, 1.06956130e+01, 1.09501145e+01,\n",
       "        1.12046160e+01, 1.14591175e+01, 1.17136190e+01, 1.19681205e+01,\n",
       "        1.22226220e+01, 1.24771235e+01, 1.27316250e+01, 1.29861265e+01,\n",
       "        1.32406280e+01, 1.34951295e+01, 1.37496310e+01, 1.40041325e+01,\n",
       "        1.42586340e+01, 1.45131355e+01, 1.47676370e+01, 1.50221385e+01,\n",
       "        1.52766400e+01, 1.55311415e+01, 1.57856430e+01, 1.60401445e+01,\n",
       "        1.62946460e+01, 1.65491475e+01, 1.68036490e+01, 1.70581505e+01,\n",
       "        1.73126520e+01, 1.75671535e+01, 1.78216550e+01, 1.80761565e+01,\n",
       "        1.83306580e+01, 1.85851595e+01, 1.88396610e+01, 1.90941625e+01,\n",
       "        1.93486640e+01, 1.96031655e+01, 1.98576670e+01, 2.01121685e+01,\n",
       "        2.03666700e+01, 2.06211715e+01, 2.08756730e+01, 2.11301745e+01,\n",
       "        2.13846760e+01, 2.16391775e+01, 2.18936790e+01, 2.21481805e+01,\n",
       "        2.24026820e+01, 2.26571835e+01, 2.29116850e+01, 2.31661865e+01,\n",
       "        2.34206880e+01, 2.36751895e+01, 2.39296910e+01, 2.41841925e+01,\n",
       "        2.44386940e+01, 2.46931955e+01, 2.49476970e+01, 2.52021985e+01,\n",
       "        2.54567000e+01]),\n",
       " <a list of 100 Patch objects>)"
      ]
     },
     "execution_count": 9,
     "metadata": {},
     "output_type": "execute_result"
    },
    {
     "data": {
      "image/png": "[encoded data removed]",
      "text/plain": [
       "<Figure size 432x288 with 1 Axes>"
      ]
     },
     "metadata": {
      "needs_background": "light"
     },
     "output_type": "display_data"
    }
   ],
   "source": [
    "plt.hist(e_dep, bins=100)"
   ]
  },
  {
   "cell_type": "code",
   "execution_count": 58,
   "metadata": {},
   "outputs": [],
   "source": [
    "def pixel_spectrum(hits_data, x_pixel, y_pixel):\n",
    "    \n",
    "    x_hits = np.zeros(len(df_hits))\n",
    "    y_hits = np.zeros(len(df_hits))\n",
    "    e_dep = np.zeros(len(df_hits))\n",
    "\n",
    "    for i in range(len(df_hits)):\n",
    "        x_hits[i] = float(df_hits[i:i+1]['HitX'])\n",
    "        y_hits[i] = float(df_hits[i:i+1]['HitY'])\n",
    "        e_dep[i] = float(df_hits[i:i+1]['EnDep'])\n",
    "    \n",
    "    x_dim = 130*(10**-4) # x dimension of each pixel in cm\n",
    "    y_dim = 40*(10**-4) # x dimension of each pixel in cm\n",
    "    x_num = 25 # Number of pixels in the x direction\n",
    "    y_num = 400 # Number of pixels in the y direction\n",
    "    half_width = x_dim*x_num/2\n",
    "    half_height = y_dim*y_num/2\n",
    "\n",
    "    x_edge = np.zeros(x_num+1)\n",
    "    y_edge = np.zeros(y_num+1)\n",
    "\n",
    "    for i in range(x_num+1):\n",
    "        x_edge[i] = i*x_dim - half_width\n",
    "    \n",
    "    for i in range(y_num+1):\n",
    "        y_edge[i] = i*y_dim - half_height\n",
    "        \n",
    "    index = []\n",
    "    \n",
    "    for i in range(len(x_hits)):\n",
    "        if x_edge[x_pixel]<x_hits[i]<x_edge[x_pixel+1] and y_edge[y_pixel]<y_hits[i]<y_edge[y_pixel+1]:\n",
    "            index = np.append(index, i)\n",
    "\n",
    "    if len(index)==0:\n",
    "        print(\"No pixels matching this description triggered.\")\n",
    "    else:\n",
    "        print(\"There are %d total triggers.\" %(len(index)))\n",
    "        e_hits = np.zeros(len(index))\n",
    "        from matplotlib.pyplot import figure\n",
    "        figure(num=None, figsize=(10, 6))\n",
    "        for i in range(len(index)):\n",
    "            e_hits[i] = e_dep[int(index[i])]\n",
    "        plt.hist(e_hits)\n",
    "        plt.title('Energy Spectrum for Pixel %d, %d' %(x_pixel, y_pixel))\n",
    "        plt.xlabel('Energy (keV)')\n",
    "        plt.ylabel('Counts')"
   ]
  },
  {
   "cell_type": "code",
   "execution_count": 64,
   "metadata": {},
   "outputs": [
    {
     "name": "stdout",
     "output_type": "stream",
     "text": [
      "There are 34 total triggers.\n"
     ]
    },
    {
     "data": {
      "image/png": "[encoded data removed]",
      "text/plain": [
       "<Figure size 720x432 with 1 Axes>"
      ]
     },
     "metadata": {
      "needs_background": "light"
     },
     "output_type": "display_data"
    }
   ],
   "source": [
    "pixel_spectrum(df_hits,11,112)"
   ]
  },
  {
   "cell_type": "code",
   "execution_count": 63,
   "metadata": {},
   "outputs": [
    {
     "name": "stdout",
     "output_type": "stream",
     "text": [
      "34.0\n"
     ]
    }
   ],
   "source": [
    "print(H[112][11])"
   ]
  },
  {
   "cell_type": "code",
   "execution_count": 90,
   "metadata": {},
   "outputs": [],
   "source": [
    "def hit_positions(hits_data, x_tick, y_tick, title):\n",
    "    \"\"\"\n",
    "    \n",
    "    hits_data: Pandas dataset. --> Contains the hit locations and energies.\n",
    "               \n",
    "    x_tick: float. --> Number of ticks you want for the x axis.\n",
    "               \n",
    "    y_tick: float. --> Number of ticks you want for the y axis.\n",
    "               \n",
    "    title: string. --> Title of the plot.\n",
    "            \n",
    "    \n",
    "    \"\"\"\n",
    "    # Find the x and y position of each hit.\n",
    "    x_hits = np.zeros(len(hits_data))\n",
    "    y_hits = np.zeros(len(hits_data))\n",
    "\n",
    "    for i in range(len(hits_data)):\n",
    "        x_hits[i] = float(hits_data[i:i+1]['HitX'])\n",
    "        y_hits[i] = float(hits_data[i:i+1]['HitY'])\n",
    "    \n",
    "    # Establish the physical parameters of the detector:\n",
    "    x_dim = 130*(10**-4) # x dimension of each pixel in cm\n",
    "    y_dim = 40*(10**-4) # x dimension of each pixel in cm\n",
    "    x_num = 25 # Number of pixels in the x direction\n",
    "    y_num = 400 # Number of pixels in the y direction\n",
    "\n",
    "    # Plot\n",
    "    from matplotlib.pyplot import figure\n",
    "    figure(num=None, figsize=(14, 10))\n",
    "    ax = plt.gca()\n",
    "    ax.set_aspect('equal', adjustable='box')\n",
    "    ax.plot(x_hits,y_hits,'.',color='blue')\n",
    "    # Arrange the ticks\n",
    "    half_width = x_dim*x_num/2\n",
    "    half_height = y_dim*y_num/2\n",
    "    step_size_x = (x_dim*x_num)/x_tick\n",
    "    step_size_y = (y_dim*y_num)/y_tick\n",
    "    ax.set_xticks(np.arange(-half_width,half_width,step_size_x)+(x_dim/2))\n",
    "    ax.set_yticks(np.arange(-half_height,half_height,step_size_y)+(y_dim/2))\n",
    "    ax.set_xticklabels(np.arange(0,x_num+(x_num/x_tick),(x_num/x_tick),dtype=int))\n",
    "    ax.set_yticklabels(np.arange(0,y_num+(y_num/y_tick),(y_num/y_tick),dtype=int))\n",
    "    plt.xlim(-half_width, half_width)\n",
    "    plt.ylim(-half_height, half_height)\n",
    "    plt.xlabel('Pixel Number', size=12)\n",
    "    plt.ylabel('Pixel Number', size=12)\n",
    "    plt.title(title, size=14)\n",
    "    \n",
    "    return"
   ]
  },
  {
   "cell_type": "code",
   "execution_count": 89,
   "metadata": {},
   "outputs": [
    {
     "data": {
      "image/png": "[encoded data removed]",
      "text/plain": [
       "<Figure size 1008x720 with 1 Axes>"
      ]
     },
     "metadata": {
      "needs_background": "light"
     },
     "output_type": "display_data"
    }
   ],
   "source": [
    "hit_positions(df_hits,5,20,'Cd_Source')"
   ]
  },
  {
   "cell_type": "code",
   "execution_count": 51,
   "metadata": {},
   "outputs": [],
   "source": [
    "def hit_heatmap(hits_data, x_tick, y_tick, title):\n",
    "    \"\"\"\n",
    "    \n",
    "    hits_data: Pandas dataset. --> Contains the hit locations and energies.\n",
    "               \n",
    "    x_tick: float. --> Number of ticks you want for the x axis.\n",
    "               \n",
    "    y_tick: float. --> Number of ticks you want for the y axis.\n",
    "               \n",
    "    title: string. --> Title of the plot.\n",
    "            \n",
    "    \n",
    "    \"\"\"\n",
    "    # Find the x and y position of each hit.\n",
    "    x_hits = np.zeros(len(hits_data))\n",
    "    y_hits = np.zeros(len(hits_data))\n",
    "\n",
    "    for i in range(len(hits_data)):\n",
    "        x_hits[i] = float(hits_data[i:i+1]['HitX'])\n",
    "        y_hits[i] = float(hits_data[i:i+1]['HitY'])\n",
    "    \n",
    "    # Establish the physical parameters of the detector:\n",
    "    x_dim = 130*(10**-4) # x dimension of each pixel in cm\n",
    "    y_dim = 40*(10**-4) # x dimension of each pixel in cm\n",
    "    x_num = 25 # Number of pixels in the x direction\n",
    "    y_num = 400 # Number of pixels in the y direction\n",
    "\n",
    "    # Plot\n",
    "    from matplotlib.pyplot import figure\n",
    "    figure(num=None, figsize=(14, 10))\n",
    "    ax = plt.gca()\n",
    "    ax.set_aspect('equal', adjustable='box')\n",
    "    half_width = x_dim*x_num/2\n",
    "    half_height = y_dim*y_num/2\n",
    "    step_size_x = (x_dim*x_num)/x_tick\n",
    "    step_size_y = (y_dim*y_num)/y_tick\n",
    "    # Plot the heatmap\n",
    "    limits = [[-half_width,half_width],[-half_height,half_height]]\n",
    "    x_edge = np.zeros(x_num+1)\n",
    "    y_edge = np.zeros(y_num+1)\n",
    "    \n",
    "    for i in range(x_num+1):\n",
    "        x_edge[i] = i*x_dim - half_width\n",
    "    \n",
    "    for i in range(y_num+1):\n",
    "        y_edge[i] = i*y_dim - half_height\n",
    "        \n",
    "    H, xedges, yedges = np.histogram2d(x_hits, y_hits, bins=[x_edge,y_edge], range=limits)\n",
    "    H = H.T \n",
    "    im = ax.imshow(H, interpolation='nearest', extent=[limits[0][0], limits[0][1], limits[1][0], limits[1][1]],cmap=\"magma\")\n",
    "    cbar = ax.figure.colorbar(im, ax=ax)\n",
    "    cbar.ax.set_ylabel('Number of Hits', rotation=-90, va=\"bottom\")\n",
    "    # Arrange the ticks\n",
    "    ax.set_xticks(np.arange(-half_width,half_width,step_size_x)+(x_dim/2))\n",
    "    ax.set_yticks(np.arange(-half_height,half_height,step_size_y)+(y_dim/2))\n",
    "    ax.set_xticklabels(np.arange(0,x_num+(x_num/x_tick),(x_num/x_tick),dtype=int))\n",
    "    ax.set_yticklabels(np.arange(0,y_num+(y_num/y_tick),(y_num/y_tick),dtype=int))\n",
    "    plt.xlim(-half_width, half_width)\n",
    "    plt.ylim(-half_height, half_height)\n",
    "    plt.xlabel('Pixel Number', size=12)\n",
    "    plt.ylabel('Pixel Number', size=12)\n",
    "    plt.title(title, size=14)\n",
    "    \n",
    "    return"
   ]
  },
  {
   "cell_type": "code",
   "execution_count": 52,
   "metadata": {},
   "outputs": [
    {
     "data": {
      "image/png": "[encoded data removed]",
      "text/plain": [
       "<Figure size 1008x720 with 2 Axes>"
      ]
     },
     "metadata": {
      "needs_background": "light"
     },
     "output_type": "display_data"
    }
   ],
   "source": [
    "hit_heatmap(df_hits,5,20,'Test Map')"
   ]
  },
  {
   "cell_type": "code",
   "execution_count": 9,
   "metadata": {},
   "outputs": [],
   "source": [
    "df_ia_params = pd.DataFrame(df_events['IA'])\n",
    "#df_ia_params"
   ]
  },
  {
   "cell_type": "markdown",
   "metadata": {},
   "source": [
    "## Histograms"
   ]
  },
  {
   "cell_type": "markdown",
   "metadata": {
    "cell_style": "split"
   },
   "source": [
    "Select the variables to plot:"
   ]
  },
  {
   "cell_type": "markdown",
   "metadata": {
    "cell_style": "split"
   },
   "source": [
    "Specify number of bins for the histogram"
   ]
  },
  {
   "cell_type": "code",
   "execution_count": 10,
   "metadata": {
    "cell_style": "split"
   },
   "outputs": [
    {
     "data": {
      "application/vnd.jupyter.widget-view+json": {
       "model_id": "3409aa3c8ebe4b54a1b884a1be436b42",
       "version_major": 2,
       "version_minor": 0
      },
      "text/plain": [
       "U2VsZWN0TXVsdGlwbGUoZGVzY3JpcHRpb249dSdQYXJhbS46ICcsIGluZGV4PSgxLCksIGxheW91dD1MYXlvdXQod2lkdGg9dSc0MCUnKSwgb3B0aW9ucz0oJ1RJJywgJ0VEJywgJ0VDJywgJ07igKY=\n"
      ]
     },
     "metadata": {},
     "output_type": "display_data"
    }
   ],
   "source": [
    "param = widgets.SelectMultiple(\n",
    "    options=['TI', 'ED', 'EC', 'NS'],\n",
    "    value=['ED'],\n",
    "    description='Param.: ',\n",
    "    disabled=False,\n",
    "    layout=Layout(width='40%')\n",
    ")\n",
    "param"
   ]
  },
  {
   "cell_type": "code",
   "execution_count": 11,
   "metadata": {},
   "outputs": [
    {
     "data": {
      "text/plain": [
       "('ED',)"
      ]
     },
     "execution_count": 11,
     "metadata": {},
     "output_type": "execute_result"
    }
   ],
   "source": [
    "param.value"
   ]
  },
  {
   "cell_type": "code",
   "execution_count": 12,
   "metadata": {
    "cell_style": "split"
   },
   "outputs": [
    {
     "data": {
      "application/vnd.jupyter.widget-view+json": {
       "model_id": "a8ead2643b2046ba944cbb27b3cd638c",
       "version_major": 2,
       "version_minor": 0
      },
      "text/plain": [
       "IntText(value=100, description=u'# on bins', layout=Layout(width=u'40%'))"
      ]
     },
     "metadata": {},
     "output_type": "display_data"
    }
   ],
   "source": [
    "nbins = widgets.IntText(\n",
    "    value=100,\n",
    "    description='# on bins',\n",
    "    disabled=False,\n",
    "    layout=Layout(width='40%')\n",
    ")\n",
    "nbins"
   ]
  },
  {
   "cell_type": "code",
   "execution_count": null,
   "metadata": {},
   "outputs": [
    {
     "name": "stderr",
     "output_type": "stream",
     "text": [
      "/opt/anaconda2/lib/python2.7/site-packages/matplotlib/axes/_base.py:3471: UserWarning: Attempting to set identical bottom==top results\n",
      "in singular transformations; automatically expanding.\n",
      "bottom=1.0, top=1.0\n",
      "  'bottom=%s, top=%s') % (bottom, top))\n"
     ]
    }
   ],
   "source": [
    "if len(param.value) > 1:\n",
    "    fig, axs = plt.subplots(nrows=1, ncols=len(param.value), figsize=(21,4))\n",
    "    for i, p in enumerate(param.value):\n",
    "        axs[i].hist(np.array(df_events[p]), bins=nbins.value, alpha=0.8,\n",
    "                   label='%i evts'%len(df_events[p]))\n",
    "        axs[i].set_title(p, size=17)\n",
    "        axs[i].set_xlabel('%s units'%p, size=15)\n",
    "        axs[i].set_ylabel('Number of counts', size=15)\n",
    "        axs[i].set_yscale('log')\n",
    "        axs[i].legend(fontsize=15)\n",
    "    plt.show()\n",
    "else:\n",
    "    plt.figure(figsize=(7,5))\n",
    "    plt.hist(np.array(df_events[param.value[0]]), bins=nbins.value, alpha=0.8, \n",
    "             label='%i evts'%len(df_events[param.value[0]]))\n",
    "    plt.title(param.value[0], size=17)\n",
    "    plt.xlabel('%s units'%param.value[0], size=15)\n",
    "    plt.ylabel('Number of counts', size=15)\n",
    "    plt.yscale('log')\n",
    "    plt.legend(fontsize=15)\n",
    "    plt.show()"
   ]
  },
  {
   "cell_type": "markdown",
   "metadata": {},
   "source": [
    "## Energy deposit in subsystems"
   ]
  },
  {
   "cell_type": "code",
   "execution_count": 21,
   "metadata": {},
   "outputs": [],
   "source": [
    "df_hit = pd.DataFrame(hit_info)\n",
    "df_hit\n"
   ]
  },
  {
   "cell_type": "markdown",
   "metadata": {},
   "source": [
    "Select the subsystem(s) you want:"
   ]
  },
  {
   "cell_type": "code",
   "execution_count": 1,
   "metadata": {
    "cell_style": "split"
   },
   "outputs": [
    {
     "ename": "NameError",
     "evalue": "name 'widgets' is not defined",
     "output_type": "error",
     "traceback": [
      "\u001b[0;31m---------------------------------------------------------------------------\u001b[0m",
      "\u001b[0;31mNameError\u001b[0m                                 Traceback (most recent call last)",
      "\u001b[0;32m<ipython-input-1-99ab2473a9b9>\u001b[0m in \u001b[0;36m<module>\u001b[0;34m()\u001b[0m\n\u001b[0;32m----> 1\u001b[0;31m subsys = widgets.SelectMultiple(\n\u001b[0m\u001b[1;32m      2\u001b[0m     \u001b[0moptions\u001b[0m\u001b[0;34m=\u001b[0m\u001b[0mlist\u001b[0m\u001b[0;34m(\u001b[0m\u001b[0mnp\u001b[0m\u001b[0;34m.\u001b[0m\u001b[0munique\u001b[0m\u001b[0;34m(\u001b[0m\u001b[0mdf_hit\u001b[0m\u001b[0;34m[\u001b[0m\u001b[0;34m'DetID'\u001b[0m\u001b[0;34m]\u001b[0m\u001b[0;34m)\u001b[0m\u001b[0;34m)\u001b[0m\u001b[0;34m,\u001b[0m\u001b[0;34m\u001b[0m\u001b[0m\n\u001b[1;32m      3\u001b[0m     \u001b[0mvalue\u001b[0m\u001b[0;34m=\u001b[0m\u001b[0;34m[\u001b[0m\u001b[0;36m1\u001b[0m\u001b[0;34m]\u001b[0m\u001b[0;34m,\u001b[0m\u001b[0;34m\u001b[0m\u001b[0m\n\u001b[1;32m      4\u001b[0m     \u001b[0mdescription\u001b[0m\u001b[0;34m=\u001b[0m\u001b[0;34m'Param: '\u001b[0m\u001b[0;34m,\u001b[0m\u001b[0;34m\u001b[0m\u001b[0m\n\u001b[1;32m      5\u001b[0m     \u001b[0mdisabled\u001b[0m\u001b[0;34m=\u001b[0m\u001b[0mFalse\u001b[0m\u001b[0;34m,\u001b[0m\u001b[0;34m\u001b[0m\u001b[0m\n",
      "\u001b[0;31mNameError\u001b[0m: name 'widgets' is not defined"
     ]
    }
   ],
   "source": [
    "subsys = widgets.SelectMultiple(\n",
    "    options=list(np.unique(df_hit['DetID'])),\n",
    "    value=[1],\n",
    "    description='Param: ',\n",
    "    disabled=False,\n",
    "    layout=Layout(width='30%', height='90%')\n",
    ")\n",
    "subsys"
   ]
  },
  {
   "cell_type": "code",
   "execution_count": 15,
   "metadata": {
    "cell_style": "split"
   },
   "outputs": [
    {
     "data": {
      "application/vnd.jupyter.widget-view+json": {
       "model_id": "4854fe88faf647a09ba2162c750233a1",
       "version_major": 2,
       "version_minor": 0
      },
      "text/plain": [
       "IntText(value=100, description='# on bins', layout=Layout(width='40%'))"
      ]
     },
     "metadata": {},
     "output_type": "display_data"
    }
   ],
   "source": [
    "nbins2 = widgets.IntText(\n",
    "    value=100,\n",
    "    description='# on bins',\n",
    "    disabled=False,\n",
    "    layout=Layout(width='40%')\n",
    ")\n",
    "nbins2"
   ]
  },
  {
   "cell_type": "code",
   "execution_count": 58,
   "metadata": {},
   "outputs": [],
   "source": [
    "#df_hit_sub = df_hit.loc[df_hit['DetID'] == 2]\n",
    "#df_hit_sub"
   ]
  },
  {
   "cell_type": "code",
   "execution_count": 70,
   "metadata": {},
   "outputs": [
    {
     "data": {
      "image/png": "[encoded data removed]",
      "text/plain": [
       "<Figure size 1512x288 with 3 Axes>"
      ]
     },
     "metadata": {
      "needs_background": "light"
     },
     "output_type": "display_data"
    }
   ],
   "source": [
    "detIDdict = DetectorIDdict()\n",
    "if len(subsys.value) > 1:\n",
    "    fig, axs = plt.subplots(nrows=1, ncols=len(subsys.value), figsize=(21,4))\n",
    "    for i, s in enumerate(subsys.value):\n",
    "        df_hit_sub = df_hit.loc[df_hit['DetID'] == s]\n",
    "        axs[i].hist(np.array(df_hit_sub['EnDep']), bins=nbins2.value, color='teal', alpha=0.8,\n",
    "                    label='%i evts'%len(df_hit_sub))\n",
    "        axs[i].set_title('Energy Deposit in %s'%detIDdict[str(s)], size=16)\n",
    "        axs[i].set_xlabel('Energy [keV]', size=15)\n",
    "        axs[i].set_ylabel('Number of counts', size=15)\n",
    "        axs[i].set_yscale('log')\n",
    "        axs[i].legend(fontsize=15)\n",
    "    plt.show()\n",
    "else:\n",
    "    plt.figure(figsize=(7,5))\n",
    "    df_hit_sub = df_hit.loc[df_hit['DetID'] == subsys.value[0]]\n",
    "    plt.hist(np.array(df_hit_sub['EnDep']), bins=nbins2.value, color='teal', alpha=0.8,\n",
    "            label='%i evts'%len(df_hit_sub))\n",
    "    plt.title('Energy Deposit in subsystem %s'%detIDdict[str(subsys.value[0])], size=16)\n",
    "    plt.xlabel('Energy [keV]', size=15)\n",
    "    plt.ylabel('Number of counts', size=15)\n",
    "    plt.yscale('log')\n",
    "    plt.legend(fontsize=15)\n",
    "    plt.show()"
   ]
  },
  {
   "cell_type": "markdown",
   "metadata": {},
   "source": [
    "## Hit distribution along the axes in the MEGA style calorimeter"
   ]
  },
  {
   "cell_type": "code",
   "execution_count": 30,
   "metadata": {
    "scrolled": true
   },
   "outputs": [
    {
     "data": {
      "image/png": "[encoded data removed]",
      "text/plain": [
       "<Figure size 504x360 with 1 Axes>"
      ]
     },
     "metadata": {
      "needs_background": "light"
     },
     "output_type": "display_data"
    },
    {
     "data": {
      "image/png": "[encoded data removed]",
      "text/plain": [
       "<Figure size 504x360 with 1 Axes>"
      ]
     },
     "metadata": {
      "needs_background": "light"
     },
     "output_type": "display_data"
    },
    {
     "data": {
      "image/png": "[encoded data removed]",
      "text/plain": [
       "<Figure size 504x360 with 1 Axes>"
      ]
     },
     "metadata": {
      "needs_background": "light"
     },
     "output_type": "display_data"
    }
   ],
   "source": [
    "plt.figure(figsize=(7,5))\n",
    "df_hit_sub = df_hit.loc[df_hit['DetID'] == 2]\n",
    "plt.hist(np.array(df_hit_sub['HitX']), bins=nbins2.value, color='teal', alpha=0.8,\n",
    "            label='%i evts'%len(df_hit_sub))\n",
    "plt.title('x axis hit distribution %s'%detIDdict[str(subsys.value[0])], size=16)\n",
    "plt.xlabel('x [cm]', size=15)\n",
    "plt.ylabel('Number of counts', size=15)\n",
    "plt.yscale('log')\n",
    "plt.legend(fontsize=15)\n",
    "\n",
    "plt.figure(figsize=(7,5))\n",
    "df_hit_sub = df_hit.loc[df_hit['DetID'] == 2]\n",
    "plt.hist(np.array(df_hit_sub['HitY']), bins=nbins2.value, color='teal', alpha=0.8,\n",
    "            label='%i evts'%len(df_hit_sub))\n",
    "plt.title('y axis hit distribution %s'%detIDdict[str(subsys.value[0])], size=16)\n",
    "plt.xlabel('y [cm]', size=15)\n",
    "plt.ylabel('Number of counts', size=15)\n",
    "plt.yscale('log')\n",
    "plt.legend(fontsize=15)\n",
    "\n",
    "plt.figure(figsize=(7,5))\n",
    "df_hit_sub = df_hit.loc[df_hit['DetID'] == 2]\n",
    "plt.hist(np.array(df_hit_sub['HitZ']), bins=nbins2.value, color='teal', alpha=0.8,\n",
    "            label='%i evts'%len(df_hit_sub))\n",
    "plt.title('z axis hit distribution %s'%detIDdict[str(subsys.value[0])], size=16)\n",
    "plt.xlabel('z [cm]', size=15)\n",
    "plt.ylabel('Number of counts', size=15)\n",
    "plt.yscale('log')\n",
    "plt.legend(fontsize=15)\n",
    "\n",
    "plt.show()"
   ]
  },
  {
   "cell_type": "markdown",
   "metadata": {},
   "source": [
    "## Plot of the efficiency"
   ]
  },
  {
   "cell_type": "code",
   "execution_count": 77,
   "metadata": {},
   "outputs": [
    {
     "data": {
      "image/png": "[encoded data removed]",
      "text/plain": [
       "<Figure size 432x288 with 1 Axes>"
      ]
     },
     "metadata": {
      "needs_background": "light"
     },
     "output_type": "display_data"
    }
   ],
   "source": [
    "tot_sim_evt = 100000\n",
    "trigg_evt = np.array([24578, 21389, 26002, 33557, 44086])\n",
    "trigg_p100 = trigg_evt/tot_sim_evt\n",
    "energy = np.array([1, 2, 5, 10, 30])\n",
    "\n",
    "plt.figure()\n",
    "plt.plot(energy, trigg_p100, 'o-', color='lightcoral')\n",
    "plt.xscale('log')\n",
    "plt.ylim(0, 1)\n",
    "plt.\n",
    "plt.xlabel('Energy [MeV]')\n",
    "plt.show()"
   ]
  },
  {
   "cell_type": "code",
   "execution_count": null,
   "metadata": {},
   "outputs": [],
   "source": []
  }
 ],
 "metadata": {
  "hide_input": false,
  "kernelspec": {
   "display_name": "Python 3",
   "language": "python",
   "name": "python3"
  },
  "language_info": {
   "codemirror_mode": {
    "name": "ipython",
    "version": 3
   },
   "file_extension": ".py",
   "mimetype": "text/x-python",
   "name": "python",
   "nbconvert_exporter": "python",
   "pygments_lexer": "ipython3",
   "version": "3.7.4"
  },
  "latex_envs": {
   "LaTeX_envs_menu_present": true,
   "autoclose": false,
   "autocomplete": true,
   "bibliofile": "biblio.bib",
   "cite_by": "apalike",
   "current_citInitial": 1,
   "eqLabelWithNumbers": true,
   "eqNumInitial": 1,
   "hotkeys": {
    "equation": "Ctrl-E",
    "itemize": "Ctrl-I"
   },
   "labels_anchors": false,
   "latex_user_defs": false,
   "report_style_numbering": false,
   "user_envs_cfg": false
  },
  "toc": {
   "base_numbering": 1,
   "nav_menu": {},
   "number_sections": true,
   "sideBar": true,
   "skip_h1_title": false,
   "title_cell": "Table of Contents",
   "title_sidebar": "Contents",
   "toc_cell": false,
   "toc_position": {
    "height": "728px",
    "left": "303px",
    "top": "165.6666259765625px",
    "width": "315.3333435058594px"
   },
   "toc_section_display": true,
   "toc_window_display": true
  },
  "varInspector": {
   "cols": {
    "lenName": 16,
    "lenType": 16,
    "lenVar": 40
   },
   "kernels_config": {
    "python": {
     "delete_cmd_postfix": "",
     "delete_cmd_prefix": "del ",
     "library": "var_list.py",
     "varRefreshCmd": "print(var_dic_list())"
    },
    "r": {
     "delete_cmd_postfix": ") ",
     "delete_cmd_prefix": "rm(",
     "library": "var_list.r",
     "varRefreshCmd": "cat(var_dic_list()) "
    }
   },
   "types_to_exclude": [
    "module",
    "function",
    "builtin_function_or_method",
    "instance",
    "_Feature"
   ],
   "window_display": false
  }
 },
 "nbformat": 4,
 "nbformat_minor": 2
}
