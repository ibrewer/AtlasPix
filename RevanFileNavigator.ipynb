{
 "cells": [
  {
   "cell_type": "markdown",
   "metadata": {},
   "source": [
    "[![xtensor](Amego_banner.png)](https://asd.gsfc.nasa.gov/amego/)\n",
    "\n",
    "\n",
    "You can find MEGAlib basic documentation here: http://megalibtoolkit.com/home.html"
   ]
  },
  {
   "cell_type": "code",
   "execution_count": 1,
   "metadata": {},
   "outputs": [],
   "source": [
    "import os\n",
    "import numpy as np\n",
    "import pandas as pd\n",
    "import ipywidgets as widgets\n",
    "import matplotlib.pyplot as plt\n",
    "from IPython.display import display, HTML\n",
    "from ipywidgets import Layout, interactive\n",
    "\n",
    "from gwidgets import SelectFilesButton\n",
    "from revanParsing import RevFileParser_general, RevFileParser_events\n",
    "from gParsing import DetectorIDdict"
   ]
  },
  {
   "cell_type": "markdown",
   "metadata": {},
   "source": [
    "# Upload your .tra file "
   ]
  },
  {
   "cell_type": "markdown",
   "metadata": {
    "hide_input": true
   },
   "source": [
    "Browse the simulated file (.tra file by revan run):"
   ]
  },
  {
   "cell_type": "code",
   "execution_count": 2,
   "metadata": {
    "cell_style": "split",
    "hide_input": false,
    "scrolled": false
   },
   "outputs": [
    {
     "data": {
      "application/vnd.jupyter.widget-view+json": {
       "model_id": "0535607c7f4c4fa6beb5f5d87ee04272",
       "version_major": 2,
       "version_minor": 0
      },
      "text/plain": [
       "SelectFilesButton(description='Select Files', icon='square-o', style=ButtonStyle(button_color='gray'))"
      ]
     },
     "metadata": {},
     "output_type": "display_data"
    }
   ],
   "source": [
    "browse_file = SelectFilesButton()\n",
    "browse_file"
   ]
  },
  {
   "cell_type": "code",
   "execution_count": 3,
   "metadata": {
    "cell_style": "split"
   },
   "outputs": [
    {
     "data": {
      "text/plain": [
       "'/Users/isabellabrewer/astropix/AtlasPix/different_triggers_6.inc1.id1.tra'"
      ]
     },
     "execution_count": 3,
     "metadata": {},
     "output_type": "execute_result"
    }
   ],
   "source": [
    "revan_file = browse_file.files[0]\n",
    "revan_file"
   ]
  },
  {
   "cell_type": "markdown",
   "metadata": {},
   "source": [
    "## Access the simulation main infos"
   ]
  },
  {
   "cell_type": "code",
   "execution_count": 4,
   "metadata": {},
   "outputs": [],
   "source": [
    "general_infos = RevFileParser_general(revan_file)\n",
    "df_general = pd.DataFrame(general_infos)"
   ]
  },
  {
   "cell_type": "markdown",
   "metadata": {},
   "source": [
    "Here is your dataframe:"
   ]
  },
  {
   "cell_type": "code",
   "execution_count": 5,
   "metadata": {},
   "outputs": [
    {
     "data": {
      "text/html": [
       "<div>\n",
       "<style scoped>\n",
       "    .dataframe tbody tr th:only-of-type {\n",
       "        vertical-align: middle;\n",
       "    }\n",
       "\n",
       "    .dataframe tbody tr th {\n",
       "        vertical-align: top;\n",
       "    }\n",
       "\n",
       "    .dataframe thead th {\n",
       "        text-align: right;\n",
       "    }\n",
       "</style>\n",
       "<table border=\"1\" class=\"dataframe\">\n",
       "  <thead>\n",
       "    <tr style=\"text-align: right;\">\n",
       "      <th></th>\n",
       "      <th>Version</th>\n",
       "      <th>Geometry</th>\n",
       "      <th>Date</th>\n",
       "      <th>MEGAlib</th>\n",
       "    </tr>\n",
       "  </thead>\n",
       "  <tbody>\n",
       "    <tr>\n",
       "      <td>0</td>\n",
       "      <td>1</td>\n",
       "      <td>GeometryFile</td>\n",
       "      <td>Date</td>\n",
       "      <td>2.34.01</td>\n",
       "    </tr>\n",
       "    <tr>\n",
       "      <td>1</td>\n",
       "      <td></td>\n",
       "      <td>/Users/isabellabrewer/astropix/AtlasPix/geomet...</td>\n",
       "      <td>2020-03-05</td>\n",
       "      <td></td>\n",
       "    </tr>\n",
       "    <tr>\n",
       "      <td>2</td>\n",
       "      <td></td>\n",
       "      <td></td>\n",
       "      <td>14:33:05</td>\n",
       "      <td></td>\n",
       "    </tr>\n",
       "    <tr>\n",
       "      <td>3</td>\n",
       "      <td></td>\n",
       "      <td></td>\n",
       "      <td></td>\n",
       "      <td></td>\n",
       "    </tr>\n",
       "    <tr>\n",
       "      <td>4</td>\n",
       "      <td></td>\n",
       "      <td></td>\n",
       "      <td></td>\n",
       "      <td></td>\n",
       "    </tr>\n",
       "    <tr>\n",
       "      <td>5</td>\n",
       "      <td></td>\n",
       "      <td></td>\n",
       "      <td></td>\n",
       "      <td></td>\n",
       "    </tr>\n",
       "    <tr>\n",
       "      <td>6</td>\n",
       "      <td></td>\n",
       "      <td></td>\n",
       "      <td></td>\n",
       "      <td></td>\n",
       "    </tr>\n",
       "    <tr>\n",
       "      <td>7</td>\n",
       "      <td></td>\n",
       "      <td></td>\n",
       "      <td></td>\n",
       "      <td></td>\n",
       "    </tr>\n",
       "  </tbody>\n",
       "</table>\n",
       "</div>"
      ],
      "text/plain": [
       "  Version                                           Geometry        Date  \\\n",
       "0       1                                       GeometryFile        Date   \n",
       "1          /Users/isabellabrewer/astropix/AtlasPix/geomet...  2020-03-05   \n",
       "2                                                               14:33:05   \n",
       "3                                                                          \n",
       "4                                                                          \n",
       "5                                                                          \n",
       "6                                                                          \n",
       "7                                                                          \n",
       "\n",
       "   MEGAlib  \n",
       "0  2.34.01  \n",
       "1           \n",
       "2           \n",
       "3           \n",
       "4           \n",
       "5           \n",
       "6           \n",
       "7           "
      ]
     },
     "execution_count": 5,
     "metadata": {},
     "output_type": "execute_result"
    }
   ],
   "source": [
    "df_general[['Version', 'Geometry','Date', 'MEGAlib']]"
   ]
  },
  {
   "cell_type": "markdown",
   "metadata": {},
   "source": [
    "# Plotting"
   ]
  },
  {
   "cell_type": "markdown",
   "metadata": {},
   "source": [
    "## Load simulated events with pandas"
   ]
  },
  {
   "cell_type": "code",
   "execution_count": 6,
   "metadata": {},
   "outputs": [
    {
     "name": "stdout",
     "output_type": "stream",
     "text": [
      "Trigger statistics:\n",
      "\n",
      "  Not triggered events: ..................................  40391\n",
      "\n",
      "  Number of vetoed events: ...............................      0\n",
      "\n",
      "  Number of triggered events: ............................  59609\n",
      "\n",
      "    Trg_SiPix1: ..........................................   7970\n",
      "\n",
      "    Trg_SiPix2: ..........................................  10316\n",
      "\n",
      "    Trg_SiPix3: ..........................................  15064\n",
      "\n",
      "    Trg_SiPix4: ..........................................  26259\n",
      "\n",
      "\n",
      "\n",
      "----------------------------------------------------------------------------\n",
      "\n",
      "\n",
      "\n",
      "Event statistics for all triggered (!) events:\n",
      "\n",
      "  Number of events .......................................  59609 (100.000%)\n",
      "\n",
      "  Number of events, which passed event selections ........  59609 (100.000%)\n",
      "\n",
      "  Reconstructable events .................................  59599 ( 99.983%)\n",
      "\n",
      "       Single-site  ......................................  59599 (100.000%)\n",
      "\n",
      "       Compton  ..........................................      0 (  0.000%)\n",
      "\n",
      "           Decay  ........................................      0 (  0.000%)\n",
      "\n",
      "       Pair  .............................................      0 (  0.000%)\n",
      "\n",
      "       Muon  .............................................      0 (  0.000%)\n",
      "\n",
      "\n",
      "\n",
      "Rejection reasons for not reconstructable events:\n",
      "\n",
      "  Comptel type with incompatible kinematics ..............     10\n",
      "\n",
      "    Total ................................................     10\n",
      "\n",
      "\n",
      "\n"
     ]
    },
    {
     "data": {
      "text/html": [
       "<div>\n",
       "<style scoped>\n",
       "    .dataframe tbody tr th:only-of-type {\n",
       "        vertical-align: middle;\n",
       "    }\n",
       "\n",
       "    .dataframe tbody tr th {\n",
       "        vertical-align: top;\n",
       "    }\n",
       "\n",
       "    .dataframe thead th {\n",
       "        text-align: right;\n",
       "    }\n",
       "</style>\n",
       "<table border=\"1\" class=\"dataframe\">\n",
       "  <thead>\n",
       "    <tr style=\"text-align: right;\">\n",
       "      <th></th>\n",
       "      <th>ET</th>\n",
       "      <th>ID</th>\n",
       "      <th>TI</th>\n",
       "      <th>PE</th>\n",
       "      <th>PP</th>\n",
       "    </tr>\n",
       "  </thead>\n",
       "  <tbody>\n",
       "    <tr>\n",
       "      <td>0</td>\n",
       "      <td>PH</td>\n",
       "      <td>3</td>\n",
       "      <td>7.9995e-05</td>\n",
       "      <td>24.6639</td>\n",
       "      <td>[0.0, -0.47117, 0.0]</td>\n",
       "    </tr>\n",
       "    <tr>\n",
       "      <td>1</td>\n",
       "      <td>PH</td>\n",
       "      <td>5</td>\n",
       "      <td>0.000210637</td>\n",
       "      <td>22.2012</td>\n",
       "      <td>[0.14311, -0.67167, 0.0]</td>\n",
       "    </tr>\n",
       "    <tr>\n",
       "      <td>2</td>\n",
       "      <td>PH</td>\n",
       "      <td>8</td>\n",
       "      <td>0.000422276</td>\n",
       "      <td>22.1116</td>\n",
       "      <td>[0.14311, -0.76791, 0.0]</td>\n",
       "    </tr>\n",
       "    <tr>\n",
       "      <td>3</td>\n",
       "      <td>PH</td>\n",
       "      <td>9</td>\n",
       "      <td>0.000447018</td>\n",
       "      <td>21.9337</td>\n",
       "      <td>[0.15612, -0.403, 0.0]</td>\n",
       "    </tr>\n",
       "    <tr>\n",
       "      <td>4</td>\n",
       "      <td>PH</td>\n",
       "      <td>10</td>\n",
       "      <td>0.000459897</td>\n",
       "      <td>25.6172</td>\n",
       "      <td>[-0.07806, 0.71177, 0.0]</td>\n",
       "    </tr>\n",
       "    <tr>\n",
       "      <td>...</td>\n",
       "      <td>...</td>\n",
       "      <td>...</td>\n",
       "      <td>...</td>\n",
       "      <td>...</td>\n",
       "      <td>...</td>\n",
       "    </tr>\n",
       "    <tr>\n",
       "      <td>59594</td>\n",
       "      <td>PH</td>\n",
       "      <td>99994</td>\n",
       "      <td>4.08833</td>\n",
       "      <td>24.7477</td>\n",
       "      <td>[0.09107, -0.3629, 0.0]</td>\n",
       "    </tr>\n",
       "    <tr>\n",
       "      <td>59595</td>\n",
       "      <td>PH</td>\n",
       "      <td>99995</td>\n",
       "      <td>4.08842</td>\n",
       "      <td>24.7607</td>\n",
       "      <td>[0.1301, -0.62756, 0.0]</td>\n",
       "    </tr>\n",
       "    <tr>\n",
       "      <td>59596</td>\n",
       "      <td>PH</td>\n",
       "      <td>99996</td>\n",
       "      <td>4.08845</td>\n",
       "      <td>24.8096</td>\n",
       "      <td>[0.07806, -0.75187, 0.0]</td>\n",
       "    </tr>\n",
       "    <tr>\n",
       "      <td>59597</td>\n",
       "      <td>PH</td>\n",
       "      <td>99997</td>\n",
       "      <td>4.0885</td>\n",
       "      <td>25.347</td>\n",
       "      <td>[-0.05204, 0.35889, 0.0]</td>\n",
       "    </tr>\n",
       "    <tr>\n",
       "      <td>59598</td>\n",
       "      <td>PH</td>\n",
       "      <td>99998</td>\n",
       "      <td>4.08856</td>\n",
       "      <td>25.1654</td>\n",
       "      <td>[-0.15612, -0.07819, 0.0]</td>\n",
       "    </tr>\n",
       "  </tbody>\n",
       "</table>\n",
       "<p>59599 rows × 5 columns</p>\n",
       "</div>"
      ],
      "text/plain": [
       "       ET     ID           TI       PE                         PP\n",
       "0      PH      3   7.9995e-05  24.6639       [0.0, -0.47117, 0.0]\n",
       "1      PH      5  0.000210637  22.2012   [0.14311, -0.67167, 0.0]\n",
       "2      PH      8  0.000422276  22.1116   [0.14311, -0.76791, 0.0]\n",
       "3      PH      9  0.000447018  21.9337     [0.15612, -0.403, 0.0]\n",
       "4      PH     10  0.000459897  25.6172   [-0.07806, 0.71177, 0.0]\n",
       "...    ..    ...          ...      ...                        ...\n",
       "59594  PH  99994      4.08833  24.7477    [0.09107, -0.3629, 0.0]\n",
       "59595  PH  99995      4.08842  24.7607    [0.1301, -0.62756, 0.0]\n",
       "59596  PH  99996      4.08845  24.8096   [0.07806, -0.75187, 0.0]\n",
       "59597  PH  99997       4.0885   25.347   [-0.05204, 0.35889, 0.0]\n",
       "59598  PH  99998      4.08856  25.1654  [-0.15612, -0.07819, 0.0]\n",
       "\n",
       "[59599 rows x 5 columns]"
      ]
     },
     "execution_count": 6,
     "metadata": {},
     "output_type": "execute_result"
    }
   ],
   "source": [
    "rev_events = RevFileParser_events(revan_file)\n",
    "df_events = pd.DataFrame(rev_events).T\n",
    "df_events"
   ]
  },
  {
   "cell_type": "code",
   "execution_count": 7,
   "metadata": {},
   "outputs": [
    {
     "data": {
      "text/plain": [
       "0.14311"
      ]
     },
     "execution_count": 7,
     "metadata": {},
     "output_type": "execute_result"
    }
   ],
   "source": [
    "df_events['PP'][1:2][1][0]"
   ]
  },
  {
   "cell_type": "code",
   "execution_count": 8,
   "metadata": {},
   "outputs": [],
   "source": [
    "x_hits = np.zeros(len(df_events))\n",
    "y_hits = np.zeros(len(df_events))\n",
    "e_dep = np.zeros(len(df_events))\n",
    "\n",
    "for i in range(len(df_events)):\n",
    "    x_hits[i] = float(df_events[i:i+1]['PP'][i][0])\n",
    "    y_hits[i] = float(df_events[i:i+1]['PP'][i][1])\n",
    "    e_dep[i] = float(df_events[i:i+1]['PE'][i])"
   ]
  },
  {
   "cell_type": "code",
   "execution_count": 9,
   "metadata": {},
   "outputs": [
    {
     "data": {
      "text/plain": [
       "Text(0.5, 0, 'keV')"
      ]
     },
     "execution_count": 9,
     "metadata": {},
     "output_type": "execute_result"
    },
    {
     "data": {
      "image/png": "[encoded data removed]",
      "text/plain": [
       "<Figure size 432x288 with 1 Axes>"
      ]
     },
     "metadata": {
      "needs_background": "light"
     },
     "output_type": "display_data"
    }
   ],
   "source": [
    "plt.hist(e_dep, bins=100)\n",
    "plt.title('Cd Source, Entire Detector')\n",
    "plt.ylabel('Counts')\n",
    "plt.xlabel('keV')"
   ]
  },
  {
   "cell_type": "code",
   "execution_count": 10,
   "metadata": {},
   "outputs": [],
   "source": [
    "def pixel_spectrum(hits_data, x_pixel, y_pixel):\n",
    "    \n",
    "    x_hits = np.zeros(len(df_events))\n",
    "    y_hits = np.zeros(len(df_events))\n",
    "    e_dep = np.zeros(len(df_events))\n",
    "\n",
    "    for i in range(len(df_events)):\n",
    "        x_hits[i] = float(df_events[i:i+1]['PP'][i][0])\n",
    "        y_hits[i] = float(df_events[i:i+1]['PP'][i][1])\n",
    "        e_dep[i] = float(df_events[i:i+1]['PE'][i])\n",
    "    \n",
    "    x_dim = 130*(10**-4) # x dimension of each pixel in cm\n",
    "    y_dim = 40*(10**-4) # x dimension of each pixel in cm\n",
    "    x_num = 25 # Number of pixels in the x direction\n",
    "    y_num = 400 # Number of pixels in the y direction\n",
    "    half_width = x_dim*x_num/2\n",
    "    half_height = y_dim*y_num/2\n",
    "\n",
    "    x_edge = np.zeros(x_num+1)\n",
    "    y_edge = np.zeros(y_num+1)\n",
    "\n",
    "    for i in range(x_num+1):\n",
    "        x_edge[i] = i*x_dim - half_width\n",
    "    \n",
    "    for i in range(y_num+1):\n",
    "        y_edge[i] = i*y_dim - half_height\n",
    "        \n",
    "    index = []\n",
    "    \n",
    "    for i in range(len(x_hits)):\n",
    "        if x_edge[x_pixel]<x_hits[i]<x_edge[x_pixel+1] and y_edge[y_pixel]<y_hits[i]<y_edge[y_pixel+1]:\n",
    "            index = np.append(index, i)\n",
    "\n",
    "    if len(index)==0:\n",
    "        print(\"No pixels matching this description triggered.\")\n",
    "    else:\n",
    "        print(\"There are %d total triggers.\" %(len(index)))\n",
    "        e_hits = np.zeros(len(index))\n",
    "        from matplotlib.pyplot import figure\n",
    "        figure(num=None, figsize=(10, 6))\n",
    "        for i in range(len(index)):\n",
    "            e_hits[i] = e_dep[int(index[i])]\n",
    "        plt.hist(e_hits)\n",
    "        plt.title('Energy Spectrum for Pixel %d, %d' %(x_pixel, y_pixel))\n",
    "        plt.xlabel('Energy (keV)')\n",
    "        plt.ylabel('Counts')"
   ]
  },
  {
   "cell_type": "code",
   "execution_count": 51,
   "metadata": {},
   "outputs": [
    {
     "name": "stdout",
     "output_type": "stream",
     "text": [
      "There are 19 total triggers.\n"
     ]
    },
    {
     "data": {
      "image/png": "[encoded data removed]",
      "text/plain": [
       "<Figure size 720x432 with 1 Axes>"
      ]
     },
     "metadata": {
      "needs_background": "light"
     },
     "output_type": "display_data"
    }
   ],
   "source": [
    "pixel_spectrum(df_events,11,112)"
   ]
  },
  {
   "cell_type": "code",
   "execution_count": 60,
   "metadata": {},
   "outputs": [
    {
     "ename": "NameError",
     "evalue": "name 'H' is not defined",
     "output_type": "error",
     "traceback": [
      "\u001b[0;31m---------------------------------------------------------------------------\u001b[0m",
      "\u001b[0;31mNameError\u001b[0m                                 Traceback (most recent call last)",
      "\u001b[0;32m<ipython-input-60-ae17b840c701>\u001b[0m in \u001b[0;36m<module>\u001b[0;34m\u001b[0m\n\u001b[0;32m----> 1\u001b[0;31m \u001b[0mprint\u001b[0m\u001b[0;34m(\u001b[0m\u001b[0mH\u001b[0m\u001b[0;34m[\u001b[0m\u001b[0;36m112\u001b[0m\u001b[0;34m]\u001b[0m\u001b[0;34m[\u001b[0m\u001b[0;36m11\u001b[0m\u001b[0;34m]\u001b[0m\u001b[0;34m)\u001b[0m\u001b[0;34m\u001b[0m\u001b[0;34m\u001b[0m\u001b[0m\n\u001b[0m",
      "\u001b[0;31mNameError\u001b[0m: name 'H' is not defined"
     ]
    }
   ],
   "source": [
    "print(H[112][11])"
   ]
  },
  {
   "cell_type": "code",
   "execution_count": 11,
   "metadata": {},
   "outputs": [],
   "source": [
    "def hit_positions(hits_data, x_tick, y_tick, title):\n",
    "    \"\"\"\n",
    "    \n",
    "    hits_data: Pandas dataset. --> Contains the hit locations and energies.\n",
    "               \n",
    "    x_tick: float. --> Number of ticks you want for the x axis.\n",
    "               \n",
    "    y_tick: float. --> Number of ticks you want for the y axis.\n",
    "               \n",
    "    title: string. --> Title of the plot.\n",
    "            \n",
    "    \n",
    "    \"\"\"\n",
    "    # Find the x and y position of each hit.\n",
    "    x_hits = np.zeros(len(df_events))\n",
    "    y_hits = np.zeros(len(df_events))\n",
    "\n",
    "    for i in range(len(df_events)):\n",
    "        x_hits[i] = float(df_events[i:i+1]['PP'][i][0])\n",
    "        y_hits[i] = float(df_events[i:i+1]['PP'][i][1])\n",
    "    \n",
    "    # Establish the physical parameters of the detector:\n",
    "    x_dim = 130*(10**-4) # x dimension of each pixel in cm\n",
    "    y_dim = 40*(10**-4) # x dimension of each pixel in cm\n",
    "    x_num = 25 # Number of pixels in the x direction\n",
    "    y_num = 400 # Number of pixels in the y direction\n",
    "\n",
    "    # Plot\n",
    "    from matplotlib.pyplot import figure\n",
    "    figure(num=None, figsize=(14, 10))\n",
    "    ax = plt.gca()\n",
    "    ax.set_aspect('equal', adjustable='box')\n",
    "    ax.plot(x_hits,y_hits,'.',color='blue')\n",
    "    # Arrange the ticks\n",
    "    half_width = x_dim*x_num/2\n",
    "    half_height = y_dim*y_num/2\n",
    "    ax.set_xticks((np.arange(0,x_num,5)*x_dim - half_width + (x_dim/2)))\n",
    "    ax.set_yticks((np.arange(0,y_num,20)*y_dim - half_height + (y_dim/2)))\n",
    "    ax.set_xticklabels(np.flip(np.arange(0,x_num,5)))\n",
    "    ax.set_yticklabels(np.flip(np.arange(0,y_num,20)))\n",
    "    plt.xlim(-half_width, half_width)\n",
    "    plt.ylim(-half_height, half_height)\n",
    "    plt.xlabel('Pixel Number', size=12)\n",
    "    plt.ylabel('Pixel Number', size=12)\n",
    "    plt.title(title, size=14)\n",
    "    \n",
    "    return"
   ]
  },
  {
   "cell_type": "code",
   "execution_count": 12,
   "metadata": {},
   "outputs": [
    {
     "data": {
      "image/png": "[encoded data removed]",
      "text/plain": [
       "<Figure size 1008x720 with 1 Axes>"
      ]
     },
     "metadata": {
      "needs_background": "light"
     },
     "output_type": "display_data"
    }
   ],
   "source": [
    "hit_positions(df_events,5,20,'Test Map')"
   ]
  },
  {
   "cell_type": "code",
   "execution_count": 10,
   "metadata": {},
   "outputs": [],
   "source": [
    "def hit_heatmap(hits_data, x_tick, y_tick, title):\n",
    "    \"\"\"\n",
    "    \n",
    "    hits_data: Pandas dataset. --> Contains the hit locations and energies.\n",
    "               \n",
    "    x_tick: float. --> Number of ticks you want for the x axis.\n",
    "               \n",
    "    y_tick: float. --> Number of ticks you want for the y axis.\n",
    "               \n",
    "    title: string. --> Title of the plot.\n",
    "            \n",
    "    \n",
    "    \"\"\"\n",
    "    # Find the x and y position of each hit.\n",
    "    x_hits = np.zeros(len(df_events))\n",
    "    y_hits = np.zeros(len(df_events))\n",
    "\n",
    "    for i in range(len(df_events)):\n",
    "        x_hits[i] = float(df_events[i:i+1]['PP'][i][0])\n",
    "        y_hits[i] = float(df_events[i:i+1]['PP'][i][1])\n",
    "    \n",
    "    # Establish the physical parameters of the detector:\n",
    "    x_dim = 130*(10**-4) # x dimension of each pixel in cm\n",
    "    y_dim = 40*(10**-4) # x dimension of each pixel in cm\n",
    "    x_num = 25 # Number of pixels in the x direction\n",
    "    y_num = 400 # Number of pixels in the y direction\n",
    "\n",
    "    # Plot\n",
    "    from matplotlib.pyplot import figure\n",
    "    figure(num=None, figsize=(14, 10))\n",
    "    ax = plt.gca()\n",
    "    ax.set_aspect('equal', adjustable='box')\n",
    "    half_width = x_dim*x_num/2\n",
    "    half_height = y_dim*y_num/2\n",
    "    \n",
    "    # Plot the heatmap\n",
    "    limits = [-half_width, half_width, -half_height, half_height]\n",
    "    x_edges = np.linspace(-half_width, half_width, x_num+1)\n",
    "    y_edges = np.linspace(-half_height, half_height, y_num+1)\n",
    "    \n",
    "    H, xedges, yedges = np.histogram2d(x_hits, y_hits, bins=[x_edges, y_edges])\n",
    "    H = H.T\n",
    "    im = plt.imshow(H, interpolation='nearest', origin='low', extent=[limits[0], limits[1], limits[2], limits[3]])\n",
    "    cbar = ax.figure.colorbar(im, ax=ax)\n",
    "    cbar.ax.set_ylabel('Number of Hits', rotation=-90, va=\"bottom\")\n",
    "    # Arrange the ticks\n",
    "    ax.set_xticks(np.linspace(0,24,5)*-x_dim + half_width - (x_dim/2))\n",
    "    ax.set_yticks(np.linspace(0,399,20)*-y_dim + half_height - (y_dim/2))\n",
    "    ax.set_xticklabels(np.linspace(0,24,5,dtype=int))\n",
    "    ax.set_yticklabels(np.linspace(0,399,20,dtype=int))\n",
    "    plt.xlim(-half_width, half_width)\n",
    "    plt.ylim(-half_height, half_height)\n",
    "    plt.xlabel('Pixel Number', size=12)\n",
    "    plt.ylabel('Pixel Number', size=12)\n",
    "    plt.title(title, size=14)\n",
    "    \n",
    "    return"
   ]
  },
  {
   "cell_type": "code",
   "execution_count": 11,
   "metadata": {},
   "outputs": [
    {
     "data": {
      "image/png": "[encoded data removed]",
      "text/plain": [
       "<Figure size 1008x720 with 2 Axes>"
      ]
     },
     "metadata": {
      "needs_background": "light"
     },
     "output_type": "display_data"
    }
   ],
   "source": [
    "hit_heatmap(df_events,5,20,'Different Noise w Cosima')"
   ]
  },
  {
   "cell_type": "code",
   "execution_count": null,
   "metadata": {},
   "outputs": [],
   "source": [
    "#H, xedges, yedges = np.histogram2d(x_hits, y_hits, bins=[x_edge,y_edge], range=limits)\n",
    "#H = H.T \n",
    "#im = ax.imshow(H, interpolation='nearest', extent=[limits[0][0], limits[0][1], limits[1][0], limits[1][1]])"
   ]
  },
  {
   "cell_type": "code",
   "execution_count": 22,
   "metadata": {},
   "outputs": [
    {
     "data": {
      "text/plain": [
       "array([ 0.091,  0.039, -0.013, -0.065, -0.117])"
      ]
     },
     "execution_count": 22,
     "metadata": {},
     "output_type": "execute_result"
    }
   ],
   "source": [
    "x_dim = 130*(10**-4) # x dimension of each pixel in cm\n",
    "y_dim = 40*(10**-4) # x dimension of each pixel in cm\n",
    "x_num = 25 # Number of pixels in the x direction\n",
    "y_num = 400 # Number of pixels in the y direction\n",
    "half_width = x_dim*x_num/2\n",
    "half_height = y_dim*y_num/2\n",
    "(np.arange(5,25,4)*-x_dim + half_width - (x_dim/2))"
   ]
  },
  {
   "cell_type": "code",
   "execution_count": 31,
   "metadata": {},
   "outputs": [
    {
     "data": {
      "text/plain": [
       "array([ 1.56000000e-01,  7.80000000e-02, -2.25514052e-17, -7.80000000e-02,\n",
       "       -1.56000000e-01])"
      ]
     },
     "execution_count": 31,
     "metadata": {},
     "output_type": "execute_result"
    }
   ],
   "source": [
    "np.linspace(0,24,5)*-x_dim + half_width - (x_dim/2)"
   ]
  },
  {
   "cell_type": "code",
   "execution_count": 30,
   "metadata": {},
   "outputs": [
    {
     "data": {
      "text/plain": [
       "0.156"
      ]
     },
     "execution_count": 30,
     "metadata": {},
     "output_type": "execute_result"
    }
   ],
   "source": [
    "half_width - (x_dim/2)"
   ]
  },
  {
   "cell_type": "code",
   "execution_count": 12,
   "metadata": {},
   "outputs": [
    {
     "data": {
      "text/plain": [
       "array([ 0,  6, 12, 18, 24])"
      ]
     },
     "execution_count": 12,
     "metadata": {},
     "output_type": "execute_result"
    }
   ],
   "source": [
    "np.linspace(0,24,5,dtype=int)"
   ]
  },
  {
   "cell_type": "code",
   "execution_count": null,
   "metadata": {},
   "outputs": [],
   "source": []
  }
 ],
 "metadata": {
  "hide_input": false,
  "kernelspec": {
   "display_name": "Python 3",
   "language": "python",
   "name": "python3"
  },
  "language_info": {
   "codemirror_mode": {
    "name": "ipython",
    "version": 3
   },
   "file_extension": ".py",
   "mimetype": "text/x-python",
   "name": "python",
   "nbconvert_exporter": "python",
   "pygments_lexer": "ipython3",
   "version": "3.7.4"
  },
  "latex_envs": {
   "LaTeX_envs_menu_present": true,
   "autoclose": false,
   "autocomplete": true,
   "bibliofile": "biblio.bib",
   "cite_by": "apalike",
   "current_citInitial": 1,
   "eqLabelWithNumbers": true,
   "eqNumInitial": 1,
   "hotkeys": {
    "equation": "Ctrl-E",
    "itemize": "Ctrl-I"
   },
   "labels_anchors": false,
   "latex_user_defs": false,
   "report_style_numbering": false,
   "user_envs_cfg": false
  },
  "toc": {
   "base_numbering": 1,
   "nav_menu": {},
   "number_sections": true,
   "sideBar": true,
   "skip_h1_title": false,
   "title_cell": "Table of Contents",
   "title_sidebar": "Contents",
   "toc_cell": false,
   "toc_position": {
    "height": "728px",
    "left": "303px",
    "top": "165.6666259765625px",
    "width": "315.3333435058594px"
   },
   "toc_section_display": true,
   "toc_window_display": true
  },
  "varInspector": {
   "cols": {
    "lenName": 16,
    "lenType": 16,
    "lenVar": 40
   },
   "kernels_config": {
    "python": {
     "delete_cmd_postfix": "",
     "delete_cmd_prefix": "del ",
     "library": "var_list.py",
     "varRefreshCmd": "print(var_dic_list())"
    },
    "r": {
     "delete_cmd_postfix": ") ",
     "delete_cmd_prefix": "rm(",
     "library": "var_list.r",
     "varRefreshCmd": "cat(var_dic_list()) "
    }
   },
   "types_to_exclude": [
    "module",
    "function",
    "builtin_function_or_method",
    "instance",
    "_Feature"
   ],
   "window_display": false
  }
 },
 "nbformat": 4,
 "nbformat_minor": 2
}
