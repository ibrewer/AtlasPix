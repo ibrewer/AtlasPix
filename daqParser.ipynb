{
 "cells": [
  {
   "cell_type": "markdown",
   "metadata": {},
   "source": [
    "X:\tY:\t   TS1:\t   TS2: \tTOT:FPGA_TS:  TR_CNT:  BinCounter :  \n",
    "HIT 3\t317\t1013\t63\t1\t0\t 0 25786 2026\n",
    "HIT 3\t318\t1012\t6\t8\t0\t 0 25906 2024\n",
    "HIT 3\t319\t1013\t63\t1\t0\t 0 26026 2026\n",
    "HIT 23\t338\t408\t51\t0\t0\t 0 27146 8"
   ]
  },
  {
   "cell_type": "code",
   "execution_count": 1,
   "metadata": {},
   "outputs": [],
   "source": [
    "import numpy as np\n",
    "import matplotlib.pyplot as plt\n",
    "import pandas as pd"
   ]
  },
  {
   "cell_type": "code",
   "execution_count": 2,
   "metadata": {
    "scrolled": true
   },
   "outputs": [],
   "source": [
    "data = open(\"data_blanket_no_lights_2.txt\", \"r\")\n",
    "#data_all = data.read()\n",
    "data_lines = data.readlines()\n",
    "#print(data_all[66498000:66498560])"
   ]
  },
  {
   "cell_type": "code",
   "execution_count": 5,
   "metadata": {},
   "outputs": [
    {
     "name": "stdout",
     "output_type": "stream",
     "text": [
      "X:\tY:\t   TS1:\t   TS2: \tTOT:FPGA_TS:  TR_CNT:  BinCounter :  \n",
      "TRIGGER 0 7589914\n",
      "HIT 21\t64\t767\t42\t11\t7589914\t 0 63751 1508\n",
      "TRIGGER 1 15590063\n",
      "HIT 21\t96\t767\t42\t11\t15590063\t 1 64518 847\n",
      "TRIGGER 2 23590212\n"
     ]
    }
   ],
   "source": [
    "#data = open(\"data_test_2.txt\", \"r\")\n",
    "#data_all = data.read()\n",
    "#print(data_all[0:200])"
   ]
  },
  {
   "cell_type": "code",
   "execution_count": 3,
   "metadata": {},
   "outputs": [],
   "source": [
    "daq_dataframe = {}\n",
    "X, Y, TS1, TS2, TOT = [], [], [], [], []\n",
    "unique_params = ['X', 'Y', 'TS1', 'TS2', 'TOT']\n",
    "\n",
    "for line in data_lines:\n",
    "    entry = line.strip().split()\n",
    "    if 'HIT' in line and len(entry)>8:\n",
    "        X.append(float(entry[1]))\n",
    "        Y.append(float(entry[2]))\n",
    "        TS1.append(float(entry[3]))\n",
    "        TS2.append(float(entry[4]))\n",
    "        TOT.append(float(entry[5]))"
   ]
  },
  {
   "cell_type": "code",
   "execution_count": 4,
   "metadata": {},
   "outputs": [],
   "source": [
    "for k in range(len(X)):\n",
    "    daq_dataframe[k] = {'X':X[k], 'Y':Y[k], 'TS1':TS1[k], 'TS2':TS2[k], 'TOT':TOT[k]}"
   ]
  },
  {
   "cell_type": "code",
   "execution_count": 5,
   "metadata": {},
   "outputs": [],
   "source": [
    "daq_table = pd.DataFrame(daq_dataframe)\n",
    "daq_data = daq_table.T"
   ]
  },
  {
   "cell_type": "code",
   "execution_count": 6,
   "metadata": {},
   "outputs": [
    {
     "data": {
      "text/html": [
       "<div>\n",
       "<style scoped>\n",
       "    .dataframe tbody tr th:only-of-type {\n",
       "        vertical-align: middle;\n",
       "    }\n",
       "\n",
       "    .dataframe tbody tr th {\n",
       "        vertical-align: top;\n",
       "    }\n",
       "\n",
       "    .dataframe thead th {\n",
       "        text-align: right;\n",
       "    }\n",
       "</style>\n",
       "<table border=\"1\" class=\"dataframe\">\n",
       "  <thead>\n",
       "    <tr style=\"text-align: right;\">\n",
       "      <th></th>\n",
       "      <th>X</th>\n",
       "      <th>Y</th>\n",
       "      <th>TS1</th>\n",
       "      <th>TS2</th>\n",
       "      <th>TOT</th>\n",
       "    </tr>\n",
       "  </thead>\n",
       "  <tbody>\n",
       "    <tr>\n",
       "      <td>0</td>\n",
       "      <td>1.0</td>\n",
       "      <td>217.0</td>\n",
       "      <td>76.0</td>\n",
       "      <td>13.0</td>\n",
       "      <td>4.0</td>\n",
       "    </tr>\n",
       "    <tr>\n",
       "      <td>1</td>\n",
       "      <td>20.0</td>\n",
       "      <td>104.0</td>\n",
       "      <td>598.0</td>\n",
       "      <td>16.0</td>\n",
       "      <td>6.0</td>\n",
       "    </tr>\n",
       "    <tr>\n",
       "      <td>2</td>\n",
       "      <td>7.0</td>\n",
       "      <td>395.0</td>\n",
       "      <td>974.0</td>\n",
       "      <td>58.0</td>\n",
       "      <td>1.0</td>\n",
       "    </tr>\n",
       "    <tr>\n",
       "      <td>3</td>\n",
       "      <td>13.0</td>\n",
       "      <td>81.0</td>\n",
       "      <td>103.0</td>\n",
       "      <td>18.0</td>\n",
       "      <td>6.0</td>\n",
       "    </tr>\n",
       "    <tr>\n",
       "      <td>4</td>\n",
       "      <td>7.0</td>\n",
       "      <td>396.0</td>\n",
       "      <td>974.0</td>\n",
       "      <td>62.0</td>\n",
       "      <td>5.0</td>\n",
       "    </tr>\n",
       "    <tr>\n",
       "      <td>...</td>\n",
       "      <td>...</td>\n",
       "      <td>...</td>\n",
       "      <td>...</td>\n",
       "      <td>...</td>\n",
       "      <td>...</td>\n",
       "    </tr>\n",
       "    <tr>\n",
       "      <td>1929918</td>\n",
       "      <td>20.0</td>\n",
       "      <td>302.0</td>\n",
       "      <td>963.0</td>\n",
       "      <td>61.0</td>\n",
       "      <td>5.0</td>\n",
       "    </tr>\n",
       "    <tr>\n",
       "      <td>1929919</td>\n",
       "      <td>19.0</td>\n",
       "      <td>302.0</td>\n",
       "      <td>963.0</td>\n",
       "      <td>59.0</td>\n",
       "      <td>3.0</td>\n",
       "    </tr>\n",
       "    <tr>\n",
       "      <td>1929920</td>\n",
       "      <td>20.0</td>\n",
       "      <td>303.0</td>\n",
       "      <td>964.0</td>\n",
       "      <td>56.0</td>\n",
       "      <td>0.0</td>\n",
       "    </tr>\n",
       "    <tr>\n",
       "      <td>1929921</td>\n",
       "      <td>19.0</td>\n",
       "      <td>303.0</td>\n",
       "      <td>964.0</td>\n",
       "      <td>56.0</td>\n",
       "      <td>0.0</td>\n",
       "    </tr>\n",
       "    <tr>\n",
       "      <td>1929922</td>\n",
       "      <td>3.0</td>\n",
       "      <td>283.0</td>\n",
       "      <td>590.0</td>\n",
       "      <td>13.0</td>\n",
       "      <td>4.0</td>\n",
       "    </tr>\n",
       "  </tbody>\n",
       "</table>\n",
       "<p>1929923 rows × 5 columns</p>\n",
       "</div>"
      ],
      "text/plain": [
       "            X      Y    TS1   TS2  TOT\n",
       "0         1.0  217.0   76.0  13.0  4.0\n",
       "1        20.0  104.0  598.0  16.0  6.0\n",
       "2         7.0  395.0  974.0  58.0  1.0\n",
       "3        13.0   81.0  103.0  18.0  6.0\n",
       "4         7.0  396.0  974.0  62.0  5.0\n",
       "...       ...    ...    ...   ...  ...\n",
       "1929918  20.0  302.0  963.0  61.0  5.0\n",
       "1929919  19.0  302.0  963.0  59.0  3.0\n",
       "1929920  20.0  303.0  964.0  56.0  0.0\n",
       "1929921  19.0  303.0  964.0  56.0  0.0\n",
       "1929922   3.0  283.0  590.0  13.0  4.0\n",
       "\n",
       "[1929923 rows x 5 columns]"
      ]
     },
     "execution_count": 6,
     "metadata": {},
     "output_type": "execute_result"
    }
   ],
   "source": [
    "daq_data"
   ]
  },
  {
   "cell_type": "code",
   "execution_count": 7,
   "metadata": {},
   "outputs": [],
   "source": [
    "x_val, y_val, tot = np.zeros(len(daq_data)), np.zeros(len(daq_data)), np.zeros(len(daq_data))\n",
    "\n",
    "for i in range(len(daq_data)):\n",
    "    x_val[i] = float(daq_data['X'][i:i+1][i])\n",
    "    y_val[i] = float(daq_data['Y'][i:i+1][i])\n",
    "    tot[i] = float(daq_data['TOT'][i:i+1][i])"
   ]
  },
  {
   "cell_type": "code",
   "execution_count": null,
   "metadata": {},
   "outputs": [],
   "source": []
  },
  {
   "cell_type": "code",
   "execution_count": 8,
   "metadata": {},
   "outputs": [
    {
     "data": {
      "text/plain": [
       "Text(0.5, 1.0, 'DAQ Data 0.9 V Blanket, No Light (2)')"
      ]
     },
     "execution_count": 8,
     "metadata": {},
     "output_type": "execute_result"
    },
    {
     "data": {
      "image/png": "[encoded data removed]",
      "text/plain": [
       "<Figure size 1008x720 with 2 Axes>"
      ]
     },
     "metadata": {
      "needs_background": "light"
     },
     "output_type": "display_data"
    }
   ],
   "source": [
    "# Plot heatmap\n",
    "x_num = 25\n",
    "y_num = 400\n",
    "x_dim = 130*(10**-4)\n",
    "y_dim = 40*(10**-4)\n",
    "half_width = x_num*x_dim/2\n",
    "half_height = y_num*y_dim/2\n",
    "\n",
    "x_pos, y_pos = np.zeros(len(X)), np.zeros(len(Y))\n",
    "\n",
    "for i in range(len(X)):\n",
    "    x_pos[i] = -(X[i]*x_dim) + half_width - (x_dim/2)\n",
    "    y_pos[i] = -(Y[i]*y_dim) + half_height - (y_dim/2)\n",
    "\n",
    "from matplotlib.pyplot import figure\n",
    "figure(num=None, figsize=(14, 10))\n",
    "plt.gca().set_aspect('equal', adjustable='box')\n",
    "ax = plt.gca()\n",
    "\n",
    "x_edges = np.linspace(-half_width, half_width, x_num+1)\n",
    "y_edges = np.linspace(-half_height, half_height, y_num+1)\n",
    "\n",
    "limits = [-half_width, half_width, -half_height, half_height]\n",
    "H, xedges, yedges = np.histogram2d(x_pos, y_pos, bins=[x_edges, y_edges])\n",
    "H = H.T\n",
    "im = plt.imshow(H, interpolation='nearest', origin='low', extent=[limits[0], limits[1], limits[2], limits[3]])\n",
    "cbar = ax.figure.colorbar(im, ax=ax)\n",
    "cbar.ax.set_ylabel('Hits', rotation=-90, va=\"bottom\")\n",
    "ax.set_xticks(np.linspace(0,24,5)*-x_dim + half_width - (x_dim/2))\n",
    "ax.set_yticks(np.linspace(0,399,20)*-y_dim + half_height - (y_dim/2))\n",
    "ax.set_xticklabels(np.linspace(0,24,5,dtype=int))\n",
    "ax.set_yticklabels(np.linspace(0,399,20,dtype=int))\n",
    "\n",
    "plt.ylabel('Pixel Number')\n",
    "plt.xlabel('Pixel Number')\n",
    "plt.title('DAQ Data 0.9 V Blanket, No Light (2)')"
   ]
  },
  {
   "cell_type": "code",
   "execution_count": 10,
   "metadata": {},
   "outputs": [
    {
     "data": {
      "text/plain": [
       "Text(0.5, 1.0, 'DAQ Hits Data')"
      ]
     },
     "execution_count": 10,
     "metadata": {},
     "output_type": "execute_result"
    },
    {
     "data": {
      "image/png": "[encoded data removed]",
      "text/plain": [
       "<Figure size 1008x720 with 1 Axes>"
      ]
     },
     "metadata": {
      "needs_background": "light"
     },
     "output_type": "display_data"
    }
   ],
   "source": [
    "# Plot hit map\n",
    "\n",
    "from matplotlib.pyplot import figure\n",
    "figure(num=None, figsize=(14, 10))\n",
    "\n",
    "ax = plt.gca()\n",
    "ax.set_aspect('equal', adjustable='box')\n",
    "plt.plot(x_pos[0:5000], y_pos[0:5000], '.', color='blue')\n",
    "plt.xlim(-half_width, half_width)\n",
    "plt.ylim(-half_height, half_height)\n",
    "\n",
    "ax.set_xticks((np.arange(0,x_num,5)*x_dim - half_width + (x_dim/2)))\n",
    "ax.set_yticks((np.arange(0,y_num,20)*y_dim - half_height + (y_dim/2)))\n",
    "ax.set_xticklabels(np.arange(0,x_num,5))\n",
    "ax.set_yticklabels(np.arange(0,y_num,20))\n",
    "\n",
    "plt.ylabel('Pixel Number')\n",
    "plt.xlabel('Pixel Number')\n",
    "plt.title('DAQ Hits Data')"
   ]
  },
  {
   "cell_type": "code",
   "execution_count": 37,
   "metadata": {},
   "outputs": [
    {
     "data": {
      "text/plain": [
       "1930696"
      ]
     },
     "execution_count": 37,
     "metadata": {},
     "output_type": "execute_result"
    }
   ],
   "source": [
    "len(x_pos)"
   ]
  },
  {
   "cell_type": "code",
   "execution_count": 45,
   "metadata": {},
   "outputs": [
    {
     "data": {
      "text/plain": [
       "3.0"
      ]
     },
     "execution_count": 45,
     "metadata": {},
     "output_type": "execute_result"
    }
   ],
   "source": [
    "daq_data['X'][1:2][1]"
   ]
  },
  {
   "cell_type": "code",
   "execution_count": 11,
   "metadata": {},
   "outputs": [
    {
     "data": {
      "text/plain": [
       "<BarContainer object of 13 artists>"
      ]
     },
     "execution_count": 11,
     "metadata": {},
     "output_type": "execute_result"
    },
    {
     "data": {
      "image/png": "[encoded data removed]",
      "text/plain": [
       "<Figure size 432x288 with 1 Axes>"
      ]
     },
     "metadata": {
      "needs_background": "light"
     },
     "output_type": "display_data"
    }
   ],
   "source": [
    "bins = np.linspace(0,15,14)\n",
    "fit_hist, bins_1 = np.histogram(tot, bins=bins)\n",
    "bins_2 = np.array([bins[i] for i in range(len(bins)-1)])\n",
    "plt.bar(bins_2, fit_hist, width=bins[1] - bins[0], color='blue')"
   ]
  },
  {
   "cell_type": "code",
   "execution_count": 50,
   "metadata": {},
   "outputs": [],
   "source": [
    "TS1_val, TS2_val = np.zeros(len(daq_data)), np.zeros(len(daq_data))\n",
    "\n",
    "for i in range(len(daq_data)):\n",
    "    TS1_val[i] = float(daq_data['TS1'][i:i+1][i])\n",
    "    TS2_val[i] = float(daq_data['TS2'][i:i+1][i])"
   ]
  },
  {
   "cell_type": "code",
   "execution_count": 58,
   "metadata": {},
   "outputs": [
    {
     "data": {
      "text/plain": [
       "(array([1.0000e+00, 2.4000e+01, 1.2657e+04, 2.7977e+04, 3.0431e+04,\n",
       "        2.8277e+04, 2.8288e+04, 2.8047e+04, 3.0367e+04, 2.8171e+04,\n",
       "        2.7922e+04, 2.8036e+04, 2.9489e+04, 2.7959e+04, 2.8131e+04,\n",
       "        2.8091e+04, 3.0136e+04, 2.8140e+04, 2.7886e+04, 2.7790e+04,\n",
       "        3.0422e+04, 2.8022e+04, 2.8345e+04, 2.7863e+04, 2.9915e+04,\n",
       "        2.7824e+04, 2.8311e+04, 2.8343e+04, 3.0303e+04, 2.7881e+04,\n",
       "        2.7556e+04, 2.7044e+04, 2.7114e+04, 2.0137e+04, 1.4659e+04,\n",
       "        1.0006e+04, 4.4570e+03, 3.5340e+03, 8.4990e+03, 1.4364e+04,\n",
       "        2.0106e+04, 2.6427e+04, 2.7958e+04, 2.7886e+04, 3.0499e+04,\n",
       "        2.7643e+04, 2.7955e+04, 2.7616e+04, 3.0150e+04, 2.8227e+04,\n",
       "        2.8169e+04, 2.8311e+04, 3.0008e+04, 2.8183e+04, 2.8409e+04,\n",
       "        2.7690e+04, 3.0258e+04, 2.7791e+04, 2.8027e+04, 2.7782e+04,\n",
       "        3.0231e+04, 2.8201e+04, 2.8006e+04, 2.7907e+04, 2.9868e+04,\n",
       "        2.7599e+04, 2.7743e+04, 2.8085e+04, 2.9970e+04, 2.7711e+04,\n",
       "        2.6670e+04, 2.3713e+04, 1.9635e+04, 1.2345e+04, 8.8550e+03,\n",
       "        2.2900e+03, 5.5390e+03, 1.0998e+04, 1.6299e+04, 1.6516e+04]),\n",
       " array([ -37.  ,  -23.75,  -10.5 ,    2.75,   16.  ,   29.25,   42.5 ,\n",
       "          55.75,   69.  ,   82.25,   95.5 ,  108.75,  122.  ,  135.25,\n",
       "         148.5 ,  161.75,  175.  ,  188.25,  201.5 ,  214.75,  228.  ,\n",
       "         241.25,  254.5 ,  267.75,  281.  ,  294.25,  307.5 ,  320.75,\n",
       "         334.  ,  347.25,  360.5 ,  373.75,  387.  ,  400.25,  413.5 ,\n",
       "         426.75,  440.  ,  453.25,  466.5 ,  479.75,  493.  ,  506.25,\n",
       "         519.5 ,  532.75,  546.  ,  559.25,  572.5 ,  585.75,  599.  ,\n",
       "         612.25,  625.5 ,  638.75,  652.  ,  665.25,  678.5 ,  691.75,\n",
       "         705.  ,  718.25,  731.5 ,  744.75,  758.  ,  771.25,  784.5 ,\n",
       "         797.75,  811.  ,  824.25,  837.5 ,  850.75,  864.  ,  877.25,\n",
       "         890.5 ,  903.75,  917.  ,  930.25,  943.5 ,  956.75,  970.  ,\n",
       "         983.25,  996.5 , 1009.75, 1023.  ]),\n",
       " <a list of 80 Patch objects>)"
      ]
     },
     "execution_count": 58,
     "metadata": {},
     "output_type": "execute_result"
    },
    {
     "data": {
      "image/png": "[encoded data removed]",
      "text/plain": [
       "<Figure size 432x288 with 1 Axes>"
      ]
     },
     "metadata": {
      "needs_background": "light"
     },
     "output_type": "display_data"
    }
   ],
   "source": [
    "tot_stamps = np.zeros(len(daq_data))\n",
    "\n",
    "for i in range(len(daq_data)):\n",
    "    tot_stamps[i] = TS1_val[i] - TS2_val[i]\n",
    "    \n",
    "plt.hist(tot_stamps, bins=80)"
   ]
  },
  {
   "attachments": {
    "image.png": {
     "image/png": "[encoded data removed]"
    }
   },
   "cell_type": "markdown",
   "metadata": {},
   "source": [
    "pulse generator @ 1 V, pulse height at 0.5 V:\n",
    "![image.png](attachment:image.png)"
   ]
  },
  {
   "cell_type": "code",
   "execution_count": null,
   "metadata": {},
   "outputs": [],
   "source": []
  }
 ],
 "metadata": {
  "kernelspec": {
   "display_name": "Python 3",
   "language": "python",
   "name": "python3"
  },
  "language_info": {
   "codemirror_mode": {
    "name": "ipython",
    "version": 3
   },
   "file_extension": ".py",
   "mimetype": "text/x-python",
   "name": "python",
   "nbconvert_exporter": "python",
   "pygments_lexer": "ipython3",
   "version": "3.7.4"
  }
 },
 "nbformat": 4,
 "nbformat_minor": 2
}
